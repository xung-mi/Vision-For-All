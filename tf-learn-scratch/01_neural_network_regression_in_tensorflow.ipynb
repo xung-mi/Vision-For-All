{
  "cells": [
    {
      "cell_type": "markdown",
      "metadata": {
        "colab_type": "text",
        "id": "view-in-github"
      },
      "source": [
        "<a href=\"https://colab.research.google.com/github/mrdbourke/tensorflow-deep-learning/blob/main/01_neural_network_regression_in_tensorflow.ipynb\" target=\"_parent\"><img src=\"https://colab.research.google.com/assets/colab-badge.svg\" alt=\"Open In Colab\"/></a>"
      ]
    },
    {
      "cell_type": "markdown",
      "metadata": {
        "id": "UPgo18-N1gSi"
      },
      "source": [
        "# 01. Neural Network Regression with TensorFlow\n",
        "\n",
        "- Regression is that predict a number.\n",
        "\n",
        "For example, you might want to:\n",
        "- Predict the selling price of houses given information about them (such as number of rooms, size, number of bathrooms).\n",
        "- Predict the coordinates of a bounding box of an item in an image.\n",
        "- Predict the cost of medical insurance for an individual given their demographics (age, sex, gender, race).\n",
        "\n",
        "## What we're going to cover\n",
        "\n",
        "Specifically, we're going to go through doing the following with TensorFlow:\n",
        "- Architecture of a regression model\n",
        "- Input shapes and output shapes\n",
        "  - `X`: features/data (inputs)\n",
        "  - `y`: labels (outputs)\n",
        "- Creating custom data to view and fit\n",
        "- Steps in modelling\n",
        "  - Creating a model\n",
        "  - Compiling a model\n",
        "    - Defining a loss function\n",
        "    - Setting up an optimizer\n",
        "    - Creating evaluation metrics\n",
        "  - Fitting a model (getting it to find patterns in our data)\n",
        "- Evaluating a model\n",
        "  - Visualizng the model (\"visualize, visualize, visualize\")\n",
        "  - Looking at training curves\n",
        "  - Compare predictions to ground truth (using our evaluation metrics)\n",
        "- Saving a model (so we can use it later)\n",
        "- Loading a model\n",
        "\n",
        "Don't worry if none of these make sense now, we're going to go through each."
      ]
    },
    {
      "cell_type": "markdown",
      "metadata": {
        "id": "etAu7oCZ8r_G"
      },
      "source": [
        "## Typical architecture of a regresison neural network\n",
        "\n",
        "The word *typical* is on purpose.\n",
        "But the following is a generic setup for ingesting a collection of numbers, finding patterns in them and then outputting some kind of target number.\n",
        "\n",
        "Yes, the previous sentence is vague but we'll see this in action shortly.\n",
        "\n",
        "| **Hyperparameter** | **Typical value** |\n",
        "| --- | --- |\n",
        "| Input layer shape | Same shape as number of features (e.g. 3 for # bedrooms, # bathrooms, # car spaces in housing price prediction) |\n",
        "| Hidden layer(s) | Problem specific, minimum = 1, maximum = unlimited |\n",
        "| Neurons per hidden layer | Problem specific, generally 10 to 100 |\n",
        "| Output layer shape | Same shape as desired prediction shape (e.g. 1 for house price) |\n",
        "| Hidden activation | Usually [ReLU](https://www.kaggle.com/dansbecker/rectified-linear-units-relu-in-deep-learning) (rectified linear unit) |\n",
        "| Output activation | None, ReLU, logistic/tanh |\n",
        "| Loss function | [MSE](https://en.wikipedia.org/wiki/Mean_squared_error) (mean square error) or [MAE](https://en.wikipedia.org/wiki/Mean_absolute_error) (mean absolute error)/Huber (combination of MAE/MSE) if outliers |\n",
        "| Optimizer | [SGD](https://www.tensorflow.org/api_docs/python/tf/keras/optimizers/SGD) (stochastic gradient descent), [Adam](https://www.tensorflow.org/api_docs/python/tf/keras/optimizers/Adam) |\n",
        "\n",
        "> 🔑 **Note:** A **hyperparameter** in machine learning is something a data analyst or developer can set themselves, where as a **parameter** usually describes something a model learns on its own (a value not explicitly set by an analyst)."
      ]
    },
    {
      "cell_type": "code",
      "execution_count": 1,
      "metadata": {
        "colab": {
          "base_uri": "https://localhost:8080/"
        },
        "id": "FMqsqKpk7TrH",
        "outputId": "71dcbb23-77b4-4032-9392-d8f93ee8262a"
      },
      "outputs": [
        {
          "name": "stdout",
          "output_type": "stream",
          "text": [
            "2.10.1\n",
            "Notebook last run (end-to-end): 2025-04-06 16:36:58.952532\n"
          ]
        }
      ],
      "source": [
        "import tensorflow as tf\n",
        "print(tf.__version__) # check the version (should be 2.x+)\n",
        "\n",
        "import datetime\n",
        "print(f\"Notebook last run (end-to-end): {datetime.datetime.now()}\")"
      ]
    },
    {
      "cell_type": "markdown",
      "metadata": {
        "id": "8clMYxrF6Mzv"
      },
      "source": [
        "## Creating data to view and fit\n",
        "\n",
        "Since we're working on a **regression problem** (predicting a number) let's create some linear data (a straight line) to model."
      ]
    },
    {
      "cell_type": "code",
      "execution_count": 7,
      "metadata": {
        "colab": {
          "base_uri": "https://localhost:8080/",
          "height": 435
        },
        "id": "G43tWFof6i7T",
        "outputId": "6ccaf308-ea75-4fc6-c049-60587705204e"
      },
      "outputs": [
        {
          "data": {
            "image/png": "[encoded data removed]",
            "text/plain": [
              "<Figure size 640x480 with 1 Axes>"
            ]
          },
          "metadata": {},
          "output_type": "display_data"
        }
      ],
      "source": [
        "import numpy as np\n",
        "import matplotlib.pyplot as plt   \n",
        "\n",
        "# Create features\n",
        "X = np.array([-7.0, -4.0, -1.0, 2.0, 5.0, 8.0, 11.0, 14.0])\n",
        "\n",
        "# Create labels\n",
        "y = np.array([3.0, 6.0, 9.0, 12.0, 15.0, 18.0, 21.0, 24.0])\n",
        "\n",
        "# Visualize it\n",
        "plt.scatter(X, y);"
      ]
    },
    {
      "cell_type": "markdown",
      "metadata": {
        "id": "9ONZF8un7_xy"
      },
      "source": [
        "Before we do any modelling, can you calculate the pattern between `X` and `y`?\n",
        "\n",
        "For example, say I asked you, based on this data what the `y` value would be if `X` was 17.0?\n",
        "\n",
        "Or how about if `X` was -10.0?\n",
        "\n",
        "This kind of pattern discovery is the essence of what we'll be building neural networks to do for us."
      ]
    },
    {
      "cell_type": "markdown",
      "metadata": {
        "id": "zNCXxHnF6jjZ"
      },
      "source": [
        "## Regression input shapes and output shapes\n",
        "\n",
        "One of the most important concepts when working with neural networks are the input and output shapes.\n",
        "\n",
        "The **input shape** is the shape of your data that goes into the model.\n",
        "\n",
        "The **output shape** is the shape of your data you want to come out of your model.\n",
        "\n",
        "These will differ depending on the problem you're working on.\n",
        "\n",
        "Neural networks accept numbers and output numbers. These numbers are typically represented as tensors (or arrays).\n",
        "\n",
        "Before, we created data using NumPy arrays, but we could do the same with tensors."
      ]
    },
    {
      "cell_type": "code",
      "execution_count": 8,
      "metadata": {
        "colab": {
          "base_uri": "https://localhost:8080/"
        },
        "id": "XrXQ3m0prWXa",
        "outputId": "023e18d3-1c67-4802-c52b-006649b7321f"
      },
      "outputs": [
        {
          "data": {
            "text/plain": [
              "(<tf.Tensor: shape=(3,), dtype=string, numpy=array([b'bedroom', b'bathroom', b'garage'], dtype=object)>,\n",
              " <tf.Tensor: shape=(1,), dtype=int32, numpy=array([939700])>)"
            ]
          },
          "execution_count": 8,
          "metadata": {},
          "output_type": "execute_result"
        }
      ],
      "source": [
        "# Example input and output shapes of a regression model\n",
        "house_info = tf.constant([\"bedroom\", \"bathroom\", \"garage\"])\n",
        "house_price = tf.constant([939700])\n",
        "house_info, house_price"
      ]
    },
    {
      "cell_type": "code",
      "execution_count": 9,
      "metadata": {
        "colab": {
          "base_uri": "https://localhost:8080/"
        },
        "id": "Yi3VWKH6sRrZ",
        "outputId": "cc06303a-00fd-4eb1-b7a7-c4dd8c5c670f"
      },
      "outputs": [
        {
          "data": {
            "text/plain": [
              "TensorShape([3])"
            ]
          },
          "execution_count": 9,
          "metadata": {},
          "output_type": "execute_result"
        }
      ],
      "source": [
        "house_info.shape"
      ]
    },
    {
      "cell_type": "code",
      "execution_count": 10,
      "metadata": {
        "colab": {
          "base_uri": "https://localhost:8080/",
          "height": 435
        },
        "id": "kOxyr9sR6m9X",
        "outputId": "8615828f-8811-4bdd-f69d-bca7575977fe"
      },
      "outputs": [
        {
          "data": {
            "image/png": "[encoded data removed]",
            "text/plain": [
              "<Figure size 640x480 with 1 Axes>"
            ]
          },
          "metadata": {},
          "output_type": "display_data"
        }
      ],
      "source": [
        "import numpy as np\n",
        "import matplotlib.pyplot as plt\n",
        "\n",
        "# Create features (using tensors)\n",
        "X = tf.constant([-7.0, -4.0, -1.0, 2.0, 5.0, 8.0, 11.0, 14.0])\n",
        "\n",
        "# Create labels (using tensors)\n",
        "y = tf.constant([3.0, 6.0, 9.0, 12.0, 15.0, 18.0, 21.0, 24.0])\n",
        "\n",
        "# Visualize it\n",
        "plt.scatter(X, y);"
      ]
    },
    {
      "cell_type": "markdown",
      "metadata": {
        "id": "zaPxco6E9i1_"
      },
      "source": [
        "Our goal here will be to use `X` to predict `y`.\n",
        "\n",
        "So our **input** will be `X` and our **output** will be `y`.\n",
        "\n",
        "Knowing this, what do you think our input and output shapes will be?\n",
        "\n",
        "Let's take a look."
      ]
    },
    {
      "cell_type": "code",
      "execution_count": 14,
      "metadata": {},
      "outputs": [
        {
          "data": {
            "text/plain": [
              "TensorShape([8])"
            ]
          },
          "execution_count": 14,
          "metadata": {},
          "output_type": "execute_result"
        }
      ],
      "source": [
        "X.shape"
      ]
    },
    {
      "cell_type": "code",
      "execution_count": 11,
      "metadata": {
        "colab": {
          "base_uri": "https://localhost:8080/"
        },
        "id": "j1oT1gmB9iX-",
        "outputId": "d7f1666a-7fcd-4dd0-d7a2-37219c892dce"
      },
      "outputs": [
        {
          "data": {
            "text/plain": [
              "(TensorShape([]), TensorShape([]))"
            ]
          },
          "execution_count": 11,
          "metadata": {},
          "output_type": "execute_result"
        }
      ],
      "source": [
        "# Take a single example of X\n",
        "input_shape = X[0].shape \n",
        "\n",
        "# Take a single example of y\n",
        "output_shape = y[0].shape\n",
        "\n",
        "input_shape, output_shape # these are both scalars (no shape)"
      ]
    },
    {
      "cell_type": "markdown",
      "metadata": {
        "id": "m4txxFTL_EEX"
      },
      "source": [
        "Huh?\n",
        "\n",
        "From this it seems our inputs and outputs have no shape?\n",
        "\n",
        "How could that be?\n",
        "\n",
        "It's because no matter what kind of data we pass to our model, it's always going to take as input and return as output some kind of tensor.\n",
        "\n",
        "But in our case because of our dataset (only 2 small lists of numbers), we're looking at a special kind of tensor, more specifically a rank 0 tensor or a scalar."
      ]
    },
    {
      "cell_type": "code",
      "execution_count": 12,
      "metadata": {
        "colab": {
          "base_uri": "https://localhost:8080/"
        },
        "id": "Dag5y4MPaTmc",
        "outputId": "02fad51d-1fb9-4a09-e62d-52cdd99bd030"
      },
      "outputs": [
        {
          "data": {
            "text/plain": [
              "(<tf.Tensor: shape=(), dtype=float32, numpy=-7.0>,\n",
              " <tf.Tensor: shape=(), dtype=float32, numpy=3.0>)"
            ]
          },
          "execution_count": 12,
          "metadata": {},
          "output_type": "execute_result"
        }
      ],
      "source": [
        "# Let's take a look at the single examples invidually\n",
        "X[0], y[0]"
      ]
    },
    {
      "cell_type": "markdown",
      "metadata": {
        "id": "fKtihU57_cOY"
      },
      "source": [
        "In our case, we're trying to build a model to predict the pattern between `X[0]` equalling `-7.0` and `y[0]` equalling `3.0`.\n",
        "\n",
        "So now we get our answer, we're trying to use 1 `X` value to predict 1 `y` value.\n",
        "**making sure your input and outputs are in the correct shape**"
      ]
    },
    {
      "cell_type": "markdown",
      "metadata": {
        "id": "PhAIqjrn6olF"
      },
      "source": [
        "## Steps in modelling with TensorFlow\n",
        "\n",
        "In TensorFlow, there are typically 3 fundamental steps to creating and training a model.\n",
        "\n",
        "1. **Creating a model** - piece together the layers of a neural network yourself (using the [Functional](https://www.tensorflow.org/guide/keras/functional) or [Sequential API](https://www.tensorflow.org/api_docs/python/tf/keras/Sequential)) or import a previously built model (known as transfer learning).\n",
        "2. **Compiling a model** - defining how a models performance should be measured (loss/metrics) as well as defining how it should improve (optimizer). \n",
        "3. **Fitting a model** - letting the model try to find patterns in the data (how does `X` get to `y`). \n",
        "\n",
        "\n",
        "> **Note:** If you're using [TensorFlow 2.7.0](https://github.com/tensorflow/tensorflow/releases/tag/v2.7.0)+, the `fit()` function no longer upscales input data to go from `(batch_size, )` to `(batch_size, 1)`. To fix this, you'll need to expand the dimension of input data using `tf.expand_dims(input_data, axis=-1)`.\n",
        ">\n",
        "> In our case, this means instead of using `model.fit(X, y, epochs=5)`, use `model.fit(tf.expand_dims(X, axis=-1), y, epochs=5)`. "
      ]
    },
    {
      "cell_type": "code",
      "execution_count": 15,
      "metadata": {},
      "outputs": [
        {
          "data": {
            "text/plain": [
              "<tf.Tensor: shape=(8, 1), dtype=float32, numpy=\n",
              "array([[-7.],\n",
              "       [-4.],\n",
              "       [-1.],\n",
              "       [ 2.],\n",
              "       [ 5.],\n",
              "       [ 8.],\n",
              "       [11.],\n",
              "       [14.]], dtype=float32)>"
            ]
          },
          "execution_count": 15,
          "metadata": {},
          "output_type": "execute_result"
        }
      ],
      "source": [
        "tf.expand_dims(X, axis=-1)"
      ]
    },
    {
      "cell_type": "code",
      "execution_count": 13,
      "metadata": {
        "colab": {
          "base_uri": "https://localhost:8080/"
        },
        "id": "P9jj-OE16yCn",
        "outputId": "014780da-d5c0-4909-cb11-ea269eb07229"
      },
      "outputs": [
        {
          "name": "stdout",
          "output_type": "stream",
          "text": [
            "Epoch 1/5\n",
            "1/1 [==============================] - 2s 2s/step - loss: 16.0442 - mae: 16.0442\n",
            "Epoch 2/5\n",
            "1/1 [==============================] - 0s 4ms/step - loss: 15.7629 - mae: 15.7629\n",
            "Epoch 3/5\n",
            "1/1 [==============================] - 0s 5ms/step - loss: 15.4817 - mae: 15.4817\n",
            "Epoch 4/5\n",
            "1/1 [==============================] - 0s 6ms/step - loss: 15.2004 - mae: 15.2004\n",
            "Epoch 5/5\n",
            "1/1 [==============================] - 0s 4ms/step - loss: 14.9311 - mae: 14.9311\n"
          ]
        },
        {
          "data": {
            "text/plain": [
              "<keras.callbacks.History at 0x1b72211c2e0>"
            ]
          },
          "execution_count": 13,
          "metadata": {},
          "output_type": "execute_result"
        }
      ],
      "source": [
        "# Set random seed\n",
        "tf.random.set_seed(42)\n",
        "\n",
        "# Create a model using the Sequential API\n",
        "model = tf.keras.Sequential([\n",
        "  tf.keras.layers.Dense(1)\n",
        "])\n",
        "\n",
        "# Compile the model\n",
        "model.compile(loss=tf.keras.losses.mae, # mae is short for mean absolute error\n",
        "              optimizer=tf.keras.optimizers.SGD(), # SGD is short for stochastic gradient descent\n",
        "              metrics=[\"mae\"])\n",
        "\n",
        "# Fit the model\n",
        "# model.fit(X, y, epochs=5) # this will break with TensorFlow 2.7.0+\n",
        "model.fit(tf.expand_dims(X, axis=-1), y, epochs=5)"
      ]
    },
    {
      "cell_type": "code",
      "execution_count": 16,
      "metadata": {
        "colab": {
          "base_uri": "https://localhost:8080/"
        },
        "id": "VWLpG2U3erWo",
        "outputId": "b7c8763e-b90a-4598-cd09-6a88019b4e17"
      },
      "outputs": [
        {
          "data": {
            "text/plain": [
              "(<tf.Tensor: shape=(8,), dtype=float32, numpy=array([-7., -4., -1.,  2.,  5.,  8., 11., 14.], dtype=float32)>,\n",
              " <tf.Tensor: shape=(8,), dtype=float32, numpy=array([ 3.,  6.,  9., 12., 15., 18., 21., 24.], dtype=float32)>)"
            ]
          },
          "execution_count": 16,
          "metadata": {},
          "output_type": "execute_result"
        }
      ],
      "source": [
        "# Check out X and y\n",
        "X, y"
      ]
    },
    {
      "cell_type": "markdown",
      "metadata": {
        "id": "0ZpkaI_Oe6no"
      },
      "source": [
        "What do you think the outcome should be if we passed our model an `X` value of 17.0?"
      ]
    },
    {
      "cell_type": "code",
      "execution_count": 17,
      "metadata": {
        "colab": {
          "base_uri": "https://localhost:8080/"
        },
        "id": "X86cD66Qeo-8",
        "outputId": "4a8e530b-47e6-414d-90e1-e726cb7b426a"
      },
      "outputs": [
        {
          "name": "stdout",
          "output_type": "stream",
          "text": [
            "1/1 [==============================] - 0s 69ms/step\n"
          ]
        },
        {
          "data": {
            "text/plain": [
              "array([[-6.461783]], dtype=float32)"
            ]
          },
          "execution_count": 17,
          "metadata": {},
          "output_type": "execute_result"
        }
      ],
      "source": [
        "# Make a prediction with the model\n",
        "model.predict([17.0])"
      ]
    },
    {
      "cell_type": "markdown",
      "metadata": {
        "id": "2YoKIqhffq33"
      },
      "source": [
        "It doesn't go very well... it should've output something close to 27.0.\n",
        "\n",
        "> 🤔 **Question:** What's Keras? I thought we were working with TensorFlow but every time we write TensorFlow code, `keras` comes after `tf` (e.g. `tf.keras.layers.Dense()`)?\n",
        "\n",
        "Before TensorFlow 2.0+, [Keras](https://keras.io/) was an API designed to be able to build deep learning models with ease. Since TensorFlow 2.0+, its functionality has been tightly integrated within the TensorFlow library."
      ]
    },
    {
      "cell_type": "markdown",
      "metadata": {
        "id": "qAPk1T3xgOm4"
      },
      "source": [
        "## Improving a model\n",
        "\n",
        "How do you think you'd improve upon our current model?\n",
        "\n",
        "If you guessed by tweaking some of the things we did above, you'd be correct.\n",
        "\n",
        "To improve our model, we alter almost every part of the 3 steps we went through before.\n",
        "\n",
        "1. **Creating a model** - here you might want to add more layers, increase the number of hidden units (also called neurons) within each layer, change the activation functions of each layer.\n",
        "2. **Compiling a model** - you might want to choose optimization function or perhaps change the **learning rate** of the optimization function.\n",
        "3. **Fitting a model** - perhaps you could fit a model for more **epochs** (leave it training for longer) or on more data (give the model more examples to learn from).\n",
        "\n",
        "![various options you can use to improve a neural network model](https://raw.githubusercontent.com/mrdbourke/tensorflow-deep-learning/main/images/02-improving-a-model-from-model-perspective.png)\n",
        "*There are many different ways to potentially improve a neural network. Some of the most common include: increasing the number of layers (making the network deeper), increasing the number of hidden units (making the network wider) and changing the learning rate. Because these values are all human-changeable, they're referred to as [hyperparameters](https://en.wikipedia.org/wiki/Hyperparameter_(machine_learning)) and the practice of trying to find the best hyperparameters is referred to as [hyperparameter tuning](https://en.wikipedia.org/wiki/Hyperparameter_optimization).*\n",
        "\n",
        "Woah. We just introduced a bunch of possible steps. The important thing to remember is how you alter each of these will depend on the problem you're working on.\n",
        "\n",
        "And the good thing is, over the next few problems, we'll get hands-on with all of them.\n",
        "\n",
        "For now, let's keep it simple, all we'll do is train our model for longer (everything else will stay the same)."
      ]
    },
    {
      "cell_type": "code",
      "execution_count": 18,
      "metadata": {
        "colab": {
          "base_uri": "https://localhost:8080/"
        },
        "id": "MI0LammMgWcN",
        "outputId": "edd6fa7a-6ea0-4227-e9e8-48bf4d809fa8"
      },
      "outputs": [
        {
          "name": "stdout",
          "output_type": "stream",
          "text": [
            "Epoch 1/100\n",
            "1/1 [==============================] - 0s 165ms/step - loss: 17.0681 - mae: 17.0681\n",
            "Epoch 2/100\n",
            "1/1 [==============================] - 0s 4ms/step - loss: 16.7868 - mae: 16.7868\n",
            "Epoch 3/100\n",
            "1/1 [==============================] - 0s 9ms/step - loss: 16.5056 - mae: 16.5056\n",
            "Epoch 4/100\n",
            "1/1 [==============================] - 0s 11ms/step - loss: 16.2243 - mae: 16.2243\n",
            "Epoch 5/100\n",
            "1/1 [==============================] - 0s 13ms/step - loss: 15.9431 - mae: 15.9431\n",
            "Epoch 6/100\n",
            "1/1 [==============================] - 0s 12ms/step - loss: 15.6618 - mae: 15.6618\n",
            "Epoch 7/100\n",
            "1/1 [==============================] - 0s 10ms/step - loss: 15.3806 - mae: 15.3806\n",
            "Epoch 8/100\n",
            "1/1 [==============================] - 0s 13ms/step - loss: 15.0993 - mae: 15.0993\n",
            "Epoch 9/100\n",
            "1/1 [==============================] - 0s 7ms/step - loss: 14.8487 - mae: 14.8487\n",
            "Epoch 10/100\n",
            "1/1 [==============================] - 0s 12ms/step - loss: 14.7162 - mae: 14.7162\n",
            "Epoch 11/100\n",
            "1/1 [==============================] - 0s 12ms/step - loss: 14.5837 - mae: 14.5837\n",
            "Epoch 12/100\n",
            "1/1 [==============================] - 0s 13ms/step - loss: 14.4512 - mae: 14.4512\n",
            "Epoch 13/100\n",
            "1/1 [==============================] - 0s 10ms/step - loss: 14.3187 - mae: 14.3187\n",
            "Epoch 14/100\n",
            "1/1 [==============================] - 0s 10ms/step - loss: 14.1862 - mae: 14.1862\n",
            "Epoch 15/100\n",
            "1/1 [==============================] - 0s 4ms/step - loss: 14.0537 - mae: 14.0537\n",
            "Epoch 16/100\n",
            "1/1 [==============================] - 0s 4ms/step - loss: 13.9212 - mae: 13.9212\n",
            "Epoch 17/100\n",
            "1/1 [==============================] - 0s 11ms/step - loss: 13.7887 - mae: 13.7887\n",
            "Epoch 18/100\n",
            "1/1 [==============================] - 0s 4ms/step - loss: 13.6562 - mae: 13.6562\n",
            "Epoch 19/100\n",
            "1/1 [==============================] - 0s 4ms/step - loss: 13.5237 - mae: 13.5237\n",
            "Epoch 20/100\n",
            "1/1 [==============================] - 0s 11ms/step - loss: 13.3912 - mae: 13.3912\n",
            "Epoch 21/100\n",
            "1/1 [==============================] - 0s 4ms/step - loss: 13.2587 - mae: 13.2587\n",
            "Epoch 22/100\n",
            "1/1 [==============================] - 0s 4ms/step - loss: 13.1262 - mae: 13.1262\n",
            "Epoch 23/100\n",
            "1/1 [==============================] - 0s 11ms/step - loss: 12.9937 - mae: 12.9937\n",
            "Epoch 24/100\n",
            "1/1 [==============================] - 0s 4ms/step - loss: 12.8612 - mae: 12.8612\n",
            "Epoch 25/100\n",
            "1/1 [==============================] - 0s 4ms/step - loss: 12.7287 - mae: 12.7287\n",
            "Epoch 26/100\n",
            "1/1 [==============================] - 0s 9ms/step - loss: 12.5962 - mae: 12.5962\n",
            "Epoch 27/100\n",
            "1/1 [==============================] - 0s 5ms/step - loss: 12.4637 - mae: 12.4637\n",
            "Epoch 28/100\n",
            "1/1 [==============================] - 0s 4ms/step - loss: 12.3312 - mae: 12.3312\n",
            "Epoch 29/100\n",
            "1/1 [==============================] - 0s 11ms/step - loss: 12.1987 - mae: 12.1987\n",
            "Epoch 30/100\n",
            "1/1 [==============================] - 0s 5ms/step - loss: 12.0662 - mae: 12.0662\n",
            "Epoch 31/100\n",
            "1/1 [==============================] - 0s 4ms/step - loss: 11.9337 - mae: 11.9337\n",
            "Epoch 32/100\n",
            "1/1 [==============================] - 0s 11ms/step - loss: 11.8012 - mae: 11.8012\n",
            "Epoch 33/100\n",
            "1/1 [==============================] - 0s 4ms/step - loss: 11.6687 - mae: 11.6687\n",
            "Epoch 34/100\n",
            "1/1 [==============================] - 0s 4ms/step - loss: 11.5362 - mae: 11.5362\n",
            "Epoch 35/100\n",
            "1/1 [==============================] - 0s 4ms/step - loss: 11.4037 - mae: 11.4037\n",
            "Epoch 36/100\n",
            "1/1 [==============================] - 0s 4ms/step - loss: 11.2712 - mae: 11.2712\n",
            "Epoch 37/100\n",
            "1/1 [==============================] - 0s 8ms/step - loss: 11.1387 - mae: 11.1387\n",
            "Epoch 38/100\n",
            "1/1 [==============================] - 0s 4ms/step - loss: 11.0062 - mae: 11.0062\n",
            "Epoch 39/100\n",
            "1/1 [==============================] - 0s 8ms/step - loss: 10.8737 - mae: 10.8737\n",
            "Epoch 40/100\n",
            "1/1 [==============================] - 0s 4ms/step - loss: 10.7412 - mae: 10.7412\n",
            "Epoch 41/100\n",
            "1/1 [==============================] - 0s 6ms/step - loss: 10.6087 - mae: 10.6087\n",
            "Epoch 42/100\n",
            "1/1 [==============================] - 0s 4ms/step - loss: 10.4762 - mae: 10.4762\n",
            "Epoch 43/100\n",
            "1/1 [==============================] - 0s 4ms/step - loss: 10.3437 - mae: 10.3437\n",
            "Epoch 44/100\n",
            "1/1 [==============================] - 0s 3ms/step - loss: 10.2112 - mae: 10.2112\n",
            "Epoch 45/100\n",
            "1/1 [==============================] - 0s 4ms/step - loss: 10.0787 - mae: 10.0787\n",
            "Epoch 46/100\n",
            "1/1 [==============================] - 0s 4ms/step - loss: 9.9462 - mae: 9.9462\n",
            "Epoch 47/100\n",
            "1/1 [==============================] - 0s 3ms/step - loss: 9.8137 - mae: 9.8137\n",
            "Epoch 48/100\n",
            "1/1 [==============================] - 0s 11ms/step - loss: 9.6812 - mae: 9.6812\n",
            "Epoch 49/100\n",
            "1/1 [==============================] - 0s 4ms/step - loss: 9.5487 - mae: 9.5487\n",
            "Epoch 50/100\n",
            "1/1 [==============================] - 0s 4ms/step - loss: 9.4162 - mae: 9.4162\n",
            "Epoch 51/100\n",
            "1/1 [==============================] - 0s 11ms/step - loss: 9.2837 - mae: 9.2837\n",
            "Epoch 52/100\n",
            "1/1 [==============================] - 0s 4ms/step - loss: 9.1512 - mae: 9.1512\n",
            "Epoch 53/100\n",
            "1/1 [==============================] - 0s 5ms/step - loss: 9.0187 - mae: 9.0187\n",
            "Epoch 54/100\n",
            "1/1 [==============================] - 0s 3ms/step - loss: 8.8862 - mae: 8.8862\n",
            "Epoch 55/100\n",
            "1/1 [==============================] - 0s 5ms/step - loss: 8.7537 - mae: 8.7537\n",
            "Epoch 56/100\n",
            "1/1 [==============================] - 0s 4ms/step - loss: 8.6212 - mae: 8.6212\n",
            "Epoch 57/100\n",
            "1/1 [==============================] - 0s 5ms/step - loss: 8.4887 - mae: 8.4887\n",
            "Epoch 58/100\n",
            "1/1 [==============================] - 0s 4ms/step - loss: 8.3562 - mae: 8.3562\n",
            "Epoch 59/100\n",
            "1/1 [==============================] - 0s 6ms/step - loss: 8.2237 - mae: 8.2237\n",
            "Epoch 60/100\n",
            "1/1 [==============================] - 0s 3ms/step - loss: 8.0912 - mae: 8.0912\n",
            "Epoch 61/100\n",
            "1/1 [==============================] - 0s 6ms/step - loss: 7.9587 - mae: 7.9587\n",
            "Epoch 62/100\n",
            "1/1 [==============================] - 0s 4ms/step - loss: 7.8262 - mae: 7.8262\n",
            "Epoch 63/100\n",
            "1/1 [==============================] - 0s 5ms/step - loss: 7.6937 - mae: 7.6937\n",
            "Epoch 64/100\n",
            "1/1 [==============================] - 0s 5ms/step - loss: 7.5612 - mae: 7.5612\n",
            "Epoch 65/100\n",
            "1/1 [==============================] - 0s 5ms/step - loss: 7.4287 - mae: 7.4287\n",
            "Epoch 66/100\n",
            "1/1 [==============================] - 0s 6ms/step - loss: 7.2962 - mae: 7.2962\n",
            "Epoch 67/100\n",
            "1/1 [==============================] - 0s 5ms/step - loss: 7.1637 - mae: 7.1637\n",
            "Epoch 68/100\n",
            "1/1 [==============================] - 0s 4ms/step - loss: 7.0312 - mae: 7.0312\n",
            "Epoch 69/100\n",
            "1/1 [==============================] - 0s 4ms/step - loss: 7.0050 - mae: 7.0050\n",
            "Epoch 70/100\n",
            "1/1 [==============================] - 0s 4ms/step - loss: 6.9994 - mae: 6.9994\n",
            "Epoch 71/100\n",
            "1/1 [==============================] - 0s 3ms/step - loss: 6.9938 - mae: 6.9938\n",
            "Epoch 72/100\n",
            "1/1 [==============================] - 0s 3ms/step - loss: 6.9881 - mae: 6.9881\n",
            "Epoch 73/100\n",
            "1/1 [==============================] - 0s 4ms/step - loss: 6.9825 - mae: 6.9825\n",
            "Epoch 74/100\n",
            "1/1 [==============================] - 0s 3ms/step - loss: 6.9769 - mae: 6.9769\n",
            "Epoch 75/100\n",
            "1/1 [==============================] - 0s 3ms/step - loss: 6.9713 - mae: 6.9713\n",
            "Epoch 76/100\n",
            "1/1 [==============================] - 0s 3ms/step - loss: 6.9656 - mae: 6.9656\n",
            "Epoch 77/100\n",
            "1/1 [==============================] - 0s 3ms/step - loss: 6.9600 - mae: 6.9600\n",
            "Epoch 78/100\n",
            "1/1 [==============================] - 0s 4ms/step - loss: 6.9544 - mae: 6.9544\n",
            "Epoch 79/100\n",
            "1/1 [==============================] - 0s 4ms/step - loss: 6.9488 - mae: 6.9488\n",
            "Epoch 80/100\n",
            "1/1 [==============================] - 0s 4ms/step - loss: 6.9431 - mae: 6.9431\n",
            "Epoch 81/100\n",
            "1/1 [==============================] - 0s 5ms/step - loss: 6.9375 - mae: 6.9375\n",
            "Epoch 82/100\n",
            "1/1 [==============================] - 0s 3ms/step - loss: 6.9319 - mae: 6.9319\n",
            "Epoch 83/100\n",
            "1/1 [==============================] - 0s 4ms/step - loss: 6.9263 - mae: 6.9263\n",
            "Epoch 84/100\n",
            "1/1 [==============================] - 0s 5ms/step - loss: 6.9206 - mae: 6.9206\n",
            "Epoch 85/100\n",
            "1/1 [==============================] - 0s 3ms/step - loss: 6.9150 - mae: 6.9150\n",
            "Epoch 86/100\n",
            "1/1 [==============================] - 0s 3ms/step - loss: 6.9094 - mae: 6.9094\n",
            "Epoch 87/100\n",
            "1/1 [==============================] - 0s 6ms/step - loss: 6.9038 - mae: 6.9038\n",
            "Epoch 88/100\n",
            "1/1 [==============================] - 0s 5ms/step - loss: 6.8981 - mae: 6.8981\n",
            "Epoch 89/100\n",
            "1/1 [==============================] - 0s 4ms/step - loss: 6.8925 - mae: 6.8925\n",
            "Epoch 90/100\n",
            "1/1 [==============================] - 0s 4ms/step - loss: 6.8869 - mae: 6.8869\n",
            "Epoch 91/100\n",
            "1/1 [==============================] - 0s 3ms/step - loss: 6.8813 - mae: 6.8813\n",
            "Epoch 92/100\n",
            "1/1 [==============================] - 0s 4ms/step - loss: 6.8756 - mae: 6.8756\n",
            "Epoch 93/100\n",
            "1/1 [==============================] - 0s 5ms/step - loss: 6.8700 - mae: 6.8700\n",
            "Epoch 94/100\n",
            "1/1 [==============================] - 0s 3ms/step - loss: 6.8644 - mae: 6.8644\n",
            "Epoch 95/100\n",
            "1/1 [==============================] - 0s 4ms/step - loss: 6.8588 - mae: 6.8588\n",
            "Epoch 96/100\n",
            "1/1 [==============================] - 0s 4ms/step - loss: 6.8531 - mae: 6.8531\n",
            "Epoch 97/100\n",
            "1/1 [==============================] - 0s 3ms/step - loss: 6.8475 - mae: 6.8475\n",
            "Epoch 98/100\n",
            "1/1 [==============================] - 0s 5ms/step - loss: 6.8419 - mae: 6.8419\n",
            "Epoch 99/100\n",
            "1/1 [==============================] - 0s 3ms/step - loss: 6.8363 - mae: 6.8363\n",
            "Epoch 100/100\n",
            "1/1 [==============================] - 0s 3ms/step - loss: 6.8306 - mae: 6.8306\n"
          ]
        },
        {
          "data": {
            "text/plain": [
              "<keras.callbacks.History at 0x1b72217f9d0>"
            ]
          },
          "execution_count": 18,
          "metadata": {},
          "output_type": "execute_result"
        }
      ],
      "source": [
        "# Set random seed\n",
        "tf.random.set_seed(42)\n",
        "\n",
        "# Create a model (same as above)\n",
        "model = tf.keras.Sequential([\n",
        "  tf.keras.layers.Dense(1)\n",
        "])\n",
        "\n",
        "# Compile model (same as above)\n",
        "model.compile(loss=tf.keras.losses.mae,\n",
        "              optimizer=tf.keras.optimizers.SGD(),\n",
        "              metrics=[\"mae\"])\n",
        "\n",
        "# Fit model (this time we'll train for longer)\n",
        "model.fit(tf.expand_dims(X, axis=-1), y, epochs=100) # train for 100 epochs not 10"
      ]
    },
    {
      "cell_type": "markdown",
      "metadata": {
        "id": "1CIKSm7filgj"
      },
      "source": [
        "You might've noticed the loss value decrease from before (and keep decreasing as the number of epochs gets higher). \n",
        "\n",
        "What do you think this means for when we make a prediction with our model?\n",
        "\n",
        "How about we try predict on 17.0 again?"
      ]
    },
    {
      "cell_type": "code",
      "execution_count": 19,
      "metadata": {
        "colab": {
          "base_uri": "https://localhost:8080/"
        },
        "id": "_YcacZsfi4zZ",
        "outputId": "cc6b2301-0c31-447d-9ffe-aff8df8633fb"
      },
      "outputs": [
        {
          "data": {
            "text/plain": [
              "(<tf.Tensor: shape=(8,), dtype=float32, numpy=array([-7., -4., -1.,  2.,  5.,  8., 11., 14.], dtype=float32)>,\n",
              " <tf.Tensor: shape=(8,), dtype=float32, numpy=array([ 3.,  6.,  9., 12., 15., 18., 21., 24.], dtype=float32)>)"
            ]
          },
          "execution_count": 19,
          "metadata": {},
          "output_type": "execute_result"
        }
      ],
      "source": [
        "# Remind ourselves of what X and y are\n",
        "X, y"
      ]
    },
    {
      "cell_type": "code",
      "execution_count": 20,
      "metadata": {
        "colab": {
          "base_uri": "https://localhost:8080/"
        },
        "id": "e6k5V08ZivNO",
        "outputId": "3ab3dbff-4b9d-4e23-c4a4-5972bd690962"
      },
      "outputs": [
        {
          "name": "stdout",
          "output_type": "stream",
          "text": [
            "1/1 [==============================] - 0s 42ms/step\n"
          ]
        },
        {
          "data": {
            "text/plain": [
              "array([[29.757586]], dtype=float32)"
            ]
          },
          "execution_count": 20,
          "metadata": {},
          "output_type": "execute_result"
        }
      ],
      "source": [
        "# Try and predict what y would be if X was 17.0\n",
        "model.predict([17.0]) # the right answer is 27.0 (y = X + 10)"
      ]
    },
    {
      "cell_type": "markdown",
      "metadata": {
        "id": "sYi5V8ZYi_dy"
      },
      "source": [
        "Much better! \n",
        "\n",
        "We got closer this time. But we could still be better.\n",
        "\n",
        "Now we've trained a model, how could we evaluate it?"
      ]
    },
    {
      "cell_type": "markdown",
      "metadata": {
        "id": "HvC98q_h6zvG"
      },
      "source": [
        "## Evaluating a model \n",
        "\n",
        "A typical workflow you'll go through when building neural networks is:\n",
        "\n",
        "```\n",
        "Build a model -> evaluate it -> build (tweak) a model -> evaulate it -> build (tweak) a model -> evaluate it...\n",
        "```\n",
        "\n",
        "The tweaking comes from maybe not building a model from scratch but adjusting an existing one.\n",
        "\n",
        "### Visualize, visualize, visualize\n",
        "\n",
        "When it comes to evaluation, you'll want to remember the words: \"visualize, visualize, visualize.\" \n",
        "\n",
        "This is because you're probably better looking at something (doing) than you are thinking about something.\n",
        "\n",
        "It's a good idea to visualize:\n",
        "* **The data** - what data are you working with? What does it look like?\n",
        "* **The model itself** - what does the architecture look like? What are the different shapes?\n",
        "* **The training of a model** - how does a model perform while it learns?\n",
        "* **The predictions of a model** - how do the predictions of a model line up against the ground truth (the original labels)?\n",
        "\n",
        "Let's start by visualizing the model.\n",
        "\n",
        "But first, we'll create a little bit of a bigger dataset and a new model we can use (it'll be the same as before, but the more practice the better).\n"
      ]
    },
    {
      "cell_type": "code",
      "execution_count": 21,
      "metadata": {
        "colab": {
          "base_uri": "https://localhost:8080/"
        },
        "id": "srxuqbeYopns",
        "outputId": "e69ea103-4a9c-44e4-a8b9-fc7e7e54a707"
      },
      "outputs": [
        {
          "data": {
            "text/plain": [
              "array([-100,  -96,  -92,  -88,  -84,  -80,  -76,  -72,  -68,  -64,  -60,\n",
              "        -56,  -52,  -48,  -44,  -40,  -36,  -32,  -28,  -24,  -20,  -16,\n",
              "        -12,   -8,   -4,    0,    4,    8,   12,   16,   20,   24,   28,\n",
              "         32,   36,   40,   44,   48,   52,   56,   60,   64,   68,   72,\n",
              "         76,   80,   84,   88,   92,   96])"
            ]
          },
          "execution_count": 21,
          "metadata": {},
          "output_type": "execute_result"
        }
      ],
      "source": [
        "# Make a bigger dataset\n",
        "X = np.arange(-100, 100, 4)\n",
        "X"
      ]
    },
    {
      "cell_type": "code",
      "execution_count": 22,
      "metadata": {
        "colab": {
          "base_uri": "https://localhost:8080/"
        },
        "id": "pQcC0nSko3kJ",
        "outputId": "798785e6-2a92-43aa-b09a-4fc47a7ef5bf"
      },
      "outputs": [
        {
          "data": {
            "text/plain": [
              "array([-90, -86, -82, -78, -74, -70, -66, -62, -58, -54, -50, -46, -42,\n",
              "       -38, -34, -30, -26, -22, -18, -14, -10,  -6,  -2,   2,   6,  10,\n",
              "        14,  18,  22,  26,  30,  34,  38,  42,  46,  50,  54,  58,  62,\n",
              "        66,  70,  74,  78,  82,  86,  90,  94,  98, 102, 106])"
            ]
          },
          "execution_count": 22,
          "metadata": {},
          "output_type": "execute_result"
        }
      ],
      "source": [
        "# Make labels for the dataset (adhering to the same pattern as before)\n",
        "y = np.arange(-90, 110, 4)\n",
        "y"
      ]
    },
    {
      "cell_type": "markdown",
      "metadata": {
        "id": "KNIw5tgGpKjb"
      },
      "source": [
        "Since $y=X+10$, we could make the labels like so:"
      ]
    },
    {
      "cell_type": "code",
      "execution_count": 23,
      "metadata": {
        "colab": {
          "base_uri": "https://localhost:8080/"
        },
        "id": "ACgbmrAOpJwW",
        "outputId": "3543a815-2db7-4f22-af64-e7e14e0e2c83"
      },
      "outputs": [
        {
          "data": {
            "text/plain": [
              "array([-90, -86, -82, -78, -74, -70, -66, -62, -58, -54, -50, -46, -42,\n",
              "       -38, -34, -30, -26, -22, -18, -14, -10,  -6,  -2,   2,   6,  10,\n",
              "        14,  18,  22,  26,  30,  34,  38,  42,  46,  50,  54,  58,  62,\n",
              "        66,  70,  74,  78,  82,  86,  90,  94,  98, 102, 106])"
            ]
          },
          "execution_count": 23,
          "metadata": {},
          "output_type": "execute_result"
        }
      ],
      "source": [
        "# Same result as above\n",
        "y = X + 10\n",
        "y"
      ]
    },
    {
      "cell_type": "markdown",
      "metadata": {
        "id": "ax3MnQDupeBp"
      },
      "source": [
        "## Split data into training/test set\n",
        "\n",
        "One of the other most common and important steps in a machine learning project is creating a training and test set (and when required, a validation set).\n",
        "\n",
        "Each set serves a specific purpose:\n",
        "* **Training set** - the model learns from this data, which is typically 70-80% of the total data available (like the course materials you study during the semester).\n",
        "* **Validation set** - the model gets tuned on this data, which is typically 10-15% of the total data available (like the practice exam you take before the final exam).\n",
        "* **Test set** - the model gets evaluated on this data to test what it has learned, it's typically 10-15% of the total data available (like the final exam you take at the end of the semester).\n",
        "\n",
        "For now, we'll just use a training and test set, this means we'll have a dataset for our model to learn on as well as be evaluated on.\n",
        "\n",
        "We can create them by splitting our `X` and `y` arrays.\n",
        "\n",
        "> 🔑 **Note:** When dealing with real-world data, this step is typically done right at the start of a project (the test set should always be kept separate from all other data). We want our model to learn on training data and then evaluate it on test data to get an indication of how well it **generalizes** to unseen examples."
      ]
    },
    {
      "cell_type": "code",
      "execution_count": 24,
      "metadata": {
        "colab": {
          "base_uri": "https://localhost:8080/"
        },
        "id": "5G0RDMnZrgvK",
        "outputId": "db23e775-8a72-4622-fca7-bd40ba567edd"
      },
      "outputs": [
        {
          "data": {
            "text/plain": [
              "50"
            ]
          },
          "execution_count": 24,
          "metadata": {},
          "output_type": "execute_result"
        }
      ],
      "source": [
        "# Check how many samples we have\n",
        "len(X)"
      ]
    },
    {
      "cell_type": "code",
      "execution_count": 25,
      "metadata": {
        "colab": {
          "base_uri": "https://localhost:8080/"
        },
        "id": "4Q9ptcQkrGfO",
        "outputId": "164c9b80-9447-4919-a07d-eb52d2a7d425"
      },
      "outputs": [
        {
          "data": {
            "text/plain": [
              "(40, 10)"
            ]
          },
          "execution_count": 25,
          "metadata": {},
          "output_type": "execute_result"
        }
      ],
      "source": [
        "# Split data into train and test sets\n",
        "X_train = X[:40] # first 40 examples (80% of data)\n",
        "y_train = y[:40]\n",
        "\n",
        "X_test = X[40:] # last 10 examples (20% of data)\n",
        "y_test = y[40:]\n",
        "\n",
        "len(X_train), len(X_test)"
      ]
    },
    {
      "cell_type": "markdown",
      "metadata": {
        "id": "Rz2cIdECsLH5"
      },
      "source": [
        "## Visualizing the data\n",
        "\n",
        "Now we've got our training and test data, it's a good idea to visualize it.\n",
        "\n",
        "Let's plot it with some nice colours to differentiate what's what."
      ]
    },
    {
      "cell_type": "code",
      "execution_count": 26,
      "metadata": {
        "colab": {
          "base_uri": "https://localhost:8080/",
          "height": 599
        },
        "id": "os30CXBHsOAH",
        "outputId": "3f07137f-0682-41d3-cb98-0f68eac9792d"
      },
      "outputs": [
        {
          "data": {
            "image/png": "[encoded data removed]",
            "text/plain": [
              "<Figure size 1000x700 with 1 Axes>"
            ]
          },
          "metadata": {},
          "output_type": "display_data"
        }
      ],
      "source": [
        "plt.figure(figsize=(10, 7))\n",
        "# Plot training data in blue\n",
        "plt.scatter(X_train, y_train, c='b', label='Training data')\n",
        "# Plot test data in green\n",
        "plt.scatter(X_test, y_test, c='g', label='Testing data')\n",
        "# Show the legend\n",
        "plt.legend();"
      ]
    },
    {
      "cell_type": "markdown",
      "metadata": {
        "id": "cxRcHZFgtS_B"
      },
      "source": [
        "Beautiful! Any time you can visualize your data, your model, your anything, it's a good idea. \n",
        "\n",
        "With this graph in mind, what we'll be trying to do is build a model which learns the pattern in the blue dots (`X_train`) to draw the green dots (`X_test`).\n",
        "\n",
        "Time to build a model. We'll make the exact same one from before (the one we trained for longer)."
      ]
    },
    {
      "cell_type": "code",
      "execution_count": 31,
      "metadata": {
        "id": "4qpe0eSStSm-"
      },
      "outputs": [
        {
          "name": "stdout",
          "output_type": "stream",
          "text": [
            "Epoch 1/100\n",
            "2/2 [==============================] - 0s 3ms/step - loss: 9.1096 - mae: 9.1096\n",
            "Epoch 2/100\n",
            "2/2 [==============================] - 0s 5ms/step - loss: 9.5223 - mae: 9.5223\n",
            "Epoch 3/100\n",
            "2/2 [==============================] - 0s 4ms/step - loss: 11.2067 - mae: 11.2067\n",
            "Epoch 4/100\n",
            "2/2 [==============================] - 0s 3ms/step - loss: 9.5981 - mae: 9.5981\n",
            "Epoch 5/100\n",
            "2/2 [==============================] - 0s 4ms/step - loss: 10.5133 - mae: 10.5133\n",
            "Epoch 6/100\n",
            "2/2 [==============================] - 0s 3ms/step - loss: 9.7336 - mae: 9.7336\n",
            "Epoch 7/100\n",
            "2/2 [==============================] - 0s 3ms/step - loss: 8.8231 - mae: 8.8231\n",
            "Epoch 8/100\n",
            "2/2 [==============================] - 0s 4ms/step - loss: 9.0602 - mae: 9.0602\n",
            "Epoch 9/100\n",
            "2/2 [==============================] - 0s 3ms/step - loss: 19.3948 - mae: 19.3948\n",
            "Epoch 10/100\n",
            "2/2 [==============================] - 0s 4ms/step - loss: 10.4680 - mae: 10.4680\n",
            "Epoch 11/100\n",
            "2/2 [==============================] - 0s 11ms/step - loss: 8.5324 - mae: 8.5324\n",
            "Epoch 12/100\n",
            "2/2 [==============================] - 0s 8ms/step - loss: 10.9629 - mae: 10.9629\n",
            "Epoch 13/100\n",
            "2/2 [==============================] - 0s 10ms/step - loss: 7.5636 - mae: 7.5636\n",
            "Epoch 14/100\n",
            "2/2 [==============================] - 0s 11ms/step - loss: 15.9591 - mae: 15.9591\n",
            "Epoch 15/100\n",
            "2/2 [==============================] - 0s 9ms/step - loss: 13.0352 - mae: 13.0352\n",
            "Epoch 16/100\n",
            "2/2 [==============================] - 0s 10ms/step - loss: 7.9255 - mae: 7.9255\n",
            "Epoch 17/100\n",
            "2/2 [==============================] - 0s 10ms/step - loss: 11.2343 - mae: 11.2343\n",
            "Epoch 18/100\n",
            "2/2 [==============================] - 0s 11ms/step - loss: 10.2674 - mae: 10.2674\n",
            "Epoch 19/100\n",
            "2/2 [==============================] - 0s 7ms/step - loss: 19.4839 - mae: 19.4839\n",
            "Epoch 20/100\n",
            "2/2 [==============================] - 0s 11ms/step - loss: 16.1376 - mae: 16.1376\n",
            "Epoch 21/100\n",
            "2/2 [==============================] - 0s 10ms/step - loss: 12.0381 - mae: 12.0381\n",
            "Epoch 22/100\n",
            "2/2 [==============================] - 0s 10ms/step - loss: 8.6375 - mae: 8.6375\n",
            "Epoch 23/100\n",
            "2/2 [==============================] - 0s 5ms/step - loss: 9.6682 - mae: 9.6682\n",
            "Epoch 24/100\n",
            "2/2 [==============================] - 0s 3ms/step - loss: 8.5697 - mae: 8.5697\n",
            "Epoch 25/100\n",
            "2/2 [==============================] - 0s 3ms/step - loss: 11.5664 - mae: 11.5664\n",
            "Epoch 26/100\n",
            "2/2 [==============================] - 0s 2ms/step - loss: 15.1521 - mae: 15.1521\n",
            "Epoch 27/100\n",
            "2/2 [==============================] - 0s 3ms/step - loss: 12.0390 - mae: 12.0390\n",
            "Epoch 28/100\n",
            "2/2 [==============================] - 0s 5ms/step - loss: 13.3302 - mae: 13.3302\n",
            "Epoch 29/100\n",
            "2/2 [==============================] - 0s 3ms/step - loss: 9.5901 - mae: 9.5901\n",
            "Epoch 30/100\n",
            "2/2 [==============================] - 0s 3ms/step - loss: 17.1127 - mae: 17.1127\n",
            "Epoch 31/100\n",
            "2/2 [==============================] - 0s 3ms/step - loss: 22.9351 - mae: 22.9351\n",
            "Epoch 32/100\n",
            "2/2 [==============================] - 0s 3ms/step - loss: 7.9056 - mae: 7.9056\n",
            "Epoch 33/100\n",
            "2/2 [==============================] - 0s 5ms/step - loss: 14.0862 - mae: 14.0862\n",
            "Epoch 34/100\n",
            "2/2 [==============================] - 0s 3ms/step - loss: 12.3210 - mae: 12.3210\n",
            "Epoch 35/100\n",
            "2/2 [==============================] - 0s 5ms/step - loss: 8.2663 - mae: 8.2663\n",
            "Epoch 36/100\n",
            "2/2 [==============================] - 0s 2ms/step - loss: 10.4971 - mae: 10.4971\n",
            "Epoch 37/100\n",
            "2/2 [==============================] - 0s 6ms/step - loss: 10.1373 - mae: 10.1373\n",
            "Epoch 38/100\n",
            "2/2 [==============================] - 0s 3ms/step - loss: 11.3467 - mae: 11.3467\n",
            "Epoch 39/100\n",
            "2/2 [==============================] - 0s 5ms/step - loss: 14.7084 - mae: 14.7084\n",
            "Epoch 40/100\n",
            "2/2 [==============================] - 0s 2ms/step - loss: 12.8390 - mae: 12.8390\n",
            "Epoch 41/100\n",
            "2/2 [==============================] - 0s 6ms/step - loss: 9.2235 - mae: 9.2235\n",
            "Epoch 42/100\n",
            "2/2 [==============================] - 0s 3ms/step - loss: 11.0210 - mae: 11.0210\n",
            "Epoch 43/100\n",
            "2/2 [==============================] - 0s 6ms/step - loss: 8.3290 - mae: 8.3290\n",
            "Epoch 44/100\n",
            "2/2 [==============================] - 0s 3ms/step - loss: 13.0881 - mae: 13.0881\n",
            "Epoch 45/100\n",
            "2/2 [==============================] - 0s 4ms/step - loss: 13.6243 - mae: 13.6243\n",
            "Epoch 46/100\n",
            "2/2 [==============================] - 0s 3ms/step - loss: 8.2507 - mae: 8.2507\n",
            "Epoch 47/100\n",
            "2/2 [==============================] - 0s 2ms/step - loss: 8.7342 - mae: 8.7342\n",
            "Epoch 48/100\n",
            "2/2 [==============================] - 0s 3ms/step - loss: 10.0409 - mae: 10.0409\n",
            "Epoch 49/100\n",
            "2/2 [==============================] - 0s 2ms/step - loss: 8.5199 - mae: 8.5199\n",
            "Epoch 50/100\n",
            "2/2 [==============================] - 0s 3ms/step - loss: 9.0297 - mae: 9.0297\n",
            "Epoch 51/100\n",
            "2/2 [==============================] - 0s 2ms/step - loss: 9.3724 - mae: 9.3724\n",
            "Epoch 52/100\n",
            "2/2 [==============================] - 0s 3ms/step - loss: 14.0621 - mae: 14.0621\n",
            "Epoch 53/100\n",
            "2/2 [==============================] - 0s 2ms/step - loss: 15.3847 - mae: 15.3847\n",
            "Epoch 54/100\n",
            "2/2 [==============================] - 0s 3ms/step - loss: 10.8934 - mae: 10.8934\n",
            "Epoch 55/100\n",
            "2/2 [==============================] - 0s 3ms/step - loss: 15.4161 - mae: 15.4161\n",
            "Epoch 56/100\n",
            "2/2 [==============================] - 0s 4ms/step - loss: 9.1096 - mae: 9.1096\n",
            "Epoch 57/100\n",
            "2/2 [==============================] - 0s 3ms/step - loss: 9.6921 - mae: 9.6921\n",
            "Epoch 58/100\n",
            "2/2 [==============================] - 0s 4ms/step - loss: 8.9966 - mae: 8.9966\n",
            "Epoch 59/100\n",
            "2/2 [==============================] - 0s 3ms/step - loss: 10.2328 - mae: 10.2328\n",
            "Epoch 60/100\n",
            "2/2 [==============================] - 0s 3ms/step - loss: 8.1577 - mae: 8.1577\n",
            "Epoch 61/100\n",
            "2/2 [==============================] - 0s 2ms/step - loss: 10.0244 - mae: 10.0244\n",
            "Epoch 62/100\n",
            "2/2 [==============================] - 0s 2ms/step - loss: 7.0274 - mae: 7.0274\n",
            "Epoch 63/100\n",
            "2/2 [==============================] - 0s 3ms/step - loss: 12.6636 - mae: 12.6636\n",
            "Epoch 64/100\n",
            "2/2 [==============================] - 0s 3ms/step - loss: 12.6071 - mae: 12.6071\n",
            "Epoch 65/100\n",
            "2/2 [==============================] - 0s 3ms/step - loss: 9.4300 - mae: 9.4300\n",
            "Epoch 66/100\n",
            "2/2 [==============================] - 0s 2ms/step - loss: 11.4955 - mae: 11.4955\n",
            "Epoch 67/100\n",
            "2/2 [==============================] - 0s 5ms/step - loss: 8.0308 - mae: 8.0308\n",
            "Epoch 68/100\n",
            "2/2 [==============================] - 0s 3ms/step - loss: 8.5582 - mae: 8.5582\n",
            "Epoch 69/100\n",
            "2/2 [==============================] - 0s 4ms/step - loss: 12.2554 - mae: 12.2554\n",
            "Epoch 70/100\n",
            "2/2 [==============================] - 0s 3ms/step - loss: 8.9506 - mae: 8.9506\n",
            "Epoch 71/100\n",
            "2/2 [==============================] - 0s 2ms/step - loss: 9.9268 - mae: 9.9268\n",
            "Epoch 72/100\n",
            "2/2 [==============================] - 0s 3ms/step - loss: 9.9643 - mae: 9.9643\n",
            "Epoch 73/100\n",
            "2/2 [==============================] - 0s 2ms/step - loss: 12.4386 - mae: 12.4386\n",
            "Epoch 74/100\n",
            "2/2 [==============================] - 0s 3ms/step - loss: 10.5530 - mae: 10.5530\n",
            "Epoch 75/100\n",
            "2/2 [==============================] - 0s 3ms/step - loss: 9.6243 - mae: 9.6243\n",
            "Epoch 76/100\n",
            "2/2 [==============================] - 0s 4ms/step - loss: 11.0916 - mae: 11.0916\n",
            "Epoch 77/100\n",
            "2/2 [==============================] - 0s 2ms/step - loss: 8.2731 - mae: 8.2731\n",
            "Epoch 78/100\n",
            "2/2 [==============================] - 0s 5ms/step - loss: 8.9662 - mae: 8.9662\n",
            "Epoch 79/100\n",
            "2/2 [==============================] - 0s 3ms/step - loss: 19.7648 - mae: 19.7648\n",
            "Epoch 80/100\n",
            "2/2 [==============================] - 0s 3ms/step - loss: 17.8256 - mae: 17.8256\n",
            "Epoch 81/100\n",
            "2/2 [==============================] - 0s 2ms/step - loss: 7.0609 - mae: 7.0609\n",
            "Epoch 82/100\n",
            "2/2 [==============================] - 0s 3ms/step - loss: 10.4027 - mae: 10.4027\n",
            "Epoch 83/100\n",
            "2/2 [==============================] - 0s 3ms/step - loss: 9.8278 - mae: 9.8278\n",
            "Epoch 84/100\n",
            "2/2 [==============================] - 0s 2ms/step - loss: 7.9216 - mae: 7.9216\n",
            "Epoch 85/100\n",
            "2/2 [==============================] - 0s 4ms/step - loss: 9.4285 - mae: 9.4285\n",
            "Epoch 86/100\n",
            "2/2 [==============================] - 0s 3ms/step - loss: 9.4746 - mae: 9.4746\n",
            "Epoch 87/100\n",
            "2/2 [==============================] - 0s 3ms/step - loss: 11.4175 - mae: 11.4175\n",
            "Epoch 88/100\n",
            "2/2 [==============================] - 0s 3ms/step - loss: 9.9149 - mae: 9.9149\n",
            "Epoch 89/100\n",
            "2/2 [==============================] - 0s 2ms/step - loss: 7.2395 - mae: 7.2395\n",
            "Epoch 90/100\n",
            "2/2 [==============================] - 0s 6ms/step - loss: 12.6733 - mae: 12.6733\n",
            "Epoch 91/100\n",
            "2/2 [==============================] - 0s 4ms/step - loss: 7.2954 - mae: 7.2954\n",
            "Epoch 92/100\n",
            "2/2 [==============================] - 0s 3ms/step - loss: 7.6574 - mae: 7.6574\n",
            "Epoch 93/100\n",
            "2/2 [==============================] - 0s 3ms/step - loss: 7.1061 - mae: 7.1061\n",
            "Epoch 94/100\n",
            "2/2 [==============================] - 0s 2ms/step - loss: 12.5221 - mae: 12.5221\n",
            "Epoch 95/100\n",
            "2/2 [==============================] - 0s 3ms/step - loss: 9.8967 - mae: 9.8967\n",
            "Epoch 96/100\n",
            "2/2 [==============================] - 0s 2ms/step - loss: 9.1337 - mae: 9.1337\n",
            "Epoch 97/100\n",
            "2/2 [==============================] - 0s 3ms/step - loss: 12.0887 - mae: 12.0887\n",
            "Epoch 98/100\n",
            "2/2 [==============================] - 0s 2ms/step - loss: 9.0437 - mae: 9.0437\n",
            "Epoch 99/100\n",
            "2/2 [==============================] - 0s 3ms/step - loss: 8.4901 - mae: 8.4901\n",
            "Epoch 100/100\n",
            "2/2 [==============================] - 0s 2ms/step - loss: 14.4733 - mae: 14.4733\n"
          ]
        },
        {
          "data": {
            "text/plain": [
              "<keras.callbacks.History at 0x1b885299390>"
            ]
          },
          "execution_count": 31,
          "metadata": {},
          "output_type": "execute_result"
        }
      ],
      "source": [
        "# Set random seed\n",
        "tf.random.set_seed(42)\n",
        "\n",
        "# Create a model (same as above)\n",
        "model = tf.keras.Sequential([\n",
        "  tf.keras.layers.Dense(1)\n",
        "])\n",
        "\n",
        "# Compile model (same as above)\n",
        "model.compile(loss=tf.keras.losses.mae,\n",
        "              optimizer=tf.keras.optimizers.SGD(),\n",
        "              metrics=[\"mae\"])\n",
        "\n",
        "# Fit model (same as above)\n",
        "model.fit(tf.expand_dims(X_train, axis=-1), y_train, epochs=100) # commented out on purpose (not fitting it just yet)"
      ]
    },
    {
      "cell_type": "markdown",
      "metadata": {
        "id": "hc2RHCCfqlAc"
      },
      "source": [
        "## Visualizing the model\n",
        "\n",
        "After you've built a model, you might want to take a look at it (especially if you haven't built many before).\n",
        "\n",
        "You can take a look at the layers and shapes of your model by calling [`summary()`](https://www.tensorflow.org/api_docs/python/tf/keras/Model#summary) on it.\n",
        "\n",
        "> 🔑 **Note:** Visualizing a model is particularly helpful when you run into input and output shape mismatches."
      ]
    },
    {
      "cell_type": "code",
      "execution_count": 32,
      "metadata": {
        "colab": {
          "base_uri": "https://localhost:8080/",
          "height": 347
        },
        "id": "OlgJj0cFwChH",
        "outputId": "083d7b9e-bb15-4307-ee55-4d07aea7547a"
      },
      "outputs": [
        {
          "name": "stdout",
          "output_type": "stream",
          "text": [
            "Model: \"sequential_5\"\n",
            "_________________________________________________________________\n",
            " Layer (type)                Output Shape              Param #   \n",
            "=================================================================\n",
            " dense_5 (Dense)             (None, 1)                 2         \n",
            "                                                                 \n",
            "=================================================================\n",
            "Total params: 2\n",
            "Trainable params: 2\n",
            "Non-trainable params: 0\n",
            "_________________________________________________________________\n"
          ]
        }
      ],
      "source": [
        "# Doesn't work (model not fit/built)\n",
        "model.summary()"
      ]
    },
    {
      "cell_type": "markdown",
      "metadata": {
        "id": "SJj6KLe8xsyF"
      },
      "source": [
        "Ahh, the cell above errors because we haven't fit or built our model.\n",
        "\n",
        "We also haven't told it what input shape it should be expecting.\n",
        "\n",
        "Remember above, how we discussed the input shape was just one number?\n",
        "\n",
        "We can let our model know the input shape of our data using the `input_shape` parameter to the first layer (usually if `input_shape` isn't defined, Keras tries to figure it out automatically)."
      ]
    },
    {
      "cell_type": "code",
      "execution_count": 33,
      "metadata": {
        "id": "zMXKFtFBuWgJ"
      },
      "outputs": [],
      "source": [
        "# Set random seed\n",
        "tf.random.set_seed(42)\n",
        "\n",
        "# Create a model (same as above)\n",
        "model = tf.keras.Sequential([\n",
        "  tf.keras.layers.Dense(1, input_shape=[1]) # define the input_shape to our model\n",
        "])\n",
        "\n",
        "# Compile model (same as above)\n",
        "model.compile(loss=tf.keras.losses.mae,\n",
        "              optimizer=tf.keras.optimizers.SGD(),\n",
        "              metrics=[\"mae\"])"
      ]
    },
    {
      "cell_type": "code",
      "execution_count": 34,
      "metadata": {
        "colab": {
          "base_uri": "https://localhost:8080/"
        },
        "id": "24Q325x2yCoi",
        "outputId": "3c29ddf8-7098-40b9-e58c-5b874526bd46"
      },
      "outputs": [
        {
          "name": "stdout",
          "output_type": "stream",
          "text": [
            "Model: \"sequential_6\"\n",
            "_________________________________________________________________\n",
            " Layer (type)                Output Shape              Param #   \n",
            "=================================================================\n",
            " dense_6 (Dense)             (None, 1)                 2         \n",
            "                                                                 \n",
            "=================================================================\n",
            "Total params: 2\n",
            "Trainable params: 2\n",
            "Non-trainable params: 0\n",
            "_________________________________________________________________\n"
          ]
        }
      ],
      "source": [
        "# This will work after specifying the input shape\n",
        "model.summary()"
      ]
    },
    {
      "cell_type": "markdown",
      "metadata": {
        "id": "jdurWKlryl6b"
      },
      "source": [
        "Calling `summary()` on our model shows us the layers it contains, the output shape and the number of parameters.\n",
        "* **Total params** - total number of parameters in the model.\n",
        "* **Trainable parameters** - these are the parameters (patterns) the model can update as it trains.\n",
        "* **Non-trainable parameters** - these parameters aren't updated during training (this is typical when you bring in the already learned patterns from other models during transfer learning).\n",
        "\n",
        "For now, all you need to think about these parameters is that their learnable patterns in the data."
      ]
    },
    {
      "cell_type": "code",
      "execution_count": 35,
      "metadata": {
        "colab": {
          "base_uri": "https://localhost:8080/"
        },
        "id": "-Kywg4q9u051",
        "outputId": "7a071bcb-9281-44e9-cda9-b3b5e1165bbd"
      },
      "outputs": [
        {
          "data": {
            "text/plain": [
              "<keras.callbacks.History at 0x1b885355ff0>"
            ]
          },
          "execution_count": 35,
          "metadata": {},
          "output_type": "execute_result"
        }
      ],
      "source": [
        "# Fit the model to the training data\n",
        "model.fit(X_train, y_train, epochs=100, verbose=0) # verbose controls how much gets output"
      ]
    },
    {
      "cell_type": "code",
      "execution_count": 36,
      "metadata": {
        "colab": {
          "base_uri": "https://localhost:8080/"
        },
        "id": "-jWuOwj961ri",
        "outputId": "a0bc6b4c-2ee6-41b0-d8c8-c332cdc976d9"
      },
      "outputs": [
        {
          "name": "stdout",
          "output_type": "stream",
          "text": [
            "Model: \"sequential_6\"\n",
            "_________________________________________________________________\n",
            " Layer (type)                Output Shape              Param #   \n",
            "=================================================================\n",
            " dense_6 (Dense)             (None, 1)                 2         \n",
            "                                                                 \n",
            "=================================================================\n",
            "Total params: 2\n",
            "Trainable params: 2\n",
            "Non-trainable params: 0\n",
            "_________________________________________________________________\n"
          ]
        }
      ],
      "source": [
        "# Check the model summary\n",
        "model.summary()"
      ]
    },
    {
      "cell_type": "markdown",
      "metadata": {
        "id": "RrrkHEkMYh5A"
      },
      "source": [
        "Alongside summary, you can also view a 2D plot of the model using [`plot_model()`](https://www.tensorflow.org/api_docs/python/tf/keras/utils/plot_model)."
      ]
    },
    {
      "cell_type": "code",
      "execution_count": 40,
      "metadata": {
        "colab": {
          "base_uri": "https://localhost:8080/",
          "height": 201
        },
        "id": "liIg5WqDfdK4",
        "outputId": "cd8d3811-4d9d-4809-909f-b132847e68f3"
      },
      "outputs": [
        {
          "name": "stdout",
          "output_type": "stream",
          "text": [
            "You must install pydot (`pip install pydot`) and install graphviz (see instructions at https://graphviz.gitlab.io/download/) for plot_model to work.\n"
          ]
        }
      ],
      "source": [
        "from tensorflow.keras.utils import plot_model\n",
        "\n",
        "plot_model(model, show_shapes=True)"
      ]
    },
    {
      "cell_type": "markdown",
      "metadata": {
        "id": "ygw7V8OVYxQS"
      },
      "source": [
        "In our case, the model we used only has an input and an output but visualizing more complicated models can be very helpful for debugging."
      ]
    },
    {
      "cell_type": "markdown",
      "metadata": {
        "id": "gebj2eptqwg8"
      },
      "source": [
        "## Visualizing the predictions\n",
        "\n",
        "Now we've got a trained model, let's visualize some predictions.\n",
        "\n",
        "To visualize predictions, it's always a good idea to plot them against the ground truth labels.\n",
        "\n",
        "Often you'll see this in the form of `y_test` vs. `y_pred` (ground truth vs. predictions).\n",
        "\n",
        "First, we'll make some predictions on the test data (`X_test`), remember the model has never seen the test data."
      ]
    },
    {
      "cell_type": "code",
      "execution_count": 41,
      "metadata": {
        "colab": {
          "base_uri": "https://localhost:8080/"
        },
        "id": "RRzj7LJMYftb",
        "outputId": "a7ff5799-23ae-4c4c-bc26-f3d1ad24dffb"
      },
      "outputs": [
        {
          "name": "stdout",
          "output_type": "stream",
          "text": [
            "1/1 [==============================] - 0s 29ms/step\n"
          ]
        }
      ],
      "source": [
        "# Make predictions\n",
        "y_preds = model.predict(X_test)"
      ]
    },
    {
      "cell_type": "code",
      "execution_count": 42,
      "metadata": {
        "colab": {
          "base_uri": "https://localhost:8080/"
        },
        "id": "_hKpW-KOZiAW",
        "outputId": "ad0bc00f-5906-433b-cb95-7730b29d2ba7"
      },
      "outputs": [
        {
          "data": {
            "text/plain": [
              "array([[ 74.60507],\n",
              "       [ 79.49349],\n",
              "       [ 84.38191],\n",
              "       [ 89.27033],\n",
              "       [ 94.15876],\n",
              "       [ 99.04718],\n",
              "       [103.9356 ],\n",
              "       [108.82402],\n",
              "       [113.71244],\n",
              "       [118.60086]], dtype=float32)"
            ]
          },
          "execution_count": 42,
          "metadata": {},
          "output_type": "execute_result"
        }
      ],
      "source": [
        "# View the predictions\n",
        "y_preds"
      ]
    },
    {
      "cell_type": "markdown",
      "metadata": {
        "id": "aPRaFncaZnT-"
      },
      "source": [
        "Okay, we get a list of numbers but how do these compare to the ground truth labels?\n",
        "\n",
        "Let's build a plotting function to find out.\n",
        "\n",
        "> 🔑 **Note:** If you think you're going to be visualizing something a lot, it's a good idea to functionize it so you can use it later."
      ]
    },
    {
      "cell_type": "code",
      "execution_count": 43,
      "metadata": {
        "id": "56euC69rZvNJ"
      },
      "outputs": [],
      "source": [
        "def plot_predictions(train_data=X_train, \n",
        "                     train_labels=y_train, \n",
        "                     test_data=X_test, \n",
        "                     test_labels=y_test, \n",
        "                     predictions=y_preds):\n",
        "  \"\"\"\n",
        "  Plots training data, test data and compares predictions.\n",
        "  \"\"\"\n",
        "  plt.figure(figsize=(10, 7))\n",
        "  # Plot training data in blue\n",
        "  plt.scatter(train_data, train_labels, c=\"b\", label=\"Training data\")\n",
        "  # Plot test data in green\n",
        "  plt.scatter(test_data, test_labels, c=\"g\", label=\"Testing data\")\n",
        "  # Plot the predictions in red (predictions were made on the test data)\n",
        "  plt.scatter(test_data, predictions, c=\"r\", label=\"Predictions\")\n",
        "  # Show the legend\n",
        "  plt.legend();"
      ]
    },
    {
      "cell_type": "code",
      "execution_count": 44,
      "metadata": {
        "colab": {
          "base_uri": "https://localhost:8080/",
          "height": 599
        },
        "id": "Fug5_B6Ab7Ah",
        "outputId": "dd044464-faf2-4570-fc82-8bd22fb4779b"
      },
      "outputs": [
        {
          "data": {
            "image/png": "[encoded data removed]",
            "text/plain": [
              "<Figure size 1000x700 with 1 Axes>"
            ]
          },
          "metadata": {},
          "output_type": "display_data"
        }
      ],
      "source": [
        "plot_predictions(train_data=X_train,\n",
        "                 train_labels=y_train,\n",
        "                 test_data=X_test,\n",
        "                 test_labels=y_test,\n",
        "                 predictions=y_preds)"
      ]
    },
    {
      "cell_type": "markdown",
      "metadata": {
        "id": "H63NPcgPcwZV"
      },
      "source": [
        "From the plot we can see our predictions aren't totally outlandish but they definitely aren't anything special either."
      ]
    },
    {
      "cell_type": "markdown",
      "metadata": {
        "id": "orAfIWOrgRDA"
      },
      "source": [
        "## Evaluating predictions\n",
        "\n",
        "Alongisde visualizations, evaulation metrics are your alternative best option for evaluating your model.\n",
        "\n",
        "Depending on the problem you're working on, different models have different evaluation metrics. \n",
        "\n",
        "Two of the main metrics used for regression problems are:\n",
        "* **Mean absolute error (MAE)** - the mean difference between each of the predictions.\n",
        "* **Mean squared error (MSE)** - the squared mean difference between of the predictions (use if larger errors are more detrimental than smaller errors).\n",
        "\n",
        "The lower each of these values, the better.\n",
        "\n",
        "You can also use [`model.evaluate()`](https://www.tensorflow.org/api_docs/python/tf/keras/Model#evaluate) which will return the loss of the model as well as any metrics setup during the compile step."
      ]
    },
    {
      "cell_type": "code",
      "execution_count": 45,
      "metadata": {
        "colab": {
          "base_uri": "https://localhost:8080/"
        },
        "id": "DPgTdF3ddxiY",
        "outputId": "b2ee36f3-1f3d-48dd-a4a9-40666798e614"
      },
      "outputs": [
        {
          "name": "stdout",
          "output_type": "stream",
          "text": [
            "1/1 [==============================] - 1s 533ms/step - loss: 8.6030 - mae: 8.6030\n"
          ]
        },
        {
          "data": {
            "text/plain": [
              "[8.602967262268066, 8.602967262268066]"
            ]
          },
          "execution_count": 45,
          "metadata": {},
          "output_type": "execute_result"
        }
      ],
      "source": [
        "# Evaluate the model on the test set\n",
        "model.evaluate(X_test, y_test)"
      ]
    },
    {
      "cell_type": "markdown",
      "metadata": {
        "id": "DAXIRyVzegFd"
      },
      "source": [
        "In our case, since we used MAE for the loss function as well as MAE for the metrics, `model.evaulate()` returns them both.\n",
        "\n",
        "TensorFlow also has built in functions for MSE and MAE.\n",
        "\n",
        "For many evaluation functions, the premise is the same: compare predictions to the ground truth labels."
      ]
    },
    {
      "cell_type": "code",
      "execution_count": 46,
      "metadata": {
        "colab": {
          "base_uri": "https://localhost:8080/"
        },
        "id": "gqoMQ0dJeD2S",
        "outputId": "2c170104-793b-43c9-dfd3-31bc8264e2e4"
      },
      "outputs": [
        {
          "data": {
            "text/plain": [
              "<tf.Tensor: shape=(10,), dtype=float32, numpy=\n",
              "array([14.436956, 11.802603, 10.323618, 10.      , 10.863504, 13.028308,\n",
              "       16.34848 , 20.82402 , 25.712439, 30.60086 ], dtype=float32)>"
            ]
          },
          "execution_count": 46,
          "metadata": {},
          "output_type": "execute_result"
        }
      ],
      "source": [
        "# Calculate the mean absolute error\n",
        "mae = tf.metrics.mean_absolute_error(y_true=y_test, \n",
        "                                     y_pred=y_preds)\n",
        "mae"
      ]
    },
    {
      "cell_type": "markdown",
      "metadata": {
        "id": "7pYp3XNYfkyC"
      },
      "source": [
        "Huh? That's strange, MAE should be a single output.\n",
        "\n",
        "Instead, we get 10 values.\n",
        "\n",
        "This is because our `y_test` and `y_preds` tensors are different shapes."
      ]
    },
    {
      "cell_type": "code",
      "execution_count": 47,
      "metadata": {
        "colab": {
          "base_uri": "https://localhost:8080/"
        },
        "id": "zeUHwOc2gIV4",
        "outputId": "48a311bd-b9eb-4caf-ff7f-a1a28b44abc8"
      },
      "outputs": [
        {
          "data": {
            "text/plain": [
              "array([ 70,  74,  78,  82,  86,  90,  94,  98, 102, 106])"
            ]
          },
          "execution_count": 47,
          "metadata": {},
          "output_type": "execute_result"
        }
      ],
      "source": [
        "# Check the test label tensor values\n",
        "y_test"
      ]
    },
    {
      "cell_type": "code",
      "execution_count": 48,
      "metadata": {
        "colab": {
          "base_uri": "https://localhost:8080/"
        },
        "id": "3aJwlTxugPyc",
        "outputId": "d329ceba-d669-4808-c6eb-3dc7388f8cfe"
      },
      "outputs": [
        {
          "data": {
            "text/plain": [
              "array([[ 74.60507],\n",
              "       [ 79.49349],\n",
              "       [ 84.38191],\n",
              "       [ 89.27033],\n",
              "       [ 94.15876],\n",
              "       [ 99.04718],\n",
              "       [103.9356 ],\n",
              "       [108.82402],\n",
              "       [113.71244],\n",
              "       [118.60086]], dtype=float32)"
            ]
          },
          "execution_count": 48,
          "metadata": {},
          "output_type": "execute_result"
        }
      ],
      "source": [
        "# Check the predictions tensor values (notice the extra square brackets)\n",
        "y_preds"
      ]
    },
    {
      "cell_type": "code",
      "execution_count": 49,
      "metadata": {
        "colab": {
          "base_uri": "https://localhost:8080/"
        },
        "id": "xolZ-lmge_ES",
        "outputId": "39274fda-255e-4b41-c9ce-fb70faf31cb9"
      },
      "outputs": [
        {
          "data": {
            "text/plain": [
              "((10,), (10, 1))"
            ]
          },
          "execution_count": 49,
          "metadata": {},
          "output_type": "execute_result"
        }
      ],
      "source": [
        "# Check the tensor shapes\n",
        "y_test.shape, y_preds.shape"
      ]
    },
    {
      "cell_type": "markdown",
      "metadata": {
        "id": "eW1qleu5gHyZ"
      },
      "source": [
        "Remember how we discussed dealing with different input and output shapes is one the most common issues you'll come across, this is one of those times.\n",
        "\n",
        "But not to worry.\n",
        "\n",
        "We can fix it using [`squeeze()`](https://www.tensorflow.org/api_docs/python/tf/squeeze), it'll remove the the `1` dimension from our `y_preds` tensor, making it the same shape as `y_test`.\n",
        "\n",
        "> 🔑 **Note:** If you're comparing two tensors, it's important to make sure they're the right shape(s) (you won't always have to manipulate the shapes, but always be on the look out, *many* errors are the result of mismatched tensors, especially mismatched input and output shapes)."
      ]
    },
    {
      "cell_type": "code",
      "execution_count": 50,
      "metadata": {
        "colab": {
          "base_uri": "https://localhost:8080/"
        },
        "id": "tVtMyw70g4aF",
        "outputId": "c542f5ec-1a13-4073-b1a5-e536bd22a4ff"
      },
      "outputs": [
        {
          "data": {
            "text/plain": [
              "(10, 1)"
            ]
          },
          "execution_count": 50,
          "metadata": {},
          "output_type": "execute_result"
        }
      ],
      "source": [
        "# Shape before squeeze()\n",
        "y_preds.shape"
      ]
    },
    {
      "cell_type": "code",
      "execution_count": 51,
      "metadata": {
        "colab": {
          "base_uri": "https://localhost:8080/"
        },
        "id": "qnYaBnCng-Nq",
        "outputId": "a2046fd7-6f44-4bae-a8b0-1e8a0d2151f2"
      },
      "outputs": [
        {
          "data": {
            "text/plain": [
              "(10,)"
            ]
          },
          "execution_count": 51,
          "metadata": {},
          "output_type": "execute_result"
        }
      ],
      "source": [
        "# Shape after squeeze()\n",
        "y_preds.squeeze().shape"
      ]
    },
    {
      "cell_type": "code",
      "execution_count": 52,
      "metadata": {
        "colab": {
          "base_uri": "https://localhost:8080/"
        },
        "id": "HxvVeD64hEX8",
        "outputId": "e8be73f4-109b-4273-cd2b-12f4b35f2aaa"
      },
      "outputs": [
        {
          "data": {
            "text/plain": [
              "(array([ 70,  74,  78,  82,  86,  90,  94,  98, 102, 106]),\n",
              " array([ 74.60507,  79.49349,  84.38191,  89.27033,  94.15876,  99.04718,\n",
              "        103.9356 , 108.82402, 113.71244, 118.60086], dtype=float32))"
            ]
          },
          "execution_count": 52,
          "metadata": {},
          "output_type": "execute_result"
        }
      ],
      "source": [
        "# What do they look like?\n",
        "y_test, y_preds.squeeze()"
      ]
    },
    {
      "cell_type": "markdown",
      "metadata": {
        "id": "mfUCIeHyhLk7"
      },
      "source": [
        "Okay, now we know how to make our `y_test` and `y_preds` tenors the same shape, let's use our evaluation metrics."
      ]
    },
    {
      "cell_type": "code",
      "execution_count": 53,
      "metadata": {
        "colab": {
          "base_uri": "https://localhost:8080/"
        },
        "id": "TvjY6GIJvXBO",
        "outputId": "d7d9bb98-3585-4295-f85d-1c25e9b3e640"
      },
      "outputs": [
        {
          "data": {
            "text/plain": [
              "<tf.Tensor: shape=(), dtype=float32, numpy=8.602967>"
            ]
          },
          "execution_count": 53,
          "metadata": {},
          "output_type": "execute_result"
        }
      ],
      "source": [
        "# Calcuate the MAE\n",
        "mae = tf.metrics.mean_absolute_error(y_true=y_test, \n",
        "                                     y_pred=y_preds.squeeze()) # use squeeze() to make same shape\n",
        "mae"
      ]
    },
    {
      "cell_type": "code",
      "execution_count": 54,
      "metadata": {
        "colab": {
          "base_uri": "https://localhost:8080/"
        },
        "id": "EwA9nGJzvbMT",
        "outputId": "401bfaea-7ee3-4fed-e556-a7c17aa371a7"
      },
      "outputs": [
        {
          "data": {
            "text/plain": [
              "<tf.Tensor: shape=(), dtype=float32, numpy=80.522705>"
            ]
          },
          "execution_count": 54,
          "metadata": {},
          "output_type": "execute_result"
        }
      ],
      "source": [
        "# Calculate the MSE\n",
        "mse = tf.metrics.mean_squared_error(y_true=y_test,\n",
        "                                    y_pred=y_preds.squeeze())\n",
        "mse"
      ]
    },
    {
      "cell_type": "markdown",
      "metadata": {
        "id": "X06oo_CIjPbL"
      },
      "source": [
        "We can also calculate the MAE using pure TensorFlow functions."
      ]
    },
    {
      "cell_type": "code",
      "execution_count": 55,
      "metadata": {
        "colab": {
          "base_uri": "https://localhost:8080/"
        },
        "id": "YxiD6-QBYSzd",
        "outputId": "40eecb0e-aa23-4c52-ae02-794cc9fd48ce"
      },
      "outputs": [
        {
          "data": {
            "text/plain": [
              "<tf.Tensor: shape=(), dtype=float64, numpy=8.602967071533204>"
            ]
          },
          "execution_count": 55,
          "metadata": {},
          "output_type": "execute_result"
        }
      ],
      "source": [
        "# Returns the same as tf.metrics.mean_absolute_error()\n",
        "tf.reduce_mean(tf.abs(y_test-y_preds.squeeze()))"
      ]
    },
    {
      "cell_type": "markdown",
      "metadata": {
        "id": "rmEho4lYofOa"
      },
      "source": [
        "Again, it's a good idea to functionize anything you think you might use over again (or find yourself using over and over again).\n",
        "\n",
        "Let's make functions for our evaluation metrics."
      ]
    },
    {
      "cell_type": "code",
      "execution_count": 56,
      "metadata": {
        "id": "bs1Z2jgNol5f"
      },
      "outputs": [],
      "source": [
        "def mae(y_test, y_pred):\n",
        "  \"\"\"\n",
        "  Calculuates mean absolute error between y_test and y_preds.\n",
        "  \"\"\"\n",
        "  return tf.metrics.mean_absolute_error(y_test,\n",
        "                                        y_pred)\n",
        "  \n",
        "def mse(y_test, y_pred):\n",
        "  \"\"\"\n",
        "  Calculates mean squared error between y_test and y_preds.\n",
        "  \"\"\"\n",
        "  return tf.metrics.mean_squared_error(y_test,\n",
        "                                       y_pred)"
      ]
    },
    {
      "cell_type": "markdown",
      "metadata": {
        "id": "zub5zK7bcl40"
      },
      "source": [
        "## Running experiments to improve a model\n",
        "\n",
        "After seeing the evaluation metrics and the predictions your model makes, it's likely you'll want to improve it.\n",
        "\n",
        "Again, there are many different ways you can do this, but 3 of the main ones are:\n",
        "1. **Get more data** - get more examples for your model to train on (more opportunities to learn patterns).\n",
        "2. **Make your model larger (use a more complex model)** - this might come in the form of more layers or more hidden units in each layer.\n",
        "3. **Train for longer** - give your model more of a chance to find the patterns in the data.\n",
        "\n",
        "Since we created our dataset, we could easily make more data but this isn't always the case when you're working with real-world datasets.\n",
        "\n",
        "So let's take a look at how we can improve our model using 2 and 3.\n",
        "\n",
        "To do so, we'll build 3 models and compare their results:\n",
        "1. `model_1` - same as original model, 1 layer, trained for 100 epochs.\n",
        "2. `model_2` - 2 layers, trained for 100 epochs.\n",
        "3. `model_3` - 2 layers, trained for 500 epochs.\n",
        "\n",
        "**Build `model_1`**"
      ]
    },
    {
      "cell_type": "code",
      "execution_count": 57,
      "metadata": {
        "colab": {
          "base_uri": "https://localhost:8080/"
        },
        "id": "StVHIIM9csyS",
        "outputId": "4428341a-7418-4fb8-e6d9-2b312a2a8a24"
      },
      "outputs": [
        {
          "name": "stdout",
          "output_type": "stream",
          "text": [
            "Epoch 1/100\n",
            "2/2 [==============================] - 0s 5ms/step - loss: 80.2931 - mae: 80.2931\n",
            "Epoch 2/100\n",
            "2/2 [==============================] - 0s 5ms/step - loss: 44.9106 - mae: 44.9106\n",
            "Epoch 3/100\n",
            "2/2 [==============================] - 0s 3ms/step - loss: 11.8075 - mae: 11.8075\n",
            "Epoch 4/100\n",
            "2/2 [==============================] - 0s 4ms/step - loss: 9.3029 - mae: 9.3029\n",
            "Epoch 5/100\n",
            "2/2 [==============================] - 0s 4ms/step - loss: 10.1676 - mae: 10.1676\n",
            "Epoch 6/100\n",
            "2/2 [==============================] - 0s 4ms/step - loss: 9.4338 - mae: 9.4338\n",
            "Epoch 7/100\n",
            "2/2 [==============================] - 0s 4ms/step - loss: 8.5765 - mae: 8.5765\n",
            "Epoch 8/100\n",
            "2/2 [==============================] - 0s 4ms/step - loss: 9.0672 - mae: 9.0672\n",
            "Epoch 9/100\n",
            "2/2 [==============================] - 0s 4ms/step - loss: 18.7230 - mae: 18.7230\n",
            "Epoch 10/100\n",
            "2/2 [==============================] - 0s 3ms/step - loss: 10.1151 - mae: 10.1151\n",
            "Epoch 11/100\n",
            "2/2 [==============================] - 0s 7ms/step - loss: 8.4126 - mae: 8.4126\n",
            "Epoch 12/100\n",
            "2/2 [==============================] - 0s 10ms/step - loss: 10.6692 - mae: 10.6692\n",
            "Epoch 13/100\n",
            "2/2 [==============================] - 0s 9ms/step - loss: 9.8145 - mae: 9.8145\n",
            "Epoch 14/100\n",
            "2/2 [==============================] - 0s 9ms/step - loss: 15.9764 - mae: 15.9764\n",
            "Epoch 15/100\n",
            "2/2 [==============================] - 0s 9ms/step - loss: 11.4629 - mae: 11.4629\n",
            "Epoch 16/100\n",
            "2/2 [==============================] - 0s 9ms/step - loss: 8.5505 - mae: 8.5505\n",
            "Epoch 17/100\n",
            "2/2 [==============================] - 0s 3ms/step - loss: 13.6345 - mae: 13.6345\n",
            "Epoch 18/100\n",
            "2/2 [==============================] - 0s 4ms/step - loss: 11.4564 - mae: 11.4564\n",
            "Epoch 19/100\n",
            "2/2 [==============================] - 0s 3ms/step - loss: 17.9694 - mae: 17.9694\n",
            "Epoch 20/100\n",
            "2/2 [==============================] - 0s 5ms/step - loss: 15.1036 - mae: 15.1036\n",
            "Epoch 21/100\n",
            "2/2 [==============================] - 0s 3ms/step - loss: 11.0728 - mae: 11.0728\n",
            "Epoch 22/100\n",
            "2/2 [==============================] - 0s 3ms/step - loss: 8.2068 - mae: 8.2068\n",
            "Epoch 23/100\n",
            "2/2 [==============================] - 0s 3ms/step - loss: 9.5172 - mae: 9.5172\n",
            "Epoch 24/100\n",
            "2/2 [==============================] - 0s 4ms/step - loss: 7.6935 - mae: 7.6935\n",
            "Epoch 25/100\n",
            "2/2 [==============================] - 0s 7ms/step - loss: 13.1495 - mae: 13.1495\n",
            "Epoch 26/100\n",
            "2/2 [==============================] - 0s 3ms/step - loss: 16.4746 - mae: 16.4746\n",
            "Epoch 27/100\n",
            "2/2 [==============================] - 0s 3ms/step - loss: 13.2148 - mae: 13.2148\n",
            "Epoch 28/100\n",
            "2/2 [==============================] - 0s 5ms/step - loss: 14.3139 - mae: 14.3139\n",
            "Epoch 29/100\n",
            "2/2 [==============================] - 0s 3ms/step - loss: 10.1010 - mae: 10.1010\n",
            "Epoch 30/100\n",
            "2/2 [==============================] - 0s 4ms/step - loss: 16.4132 - mae: 16.4132\n",
            "Epoch 31/100\n",
            "2/2 [==============================] - 0s 3ms/step - loss: 23.5972 - mae: 23.5972\n",
            "Epoch 32/100\n",
            "2/2 [==============================] - 0s 4ms/step - loss: 7.6379 - mae: 7.6379\n",
            "Epoch 33/100\n",
            "2/2 [==============================] - 0s 8ms/step - loss: 9.3349 - mae: 9.3349\n",
            "Epoch 34/100\n",
            "2/2 [==============================] - 0s 10ms/step - loss: 13.7120 - mae: 13.7120\n",
            "Epoch 35/100\n",
            "2/2 [==============================] - 0s 9ms/step - loss: 11.1738 - mae: 11.1738\n",
            "Epoch 36/100\n",
            "2/2 [==============================] - 0s 3ms/step - loss: 13.3849 - mae: 13.3849\n",
            "Epoch 37/100\n",
            "2/2 [==============================] - 0s 3ms/step - loss: 9.4828 - mae: 9.4828\n",
            "Epoch 38/100\n",
            "2/2 [==============================] - 0s 4ms/step - loss: 10.1382 - mae: 10.1382\n",
            "Epoch 39/100\n",
            "2/2 [==============================] - 0s 4ms/step - loss: 10.2258 - mae: 10.2258\n",
            "Epoch 40/100\n",
            "2/2 [==============================] - 0s 6ms/step - loss: 10.9657 - mae: 10.9657\n",
            "Epoch 41/100\n",
            "2/2 [==============================] - 0s 4ms/step - loss: 7.9550 - mae: 7.9550\n",
            "Epoch 42/100\n",
            "2/2 [==============================] - 0s 3ms/step - loss: 10.0949 - mae: 10.0949\n",
            "Epoch 43/100\n",
            "2/2 [==============================] - 0s 4ms/step - loss: 8.7166 - mae: 8.7166\n",
            "Epoch 44/100\n",
            "2/2 [==============================] - 0s 5ms/step - loss: 12.1851 - mae: 12.1851\n",
            "Epoch 45/100\n",
            "2/2 [==============================] - 0s 3ms/step - loss: 13.8547 - mae: 13.8547\n",
            "Epoch 46/100\n",
            "2/2 [==============================] - 0s 4ms/step - loss: 8.5191 - mae: 8.5191\n",
            "Epoch 47/100\n",
            "2/2 [==============================] - 0s 2ms/step - loss: 9.1388 - mae: 9.1388\n",
            "Epoch 48/100\n",
            "2/2 [==============================] - 0s 4ms/step - loss: 10.6169 - mae: 10.6169\n",
            "Epoch 49/100\n",
            "2/2 [==============================] - 0s 2ms/step - loss: 7.7573 - mae: 7.7573\n",
            "Epoch 50/100\n",
            "2/2 [==============================] - 0s 2ms/step - loss: 9.5399 - mae: 9.5399\n",
            "Epoch 51/100\n",
            "2/2 [==============================] - 0s 3ms/step - loss: 9.1768 - mae: 9.1768\n",
            "Epoch 52/100\n",
            "2/2 [==============================] - 0s 3ms/step - loss: 16.3171 - mae: 16.3171\n",
            "Epoch 53/100\n",
            "2/2 [==============================] - 0s 3ms/step - loss: 14.1714 - mae: 14.1714\n",
            "Epoch 54/100\n",
            "2/2 [==============================] - 0s 3ms/step - loss: 21.1967 - mae: 21.1967\n",
            "Epoch 55/100\n",
            "2/2 [==============================] - 0s 3ms/step - loss: 16.3600 - mae: 16.3600\n",
            "Epoch 56/100\n",
            "2/2 [==============================] - 0s 3ms/step - loss: 10.0372 - mae: 10.0372\n",
            "Epoch 57/100\n",
            "2/2 [==============================] - 0s 2ms/step - loss: 9.9627 - mae: 9.9627\n",
            "Epoch 58/100\n",
            "2/2 [==============================] - 0s 4ms/step - loss: 9.2269 - mae: 9.2269\n",
            "Epoch 59/100\n",
            "2/2 [==============================] - 0s 3ms/step - loss: 8.4266 - mae: 8.4266\n",
            "Epoch 60/100\n",
            "2/2 [==============================] - 0s 4ms/step - loss: 9.4967 - mae: 9.4967\n",
            "Epoch 61/100\n",
            "2/2 [==============================] - 0s 3ms/step - loss: 11.4289 - mae: 11.4289\n",
            "Epoch 62/100\n",
            "2/2 [==============================] - 0s 2ms/step - loss: 11.7463 - mae: 11.7463\n",
            "Epoch 63/100\n",
            "2/2 [==============================] - 0s 3ms/step - loss: 7.0983 - mae: 7.0983\n",
            "Epoch 64/100\n",
            "2/2 [==============================] - 0s 2ms/step - loss: 17.0226 - mae: 17.0226\n",
            "Epoch 65/100\n",
            "2/2 [==============================] - 0s 3ms/step - loss: 12.5086 - mae: 12.5086\n",
            "Epoch 66/100\n",
            "2/2 [==============================] - 0s 2ms/step - loss: 13.0753 - mae: 13.0753\n",
            "Epoch 67/100\n",
            "2/2 [==============================] - 0s 3ms/step - loss: 8.0986 - mae: 8.0986\n",
            "Epoch 68/100\n",
            "2/2 [==============================] - 0s 2ms/step - loss: 10.2340 - mae: 10.2340\n",
            "Epoch 69/100\n",
            "2/2 [==============================] - 0s 3ms/step - loss: 12.4235 - mae: 12.4235\n",
            "Epoch 70/100\n",
            "2/2 [==============================] - 0s 3ms/step - loss: 9.0583 - mae: 9.0583\n",
            "Epoch 71/100\n",
            "2/2 [==============================] - 0s 3ms/step - loss: 10.0417 - mae: 10.0417\n",
            "Epoch 72/100\n",
            "2/2 [==============================] - 0s 3ms/step - loss: 10.0602 - mae: 10.0602\n",
            "Epoch 73/100\n",
            "2/2 [==============================] - 0s 3ms/step - loss: 12.6022 - mae: 12.6022\n",
            "Epoch 74/100\n",
            "2/2 [==============================] - 0s 3ms/step - loss: 10.4427 - mae: 10.4427\n",
            "Epoch 75/100\n",
            "2/2 [==============================] - 0s 3ms/step - loss: 9.7283 - mae: 9.7283\n",
            "Epoch 76/100\n",
            "2/2 [==============================] - 0s 6ms/step - loss: 11.2246 - mae: 11.2246\n",
            "Epoch 77/100\n",
            "2/2 [==============================] - 0s 3ms/step - loss: 8.3698 - mae: 8.3698\n",
            "Epoch 78/100\n",
            "2/2 [==============================] - 0s 3ms/step - loss: 9.1209 - mae: 9.1209\n",
            "Epoch 79/100\n",
            "2/2 [==============================] - 0s 3ms/step - loss: 19.5739 - mae: 19.5739\n",
            "Epoch 80/100\n",
            "2/2 [==============================] - 0s 6ms/step - loss: 14.8648 - mae: 14.8648\n",
            "Epoch 81/100\n",
            "2/2 [==============================] - 0s 4ms/step - loss: 9.0694 - mae: 9.0694\n",
            "Epoch 82/100\n",
            "2/2 [==============================] - 0s 3ms/step - loss: 13.0006 - mae: 13.0006\n",
            "Epoch 83/100\n",
            "2/2 [==============================] - 0s 4ms/step - loss: 7.9294 - mae: 7.9294\n",
            "Epoch 84/100\n",
            "2/2 [==============================] - 0s 3ms/step - loss: 7.7230 - mae: 7.7230\n",
            "Epoch 85/100\n",
            "2/2 [==============================] - 0s 3ms/step - loss: 10.0814 - mae: 10.0814\n",
            "Epoch 86/100\n",
            "2/2 [==============================] - 0s 3ms/step - loss: 9.2833 - mae: 9.2833\n",
            "Epoch 87/100\n",
            "2/2 [==============================] - 0s 4ms/step - loss: 12.0703 - mae: 12.0703\n",
            "Epoch 88/100\n",
            "2/2 [==============================] - 0s 2ms/step - loss: 10.6921 - mae: 10.6921\n",
            "Epoch 89/100\n",
            "2/2 [==============================] - 0s 3ms/step - loss: 7.2945 - mae: 7.2945\n",
            "Epoch 90/100\n",
            "2/2 [==============================] - 0s 3ms/step - loss: 12.8352 - mae: 12.8352\n",
            "Epoch 91/100\n",
            "2/2 [==============================] - 0s 2ms/step - loss: 7.5102 - mae: 7.5102\n",
            "Epoch 92/100\n",
            "2/2 [==============================] - 0s 3ms/step - loss: 6.7769 - mae: 6.7769\n",
            "Epoch 93/100\n",
            "2/2 [==============================] - 0s 3ms/step - loss: 11.9853 - mae: 11.9853\n",
            "Epoch 94/100\n",
            "2/2 [==============================] - 0s 4ms/step - loss: 8.9157 - mae: 8.9157\n",
            "Epoch 95/100\n",
            "2/2 [==============================] - 0s 3ms/step - loss: 7.7536 - mae: 7.7536\n",
            "Epoch 96/100\n",
            "2/2 [==============================] - 0s 4ms/step - loss: 6.7778 - mae: 6.7778\n",
            "Epoch 97/100\n",
            "2/2 [==============================] - 0s 3ms/step - loss: 8.6698 - mae: 8.6698\n",
            "Epoch 98/100\n",
            "2/2 [==============================] - 0s 2ms/step - loss: 9.4103 - mae: 9.4103\n",
            "Epoch 99/100\n",
            "2/2 [==============================] - 0s 3ms/step - loss: 9.1470 - mae: 9.1470\n",
            "Epoch 100/100\n",
            "2/2 [==============================] - 0s 3ms/step - loss: 10.5008 - mae: 10.5008\n"
          ]
        },
        {
          "data": {
            "text/plain": [
              "<keras.callbacks.History at 0x1b885544880>"
            ]
          },
          "execution_count": 57,
          "metadata": {},
          "output_type": "execute_result"
        }
      ],
      "source": [
        "# Set random seed\n",
        "tf.random.set_seed(42)\n",
        "\n",
        "# Replicate original model\n",
        "model_1 = tf.keras.Sequential([\n",
        "  tf.keras.layers.Dense(1)\n",
        "])\n",
        "\n",
        "# Compile the model\n",
        "model_1.compile(loss=tf.keras.losses.mae,\n",
        "                optimizer=tf.keras.optimizers.SGD(),\n",
        "                metrics=['mae'])\n",
        "\n",
        "# Fit the model\n",
        "model_1.fit(tf.expand_dims(X_train, axis=-1), y_train, epochs=100)"
      ]
    },
    {
      "cell_type": "code",
      "execution_count": 58,
      "metadata": {
        "colab": {
          "base_uri": "https://localhost:8080/",
          "height": 617
        },
        "id": "A-Da56xspOrY",
        "outputId": "c468a93c-d7ed-4274-8ad7-a3c7c62e9efc"
      },
      "outputs": [
        {
          "name": "stdout",
          "output_type": "stream",
          "text": [
            "1/1 [==============================] - 0s 30ms/step\n"
          ]
        },
        {
          "data": {
            "image/png": "[encoded data removed]",
            "text/plain": [
              "<Figure size 1000x700 with 1 Axes>"
            ]
          },
          "metadata": {},
          "output_type": "display_data"
        }
      ],
      "source": [
        "# Make and plot predictions for model_1\n",
        "y_preds_1 = model_1.predict(X_test)\n",
        "plot_predictions(predictions=y_preds_1)"
      ]
    },
    {
      "cell_type": "code",
      "execution_count": 59,
      "metadata": {
        "colab": {
          "base_uri": "https://localhost:8080/"
        },
        "id": "EXxHBAtHoSh2",
        "outputId": "d0a48914-c28c-4aae-cc1c-aa2adfd94b8c"
      },
      "outputs": [
        {
          "data": {
            "text/plain": [
              "(15.015302, 226.3145)"
            ]
          },
          "execution_count": 59,
          "metadata": {},
          "output_type": "execute_result"
        }
      ],
      "source": [
        "# Calculate model_1 metrics\n",
        "mae_1 = mae(y_test, y_preds_1.squeeze()).numpy()\n",
        "mse_1 = mse(y_test, y_preds_1.squeeze()).numpy()\n",
        "mae_1, mse_1"
      ]
    },
    {
      "cell_type": "markdown",
      "metadata": {
        "id": "XXELOpdBrE9_"
      },
      "source": [
        "**Build `model_2`**\n",
        "\n",
        "This time we'll add an extra dense layer (so now our model will have 2 layers) whilst keeping everything else the same."
      ]
    },
    {
      "cell_type": "code",
      "execution_count": 60,
      "metadata": {
        "colab": {
          "base_uri": "https://localhost:8080/"
        },
        "id": "05vcgEP3rEFi",
        "outputId": "38d3aede-85f2-4670-f1d0-168065fdec1b"
      },
      "outputs": [
        {
          "data": {
            "text/plain": [
              "<keras.callbacks.History at 0x1b88553e980>"
            ]
          },
          "execution_count": 60,
          "metadata": {},
          "output_type": "execute_result"
        }
      ],
      "source": [
        "# Set random seed\n",
        "tf.random.set_seed(42)\n",
        "\n",
        "# Replicate model_1 and add an extra layer\n",
        "model_2 = tf.keras.Sequential([\n",
        "  tf.keras.layers.Dense(1),\n",
        "  tf.keras.layers.Dense(1) # add a second layer\n",
        "])\n",
        "\n",
        "# Compile the model\n",
        "model_2.compile(loss=tf.keras.losses.mae,\n",
        "                optimizer=tf.keras.optimizers.SGD(),\n",
        "                metrics=['mae'])\n",
        "\n",
        "# Fit the model\n",
        "model_2.fit(tf.expand_dims(X_train, axis=-1), y_train, epochs=100, verbose=0) # set verbose to 0 for less output"
      ]
    },
    {
      "cell_type": "code",
      "execution_count": 61,
      "metadata": {
        "colab": {
          "base_uri": "https://localhost:8080/",
          "height": 655
        },
        "id": "9xCbDcoDraux",
        "outputId": "322c6548-42c1-42ec-8680-3a1e649a9607"
      },
      "outputs": [
        {
          "name": "stdout",
          "output_type": "stream",
          "text": [
            "WARNING:tensorflow:5 out of the last 5 calls to <function Model.make_predict_function.<locals>.predict_function at 0x000001B8897AAD40> triggered tf.function retracing. Tracing is expensive and the excessive number of tracings could be due to (1) creating @tf.function repeatedly in a loop, (2) passing tensors with different shapes, (3) passing Python objects instead of tensors. For (1), please define your @tf.function outside of the loop. For (2), @tf.function has reduce_retracing=True option that can avoid unnecessary retracing. For (3), please refer to https://www.tensorflow.org/guide/function#controlling_retracing and https://www.tensorflow.org/api_docs/python/tf/function for  more details.\n",
            "1/1 [==============================] - 0s 36ms/step\n"
          ]
        },
        {
          "data": {
            "image/png": "[encoded data removed]",
            "text/plain": [
              "<Figure size 1000x700 with 1 Axes>"
            ]
          },
          "metadata": {},
          "output_type": "display_data"
        }
      ],
      "source": [
        "# Make and plot predictions for model_2\n",
        "y_preds_2 = model_2.predict(X_test)\n",
        "plot_predictions(predictions=y_preds_2)"
      ]
    },
    {
      "cell_type": "markdown",
      "metadata": {
        "id": "GxMYu5Frri6o"
      },
      "source": [
        "Woah, that's looking better already! And all it took was an extra layer."
      ]
    },
    {
      "cell_type": "code",
      "execution_count": 62,
      "metadata": {
        "colab": {
          "base_uri": "https://localhost:8080/"
        },
        "id": "9LnPuGaBrcrP",
        "outputId": "57f30e96-4218-45cd-8539-a18198dde62c"
      },
      "outputs": [
        {
          "data": {
            "text/plain": [
              "(43.164604, 1889.1748)"
            ]
          },
          "execution_count": 62,
          "metadata": {},
          "output_type": "execute_result"
        }
      ],
      "source": [
        "# Calculate model_2 metrics\n",
        "mae_2 = mae(y_test, y_preds_2.squeeze()).numpy()\n",
        "mse_2 = mse(y_test, y_preds_2.squeeze()).numpy()\n",
        "mae_2, mse_2"
      ]
    },
    {
      "cell_type": "markdown",
      "metadata": {
        "id": "R8i9yfQGrwHx"
      },
      "source": [
        "**Build `model_3`**\n",
        "\n",
        "For our 3rd model, we'll keep everything the same as `model_2` except this time we'll train for longer (500 epochs instead of 100).\n",
        "\n",
        "This will give our model more of a chance to learn the patterns in the data."
      ]
    },
    {
      "cell_type": "code",
      "execution_count": 63,
      "metadata": {
        "colab": {
          "base_uri": "https://localhost:8080/"
        },
        "id": "ABGwQFsbrvUS",
        "outputId": "47e29c0e-bf45-4332-94a0-7a02e2d4f9b2"
      },
      "outputs": [
        {
          "data": {
            "text/plain": [
              "<keras.callbacks.History at 0x1b88976c700>"
            ]
          },
          "execution_count": 63,
          "metadata": {},
          "output_type": "execute_result"
        }
      ],
      "source": [
        "# Set random seed\n",
        "tf.random.set_seed(42)\n",
        "\n",
        "# Replicate model_2\n",
        "model_3 = tf.keras.Sequential([\n",
        "  tf.keras.layers.Dense(1),\n",
        "  tf.keras.layers.Dense(1)\n",
        "])\n",
        "\n",
        "# Compile the model\n",
        "model_3.compile(loss=tf.keras.losses.mae,\n",
        "                optimizer=tf.keras.optimizers.SGD(),\n",
        "                metrics=['mae'])\n",
        "\n",
        "# Fit the model (this time for 500 epochs, not 100)\n",
        "model_3.fit(tf.expand_dims(X_train, axis=-1), y_train, epochs=500, verbose=0) # set verbose to 0 for less output"
      ]
    },
    {
      "cell_type": "code",
      "execution_count": 64,
      "metadata": {
        "colab": {
          "base_uri": "https://localhost:8080/",
          "height": 655
        },
        "id": "jEz4bVmasbFk",
        "outputId": "27d67368-f794-4a6d-e508-59c60458fd77"
      },
      "outputs": [
        {
          "name": "stdout",
          "output_type": "stream",
          "text": [
            "WARNING:tensorflow:6 out of the last 6 calls to <function Model.make_predict_function.<locals>.predict_function at 0x000001B8898FAC20> triggered tf.function retracing. Tracing is expensive and the excessive number of tracings could be due to (1) creating @tf.function repeatedly in a loop, (2) passing tensors with different shapes, (3) passing Python objects instead of tensors. For (1), please define your @tf.function outside of the loop. For (2), @tf.function has reduce_retracing=True option that can avoid unnecessary retracing. For (3), please refer to https://www.tensorflow.org/guide/function#controlling_retracing and https://www.tensorflow.org/api_docs/python/tf/function for  more details.\n",
            "1/1 [==============================] - 0s 36ms/step\n"
          ]
        },
        {
          "data": {
            "image/png": "[encoded data removed]",
            "text/plain": [
              "<Figure size 1000x700 with 1 Axes>"
            ]
          },
          "metadata": {},
          "output_type": "display_data"
        }
      ],
      "source": [
        "# Make and plot predictions for model_3\n",
        "y_preds_3 = model_3.predict(X_test)\n",
        "plot_predictions(predictions=y_preds_3)"
      ]
    },
    {
      "cell_type": "markdown",
      "metadata": {
        "id": "38Ki8ZHcsztG"
      },
      "source": [
        "Strange, we trained for longer but our model performed worse?\n",
        "\n",
        "As it turns out, our model might've trained too long and has thus resulted in worse results (we'll see ways to prevent training for too long later on)."
      ]
    },
    {
      "cell_type": "code",
      "execution_count": 65,
      "metadata": {
        "colab": {
          "base_uri": "https://localhost:8080/"
        },
        "id": "BPTUcFe4sbfk",
        "outputId": "2e867a61-9fc2-4fbb-e193-63fb44fc643d"
      },
      "outputs": [
        {
          "data": {
            "text/plain": [
              "(68.09957, 4722.371)"
            ]
          },
          "execution_count": 65,
          "metadata": {},
          "output_type": "execute_result"
        }
      ],
      "source": [
        "# Calculate model_3 metrics\n",
        "mae_3 = mae(y_test, y_preds_3.squeeze()).numpy()\n",
        "mse_3 = mse(y_test, y_preds_3.squeeze()).numpy()\n",
        "mae_3, mse_3"
      ]
    },
    {
      "cell_type": "markdown",
      "metadata": {
        "id": "UPEeM3UsrxGB"
      },
      "source": [
        "## Comparing results\n",
        "\n",
        "Now we've got results for 3 similar but slightly different results, let's compare them."
      ]
    },
    {
      "cell_type": "code",
      "execution_count": 66,
      "metadata": {
        "id": "mw5RZk-BqLZd"
      },
      "outputs": [],
      "source": [
        "model_results = [[\"model_1\", mae_1, mse_1],\n",
        "                 [\"model_2\", mae_2, mse_2],\n",
        "                 [\"model_3\", mae_3, mae_3]]"
      ]
    },
    {
      "cell_type": "code",
      "execution_count": 68,
      "metadata": {
        "colab": {
          "base_uri": "https://localhost:8080/",
          "height": 143
        },
        "id": "Ip7bKH83p5X0",
        "outputId": "8783303f-53d2-44d3-a66c-f1bfec3b399e"
      },
      "outputs": [
        {
          "data": {
            "text/html": [
              "<div>\n",
              "<style scoped>\n",
              "    .dataframe tbody tr th:only-of-type {\n",
              "        vertical-align: middle;\n",
              "    }\n",
              "\n",
              "    .dataframe tbody tr th {\n",
              "        vertical-align: top;\n",
              "    }\n",
              "\n",
              "    .dataframe thead th {\n",
              "        text-align: right;\n",
              "    }\n",
              "</style>\n",
              "<table border=\"1\" class=\"dataframe\">\n",
              "  <thead>\n",
              "    <tr style=\"text-align: right;\">\n",
              "      <th></th>\n",
              "      <th>model</th>\n",
              "      <th>mae</th>\n",
              "      <th>mse</th>\n",
              "    </tr>\n",
              "  </thead>\n",
              "  <tbody>\n",
              "    <tr>\n",
              "      <th>0</th>\n",
              "      <td>model_1</td>\n",
              "      <td>15.015302</td>\n",
              "      <td>226.314499</td>\n",
              "    </tr>\n",
              "    <tr>\n",
              "      <th>1</th>\n",
              "      <td>model_2</td>\n",
              "      <td>43.164604</td>\n",
              "      <td>1889.174805</td>\n",
              "    </tr>\n",
              "    <tr>\n",
              "      <th>2</th>\n",
              "      <td>model_3</td>\n",
              "      <td>68.099571</td>\n",
              "      <td>68.099571</td>\n",
              "    </tr>\n",
              "  </tbody>\n",
              "</table>\n",
              "</div>"
            ],
            "text/plain": [
              "     model        mae          mse\n",
              "0  model_1  15.015302   226.314499\n",
              "1  model_2  43.164604  1889.174805\n",
              "2  model_3  68.099571    68.099571"
            ]
          },
          "execution_count": 68,
          "metadata": {},
          "output_type": "execute_result"
        }
      ],
      "source": [
        "import pandas as pd\n",
        "all_results = pd.DataFrame(model_results, columns=[\"model\", \"mae\", \"mse\"])\n",
        "all_results"
      ]
    },
    {
      "cell_type": "markdown",
      "metadata": {
        "id": "Fe5DgNbX6192"
      },
      "source": [
        "## Saving a model\n",
        "\n",
        "Once you've trained a model and found one which performs to your liking, you'll probably want to save it for use elsewhere (like a web application or mobile device).\n",
        "\n",
        "You can save a TensorFlow/Keras model using [`model.save()`](https://www.tensorflow.org/tutorials/keras/save_and_load#save_the_entire_model).\n",
        "\n",
        "There are two ways to save a model in TensorFlow:\n",
        "1. The [SavedModel format](https://www.tensorflow.org/tutorials/keras/save_and_load#savedmodel_format) (default).\n",
        "2. The [HDF5 format](https://www.tensorflow.org/tutorials/keras/save_and_load#hdf5_format).\n",
        "\n",
        "The main difference between the two is the SavedModel is automatically able to save custom objects (such as special layers) without additional modifications when loading the model back in.\n",
        "\n",
        "Which one should you use?\n",
        "\n",
        "It depends on your situation but the SavedModel format will suffice most of the time.\n",
        "\n",
        "Both methods use the same method call."
      ]
    },
    {
      "cell_type": "code",
      "execution_count": 69,
      "metadata": {
        "colab": {
          "base_uri": "https://localhost:8080/"
        },
        "id": "gg0jD2cUoPsg",
        "outputId": "261f2136-244e-40da-9aab-51b629b8e2ca"
      },
      "outputs": [
        {
          "name": "stdout",
          "output_type": "stream",
          "text": [
            "INFO:tensorflow:Assets written to: best_model_SavedModel_format\\assets\n"
          ]
        }
      ],
      "source": [
        "# Save a model using the SavedModel format\n",
        "model_2.save('best_model_SavedModel_format')"
      ]
    },
    {
      "cell_type": "markdown",
      "metadata": {
        "id": "NGKmWco_SOEU"
      },
      "source": [
        "Now let's save the model in the HDF5 format, we'll use the same method but with a different filename."
      ]
    },
    {
      "cell_type": "code",
      "execution_count": 71,
      "metadata": {
        "id": "97J6GJMBSM2j"
      },
      "outputs": [],
      "source": [
        "# Save a model using the HDF5 format\n",
        "model_2.save(\"best_model_HDF5_format.h5\") # note the addition of '.h5' on the end"
      ]
    },
    {
      "cell_type": "markdown",
      "metadata": {
        "id": "OGA02tY97EUI"
      },
      "source": [
        "## Loading a model\n",
        "\n",
        "We can load a saved model using the [`load_model()`](https://www.tensorflow.org/api_docs/python/tf/keras/models/load_model) method.\n",
        "\n",
        "Loading a model for the different formats (SavedModel and HDF5) is the same (as long as the pathnames to the particular formats are correct)."
      ]
    },
    {
      "cell_type": "code",
      "execution_count": 72,
      "metadata": {
        "colab": {
          "base_uri": "https://localhost:8080/"
        },
        "id": "FzyLIWfs7Fvh",
        "outputId": "de1e3965-fe8f-49fd-ce96-a55f39734ca7"
      },
      "outputs": [
        {
          "name": "stdout",
          "output_type": "stream",
          "text": [
            "Model: \"sequential_8\"\n",
            "_________________________________________________________________\n",
            " Layer (type)                Output Shape              Param #   \n",
            "=================================================================\n",
            " dense_8 (Dense)             (None, 1)                 2         \n",
            "                                                                 \n",
            " dense_9 (Dense)             (None, 1)                 2         \n",
            "                                                                 \n",
            "=================================================================\n",
            "Total params: 4\n",
            "Trainable params: 4\n",
            "Non-trainable params: 0\n",
            "_________________________________________________________________\n"
          ]
        }
      ],
      "source": [
        "# Load a model from the SavedModel format\n",
        "loaded_saved_model = tf.keras.models.load_model(\"best_model_SavedModel_format\")\n",
        "loaded_saved_model.summary()"
      ]
    },
    {
      "cell_type": "markdown",
      "metadata": {
        "id": "MfGO0dCQTeQh"
      },
      "source": [
        "Now let's test it out."
      ]
    },
    {
      "cell_type": "code",
      "execution_count": 73,
      "metadata": {
        "colab": {
          "base_uri": "https://localhost:8080/"
        },
        "id": "7rehN8ZxTy43",
        "outputId": "23cd7811-f6d6-4dcc-816f-e2fde1492b03"
      },
      "outputs": [
        {
          "name": "stdout",
          "output_type": "stream",
          "text": [
            "1/1 [==============================] - 0s 23ms/step\n",
            "1/1 [==============================] - 0s 35ms/step\n"
          ]
        },
        {
          "data": {
            "text/plain": [
              "True"
            ]
          },
          "execution_count": 73,
          "metadata": {},
          "output_type": "execute_result"
        }
      ],
      "source": [
        "# Compare model_2 with the SavedModel version (should return True)\n",
        "model_2_preds = model_2.predict(X_test)\n",
        "saved_model_preds = loaded_saved_model.predict(X_test)\n",
        "mae(y_test, saved_model_preds.squeeze()).numpy() == mae(y_test, model_2_preds.squeeze()).numpy()"
      ]
    },
    {
      "cell_type": "markdown",
      "metadata": {
        "id": "prjkfX6rUZ6a"
      },
      "source": [
        "Loading in from the HDF5 is much the same."
      ]
    },
    {
      "cell_type": "code",
      "execution_count": 74,
      "metadata": {
        "colab": {
          "base_uri": "https://localhost:8080/"
        },
        "id": "dQfx-bWKUfRQ",
        "outputId": "b418e506-026d-4c80-cf7d-b733381564b4"
      },
      "outputs": [
        {
          "name": "stdout",
          "output_type": "stream",
          "text": [
            "Model: \"sequential_8\"\n",
            "_________________________________________________________________\n",
            " Layer (type)                Output Shape              Param #   \n",
            "=================================================================\n",
            " dense_8 (Dense)             (None, 1)                 2         \n",
            "                                                                 \n",
            " dense_9 (Dense)             (None, 1)                 2         \n",
            "                                                                 \n",
            "=================================================================\n",
            "Total params: 4\n",
            "Trainable params: 4\n",
            "Non-trainable params: 0\n",
            "_________________________________________________________________\n"
          ]
        }
      ],
      "source": [
        "# Load a model from the HDF5 format\n",
        "loaded_h5_model = tf.keras.models.load_model(\"best_model_HDF5_format.h5\")\n",
        "loaded_h5_model.summary()"
      ]
    },
    {
      "cell_type": "code",
      "execution_count": 75,
      "metadata": {
        "colab": {
          "base_uri": "https://localhost:8080/"
        },
        "id": "L0kT91h-Uru-",
        "outputId": "2c11f0b5-e847-4986-a904-dab855b859bc"
      },
      "outputs": [
        {
          "name": "stdout",
          "output_type": "stream",
          "text": [
            "1/1 [==============================] - 0s 33ms/step\n"
          ]
        },
        {
          "data": {
            "text/plain": [
              "True"
            ]
          },
          "execution_count": 75,
          "metadata": {},
          "output_type": "execute_result"
        }
      ],
      "source": [
        "# Compare model_2 with the loaded HDF5 version (should return True)\n",
        "h5_model_preds = loaded_h5_model.predict(X_test)\n",
        "mae(y_test, h5_model_preds.squeeze()).numpy() == mae(y_test, model_2_preds.squeeze()).numpy()"
      ]
    },
    {
      "cell_type": "markdown",
      "metadata": {
        "id": "7xpVdMtKw6X4"
      },
      "source": [
        "## A larger example\n",
        "More specifically we're going to try predict the cost of medical insurance for individuals based on a number of different parameters such as, `age`, `sex`, `bmi`, `children`, `smoking_status` and `residential_region`."
      ]
    },
    {
      "cell_type": "code",
      "execution_count": 76,
      "metadata": {
        "id": "WWK1LBxapgc2"
      },
      "outputs": [],
      "source": [
        "# Import required libraries\n",
        "import tensorflow as tf\n",
        "import pandas as pd\n",
        "import matplotlib.pyplot as plt"
      ]
    },
    {
      "cell_type": "code",
      "execution_count": 77,
      "metadata": {
        "id": "JrnTr5N9blFo"
      },
      "outputs": [],
      "source": [
        "# Read in the insurance dataset\n",
        "insurance = pd.read_csv(\"https://raw.githubusercontent.com/stedy/Machine-Learning-with-R-datasets/master/insurance.csv\")"
      ]
    },
    {
      "cell_type": "code",
      "execution_count": 78,
      "metadata": {
        "colab": {
          "base_uri": "https://localhost:8080/",
          "height": 206
        },
        "id": "QtXPN7cfb4Nm",
        "outputId": "68eb5a00-f480-48fb-ab5f-adbc9d256fd7"
      },
      "outputs": [
        {
          "data": {
            "text/html": [
              "<div>\n",
              "<style scoped>\n",
              "    .dataframe tbody tr th:only-of-type {\n",
              "        vertical-align: middle;\n",
              "    }\n",
              "\n",
              "    .dataframe tbody tr th {\n",
              "        vertical-align: top;\n",
              "    }\n",
              "\n",
              "    .dataframe thead th {\n",
              "        text-align: right;\n",
              "    }\n",
              "</style>\n",
              "<table border=\"1\" class=\"dataframe\">\n",
              "  <thead>\n",
              "    <tr style=\"text-align: right;\">\n",
              "      <th></th>\n",
              "      <th>age</th>\n",
              "      <th>sex</th>\n",
              "      <th>bmi</th>\n",
              "      <th>children</th>\n",
              "      <th>smoker</th>\n",
              "      <th>region</th>\n",
              "      <th>charges</th>\n",
              "    </tr>\n",
              "  </thead>\n",
              "  <tbody>\n",
              "    <tr>\n",
              "      <th>0</th>\n",
              "      <td>19</td>\n",
              "      <td>female</td>\n",
              "      <td>27.900</td>\n",
              "      <td>0</td>\n",
              "      <td>yes</td>\n",
              "      <td>southwest</td>\n",
              "      <td>16884.92400</td>\n",
              "    </tr>\n",
              "    <tr>\n",
              "      <th>1</th>\n",
              "      <td>18</td>\n",
              "      <td>male</td>\n",
              "      <td>33.770</td>\n",
              "      <td>1</td>\n",
              "      <td>no</td>\n",
              "      <td>southeast</td>\n",
              "      <td>1725.55230</td>\n",
              "    </tr>\n",
              "    <tr>\n",
              "      <th>2</th>\n",
              "      <td>28</td>\n",
              "      <td>male</td>\n",
              "      <td>33.000</td>\n",
              "      <td>3</td>\n",
              "      <td>no</td>\n",
              "      <td>southeast</td>\n",
              "      <td>4449.46200</td>\n",
              "    </tr>\n",
              "    <tr>\n",
              "      <th>3</th>\n",
              "      <td>33</td>\n",
              "      <td>male</td>\n",
              "      <td>22.705</td>\n",
              "      <td>0</td>\n",
              "      <td>no</td>\n",
              "      <td>northwest</td>\n",
              "      <td>21984.47061</td>\n",
              "    </tr>\n",
              "    <tr>\n",
              "      <th>4</th>\n",
              "      <td>32</td>\n",
              "      <td>male</td>\n",
              "      <td>28.880</td>\n",
              "      <td>0</td>\n",
              "      <td>no</td>\n",
              "      <td>northwest</td>\n",
              "      <td>3866.85520</td>\n",
              "    </tr>\n",
              "  </tbody>\n",
              "</table>\n",
              "</div>"
            ],
            "text/plain": [
              "   age     sex     bmi  children smoker     region      charges\n",
              "0   19  female  27.900         0    yes  southwest  16884.92400\n",
              "1   18    male  33.770         1     no  southeast   1725.55230\n",
              "2   28    male  33.000         3     no  southeast   4449.46200\n",
              "3   33    male  22.705         0     no  northwest  21984.47061\n",
              "4   32    male  28.880         0     no  northwest   3866.85520"
            ]
          },
          "execution_count": 78,
          "metadata": {},
          "output_type": "execute_result"
        }
      ],
      "source": [
        "# Check out the insurance dataset\n",
        "insurance.head()"
      ]
    },
    {
      "cell_type": "markdown",
      "metadata": {
        "id": "s55oIsYv0KkZ"
      },
      "source": [
        "We're going to have to turn the non-numerical columns into numbers (because a neural network can't handle non-numerical inputs).\n",
        "\n",
        "To do so, we'll use the [`get_dummies()`](https://pandas.pydata.org/pandas-docs/stable/reference/api/pandas.get_dummies.html) method in pandas.\n",
        "\n",
        "It converts categorical variables (like the `sex`, `smoker` and `region` columns) into numerical variables using one-hot encoding."
      ]
    },
    {
      "cell_type": "code",
      "execution_count": 67,
      "metadata": {
        "colab": {
          "base_uri": "https://localhost:8080/",
          "height": 270
        },
        "id": "MqM_BmPkdon8",
        "outputId": "2be858a1-b1d9-4687-9020-7c642bfdc019"
      },
      "outputs": [
        {
          "data": {
            "text/html": [
              "\n",
              "  <div id=\"df-c92f1586-abdd-470c-8ec2-39b1036ea2cc\">\n",
              "    <div class=\"colab-df-container\">\n",
              "      <div>\n",
              "<style scoped>\n",
              "    .dataframe tbody tr th:only-of-type {\n",
              "        vertical-align: middle;\n",
              "    }\n",
              "\n",
              "    .dataframe tbody tr th {\n",
              "        vertical-align: top;\n",
              "    }\n",
              "\n",
              "    .dataframe thead th {\n",
              "        text-align: right;\n",
              "    }\n",
              "</style>\n",
              "<table border=\"1\" class=\"dataframe\">\n",
              "  <thead>\n",
              "    <tr style=\"text-align: right;\">\n",
              "      <th></th>\n",
              "      <th>age</th>\n",
              "      <th>bmi</th>\n",
              "      <th>children</th>\n",
              "      <th>charges</th>\n",
              "      <th>sex_female</th>\n",
              "      <th>sex_male</th>\n",
              "      <th>smoker_no</th>\n",
              "      <th>smoker_yes</th>\n",
              "      <th>region_northeast</th>\n",
              "      <th>region_northwest</th>\n",
              "      <th>region_southeast</th>\n",
              "      <th>region_southwest</th>\n",
              "    </tr>\n",
              "  </thead>\n",
              "  <tbody>\n",
              "    <tr>\n",
              "      <th>0</th>\n",
              "      <td>19</td>\n",
              "      <td>27.900</td>\n",
              "      <td>0</td>\n",
              "      <td>16884.92400</td>\n",
              "      <td>1</td>\n",
              "      <td>0</td>\n",
              "      <td>0</td>\n",
              "      <td>1</td>\n",
              "      <td>0</td>\n",
              "      <td>0</td>\n",
              "      <td>0</td>\n",
              "      <td>1</td>\n",
              "    </tr>\n",
              "    <tr>\n",
              "      <th>1</th>\n",
              "      <td>18</td>\n",
              "      <td>33.770</td>\n",
              "      <td>1</td>\n",
              "      <td>1725.55230</td>\n",
              "      <td>0</td>\n",
              "      <td>1</td>\n",
              "      <td>1</td>\n",
              "      <td>0</td>\n",
              "      <td>0</td>\n",
              "      <td>0</td>\n",
              "      <td>1</td>\n",
              "      <td>0</td>\n",
              "    </tr>\n",
              "    <tr>\n",
              "      <th>2</th>\n",
              "      <td>28</td>\n",
              "      <td>33.000</td>\n",
              "      <td>3</td>\n",
              "      <td>4449.46200</td>\n",
              "      <td>0</td>\n",
              "      <td>1</td>\n",
              "      <td>1</td>\n",
              "      <td>0</td>\n",
              "      <td>0</td>\n",
              "      <td>0</td>\n",
              "      <td>1</td>\n",
              "      <td>0</td>\n",
              "    </tr>\n",
              "    <tr>\n",
              "      <th>3</th>\n",
              "      <td>33</td>\n",
              "      <td>22.705</td>\n",
              "      <td>0</td>\n",
              "      <td>21984.47061</td>\n",
              "      <td>0</td>\n",
              "      <td>1</td>\n",
              "      <td>1</td>\n",
              "      <td>0</td>\n",
              "      <td>0</td>\n",
              "      <td>1</td>\n",
              "      <td>0</td>\n",
              "      <td>0</td>\n",
              "    </tr>\n",
              "    <tr>\n",
              "      <th>4</th>\n",
              "      <td>32</td>\n",
              "      <td>28.880</td>\n",
              "      <td>0</td>\n",
              "      <td>3866.85520</td>\n",
              "      <td>0</td>\n",
              "      <td>1</td>\n",
              "      <td>1</td>\n",
              "      <td>0</td>\n",
              "      <td>0</td>\n",
              "      <td>1</td>\n",
              "      <td>0</td>\n",
              "      <td>0</td>\n",
              "    </tr>\n",
              "  </tbody>\n",
              "</table>\n",
              "</div>\n",
              "      <button class=\"colab-df-convert\" onclick=\"convertToInteractive('df-c92f1586-abdd-470c-8ec2-39b1036ea2cc')\"\n",
              "              title=\"Convert this dataframe to an interactive table.\"\n",
              "              style=\"display:none;\">\n",
              "        \n",
              "  <svg xmlns=\"http://www.w3.org/2000/svg\" height=\"24px\"viewBox=\"0 0 24 24\"\n",
              "       width=\"24px\">\n",
              "    <path d=\"M0 0h24v24H0V0z\" fill=\"none\"/>\n",
              "    <path d=\"M18.56 5.44l.94 2.06.94-2.06 2.06-.94-2.06-.94-.94-2.06-.94 2.06-2.06.94zm-11 1L8.5 8.5l.94-2.06 2.06-.94-2.06-.94L8.5 2.5l-.94 2.06-2.06.94zm10 10l.94 2.06.94-2.06 2.06-.94-2.06-.94-.94-2.06-.94 2.06-2.06.94z\"/><path d=\"M17.41 7.96l-1.37-1.37c-.4-.4-.92-.59-1.43-.59-.52 0-1.04.2-1.43.59L10.3 9.45l-7.72 7.72c-.78.78-.78 2.05 0 2.83L4 21.41c.39.39.9.59 1.41.59.51 0 1.02-.2 1.41-.59l7.78-7.78 2.81-2.81c.8-.78.8-2.07 0-2.86zM5.41 20L4 18.59l7.72-7.72 1.47 1.35L5.41 20z\"/>\n",
              "  </svg>\n",
              "      </button>\n",
              "      \n",
              "  <style>\n",
              "    .colab-df-container {\n",
              "      display:flex;\n",
              "      flex-wrap:wrap;\n",
              "      gap: 12px;\n",
              "    }\n",
              "\n",
              "    .colab-df-convert {\n",
              "      background-color: #E8F0FE;\n",
              "      border: none;\n",
              "      border-radius: 50%;\n",
              "      cursor: pointer;\n",
              "      display: none;\n",
              "      fill: #1967D2;\n",
              "      height: 32px;\n",
              "      padding: 0 0 0 0;\n",
              "      width: 32px;\n",
              "    }\n",
              "\n",
              "    .colab-df-convert:hover {\n",
              "      background-color: #E2EBFA;\n",
              "      box-shadow: 0px 1px 2px rgba(60, 64, 67, 0.3), 0px 1px 3px 1px rgba(60, 64, 67, 0.15);\n",
              "      fill: #174EA6;\n",
              "    }\n",
              "\n",
              "    [theme=dark] .colab-df-convert {\n",
              "      background-color: #3B4455;\n",
              "      fill: #D2E3FC;\n",
              "    }\n",
              "\n",
              "    [theme=dark] .colab-df-convert:hover {\n",
              "      background-color: #434B5C;\n",
              "      box-shadow: 0px 1px 3px 1px rgba(0, 0, 0, 0.15);\n",
              "      filter: drop-shadow(0px 1px 2px rgba(0, 0, 0, 0.3));\n",
              "      fill: #FFFFFF;\n",
              "    }\n",
              "  </style>\n",
              "\n",
              "      <script>\n",
              "        const buttonEl =\n",
              "          document.querySelector('#df-c92f1586-abdd-470c-8ec2-39b1036ea2cc button.colab-df-convert');\n",
              "        buttonEl.style.display =\n",
              "          google.colab.kernel.accessAllowed ? 'block' : 'none';\n",
              "\n",
              "        async function convertToInteractive(key) {\n",
              "          const element = document.querySelector('#df-c92f1586-abdd-470c-8ec2-39b1036ea2cc');\n",
              "          const dataTable =\n",
              "            await google.colab.kernel.invokeFunction('convertToInteractive',\n",
              "                                                     [key], {});\n",
              "          if (!dataTable) return;\n",
              "\n",
              "          const docLinkHtml = 'Like what you see? Visit the ' +\n",
              "            '<a target=\"_blank\" href=https://colab.research.google.com/notebooks/data_table.ipynb>data table notebook</a>'\n",
              "            + ' to learn more about interactive tables.';\n",
              "          element.innerHTML = '';\n",
              "          dataTable['output_type'] = 'display_data';\n",
              "          await google.colab.output.renderOutput(dataTable, element);\n",
              "          const docLink = document.createElement('div');\n",
              "          docLink.innerHTML = docLinkHtml;\n",
              "          element.appendChild(docLink);\n",
              "        }\n",
              "      </script>\n",
              "    </div>\n",
              "  </div>\n",
              "  "
            ],
            "text/plain": [
              "   age     bmi  children      charges  sex_female  sex_male  smoker_no  \\\n",
              "0   19  27.900         0  16884.92400           1         0          0   \n",
              "1   18  33.770         1   1725.55230           0         1          1   \n",
              "2   28  33.000         3   4449.46200           0         1          1   \n",
              "3   33  22.705         0  21984.47061           0         1          1   \n",
              "4   32  28.880         0   3866.85520           0         1          1   \n",
              "\n",
              "   smoker_yes  region_northeast  region_northwest  region_southeast  \\\n",
              "0           1                 0                 0                 0   \n",
              "1           0                 0                 0                 1   \n",
              "2           0                 0                 0                 1   \n",
              "3           0                 0                 1                 0   \n",
              "4           0                 0                 1                 0   \n",
              "\n",
              "   region_southwest  \n",
              "0                 1  \n",
              "1                 0  \n",
              "2                 0  \n",
              "3                 0  \n",
              "4                 0  "
            ]
          },
          "execution_count": 67,
          "metadata": {},
          "output_type": "execute_result"
        }
      ],
      "source": [
        "# Turn all categories into numbers\n",
        "insurance_one_hot = pd.get_dummies(insurance)\n",
        "insurance_one_hot.head() # view the converted columns"
      ]
    },
    {
      "cell_type": "markdown",
      "metadata": {
        "id": "zOHoPzgqgZPq"
      },
      "source": [
        "Now we'll split data into features (`X`) and labels (`y`)."
      ]
    },
    {
      "cell_type": "code",
      "execution_count": 68,
      "metadata": {
        "id": "W_EGj3FxhkAb"
      },
      "outputs": [],
      "source": [
        "# Create X & y values\n",
        "X = insurance_one_hot.drop(\"charges\", axis=1)\n",
        "y = insurance_one_hot[\"charges\"]"
      ]
    },
    {
      "cell_type": "code",
      "execution_count": 69,
      "metadata": {
        "colab": {
          "base_uri": "https://localhost:8080/",
          "height": 270
        },
        "id": "-QQFJmDn5ATV",
        "outputId": "03ac7d61-65d9-4923-a7e5-3e7ded7e52e3"
      },
      "outputs": [
        {
          "data": {
            "text/html": [
              "\n",
              "  <div id=\"df-0cd98a93-5cb7-45e7-b1ad-09fb303f3923\">\n",
              "    <div class=\"colab-df-container\">\n",
              "      <div>\n",
              "<style scoped>\n",
              "    .dataframe tbody tr th:only-of-type {\n",
              "        vertical-align: middle;\n",
              "    }\n",
              "\n",
              "    .dataframe tbody tr th {\n",
              "        vertical-align: top;\n",
              "    }\n",
              "\n",
              "    .dataframe thead th {\n",
              "        text-align: right;\n",
              "    }\n",
              "</style>\n",
              "<table border=\"1\" class=\"dataframe\">\n",
              "  <thead>\n",
              "    <tr style=\"text-align: right;\">\n",
              "      <th></th>\n",
              "      <th>age</th>\n",
              "      <th>bmi</th>\n",
              "      <th>children</th>\n",
              "      <th>sex_female</th>\n",
              "      <th>sex_male</th>\n",
              "      <th>smoker_no</th>\n",
              "      <th>smoker_yes</th>\n",
              "      <th>region_northeast</th>\n",
              "      <th>region_northwest</th>\n",
              "      <th>region_southeast</th>\n",
              "      <th>region_southwest</th>\n",
              "    </tr>\n",
              "  </thead>\n",
              "  <tbody>\n",
              "    <tr>\n",
              "      <th>0</th>\n",
              "      <td>19</td>\n",
              "      <td>27.900</td>\n",
              "      <td>0</td>\n",
              "      <td>1</td>\n",
              "      <td>0</td>\n",
              "      <td>0</td>\n",
              "      <td>1</td>\n",
              "      <td>0</td>\n",
              "      <td>0</td>\n",
              "      <td>0</td>\n",
              "      <td>1</td>\n",
              "    </tr>\n",
              "    <tr>\n",
              "      <th>1</th>\n",
              "      <td>18</td>\n",
              "      <td>33.770</td>\n",
              "      <td>1</td>\n",
              "      <td>0</td>\n",
              "      <td>1</td>\n",
              "      <td>1</td>\n",
              "      <td>0</td>\n",
              "      <td>0</td>\n",
              "      <td>0</td>\n",
              "      <td>1</td>\n",
              "      <td>0</td>\n",
              "    </tr>\n",
              "    <tr>\n",
              "      <th>2</th>\n",
              "      <td>28</td>\n",
              "      <td>33.000</td>\n",
              "      <td>3</td>\n",
              "      <td>0</td>\n",
              "      <td>1</td>\n",
              "      <td>1</td>\n",
              "      <td>0</td>\n",
              "      <td>0</td>\n",
              "      <td>0</td>\n",
              "      <td>1</td>\n",
              "      <td>0</td>\n",
              "    </tr>\n",
              "    <tr>\n",
              "      <th>3</th>\n",
              "      <td>33</td>\n",
              "      <td>22.705</td>\n",
              "      <td>0</td>\n",
              "      <td>0</td>\n",
              "      <td>1</td>\n",
              "      <td>1</td>\n",
              "      <td>0</td>\n",
              "      <td>0</td>\n",
              "      <td>1</td>\n",
              "      <td>0</td>\n",
              "      <td>0</td>\n",
              "    </tr>\n",
              "    <tr>\n",
              "      <th>4</th>\n",
              "      <td>32</td>\n",
              "      <td>28.880</td>\n",
              "      <td>0</td>\n",
              "      <td>0</td>\n",
              "      <td>1</td>\n",
              "      <td>1</td>\n",
              "      <td>0</td>\n",
              "      <td>0</td>\n",
              "      <td>1</td>\n",
              "      <td>0</td>\n",
              "      <td>0</td>\n",
              "    </tr>\n",
              "  </tbody>\n",
              "</table>\n",
              "</div>\n",
              "      <button class=\"colab-df-convert\" onclick=\"convertToInteractive('df-0cd98a93-5cb7-45e7-b1ad-09fb303f3923')\"\n",
              "              title=\"Convert this dataframe to an interactive table.\"\n",
              "              style=\"display:none;\">\n",
              "        \n",
              "  <svg xmlns=\"http://www.w3.org/2000/svg\" height=\"24px\"viewBox=\"0 0 24 24\"\n",
              "       width=\"24px\">\n",
              "    <path d=\"M0 0h24v24H0V0z\" fill=\"none\"/>\n",
              "    <path d=\"M18.56 5.44l.94 2.06.94-2.06 2.06-.94-2.06-.94-.94-2.06-.94 2.06-2.06.94zm-11 1L8.5 8.5l.94-2.06 2.06-.94-2.06-.94L8.5 2.5l-.94 2.06-2.06.94zm10 10l.94 2.06.94-2.06 2.06-.94-2.06-.94-.94-2.06-.94 2.06-2.06.94z\"/><path d=\"M17.41 7.96l-1.37-1.37c-.4-.4-.92-.59-1.43-.59-.52 0-1.04.2-1.43.59L10.3 9.45l-7.72 7.72c-.78.78-.78 2.05 0 2.83L4 21.41c.39.39.9.59 1.41.59.51 0 1.02-.2 1.41-.59l7.78-7.78 2.81-2.81c.8-.78.8-2.07 0-2.86zM5.41 20L4 18.59l7.72-7.72 1.47 1.35L5.41 20z\"/>\n",
              "  </svg>\n",
              "      </button>\n",
              "      \n",
              "  <style>\n",
              "    .colab-df-container {\n",
              "      display:flex;\n",
              "      flex-wrap:wrap;\n",
              "      gap: 12px;\n",
              "    }\n",
              "\n",
              "    .colab-df-convert {\n",
              "      background-color: #E8F0FE;\n",
              "      border: none;\n",
              "      border-radius: 50%;\n",
              "      cursor: pointer;\n",
              "      display: none;\n",
              "      fill: #1967D2;\n",
              "      height: 32px;\n",
              "      padding: 0 0 0 0;\n",
              "      width: 32px;\n",
              "    }\n",
              "\n",
              "    .colab-df-convert:hover {\n",
              "      background-color: #E2EBFA;\n",
              "      box-shadow: 0px 1px 2px rgba(60, 64, 67, 0.3), 0px 1px 3px 1px rgba(60, 64, 67, 0.15);\n",
              "      fill: #174EA6;\n",
              "    }\n",
              "\n",
              "    [theme=dark] .colab-df-convert {\n",
              "      background-color: #3B4455;\n",
              "      fill: #D2E3FC;\n",
              "    }\n",
              "\n",
              "    [theme=dark] .colab-df-convert:hover {\n",
              "      background-color: #434B5C;\n",
              "      box-shadow: 0px 1px 3px 1px rgba(0, 0, 0, 0.15);\n",
              "      filter: drop-shadow(0px 1px 2px rgba(0, 0, 0, 0.3));\n",
              "      fill: #FFFFFF;\n",
              "    }\n",
              "  </style>\n",
              "\n",
              "      <script>\n",
              "        const buttonEl =\n",
              "          document.querySelector('#df-0cd98a93-5cb7-45e7-b1ad-09fb303f3923 button.colab-df-convert');\n",
              "        buttonEl.style.display =\n",
              "          google.colab.kernel.accessAllowed ? 'block' : 'none';\n",
              "\n",
              "        async function convertToInteractive(key) {\n",
              "          const element = document.querySelector('#df-0cd98a93-5cb7-45e7-b1ad-09fb303f3923');\n",
              "          const dataTable =\n",
              "            await google.colab.kernel.invokeFunction('convertToInteractive',\n",
              "                                                     [key], {});\n",
              "          if (!dataTable) return;\n",
              "\n",
              "          const docLinkHtml = 'Like what you see? Visit the ' +\n",
              "            '<a target=\"_blank\" href=https://colab.research.google.com/notebooks/data_table.ipynb>data table notebook</a>'\n",
              "            + ' to learn more about interactive tables.';\n",
              "          element.innerHTML = '';\n",
              "          dataTable['output_type'] = 'display_data';\n",
              "          await google.colab.output.renderOutput(dataTable, element);\n",
              "          const docLink = document.createElement('div');\n",
              "          docLink.innerHTML = docLinkHtml;\n",
              "          element.appendChild(docLink);\n",
              "        }\n",
              "      </script>\n",
              "    </div>\n",
              "  </div>\n",
              "  "
            ],
            "text/plain": [
              "   age     bmi  children  sex_female  sex_male  smoker_no  smoker_yes  \\\n",
              "0   19  27.900         0           1         0          0           1   \n",
              "1   18  33.770         1           0         1          1           0   \n",
              "2   28  33.000         3           0         1          1           0   \n",
              "3   33  22.705         0           0         1          1           0   \n",
              "4   32  28.880         0           0         1          1           0   \n",
              "\n",
              "   region_northeast  region_northwest  region_southeast  region_southwest  \n",
              "0                 0                 0                 0                 1  \n",
              "1                 0                 0                 1                 0  \n",
              "2                 0                 0                 1                 0  \n",
              "3                 0                 1                 0                 0  \n",
              "4                 0                 1                 0                 0  "
            ]
          },
          "execution_count": 69,
          "metadata": {},
          "output_type": "execute_result"
        }
      ],
      "source": [
        "# View features\n",
        "X.head()"
      ]
    },
    {
      "cell_type": "markdown",
      "metadata": {
        "id": "kudhkM-0giS1"
      },
      "source": [
        "And create training and test sets. We could do this manually, but to make it easier, we'll leverage the already available [`train_test_split`](https://scikit-learn.org/stable/modules/generated/sklearn.model_selection.train_test_split.html) function available from Scikit-Learn."
      ]
    },
    {
      "cell_type": "code",
      "execution_count": 6,
      "metadata": {
        "id": "WPGZGk0jhxCZ"
      },
      "outputs": [],
      "source": [
        "# Create training and test sets\n",
        "from sklearn.model_selection import train_test_split\n",
        "X_train, X_test, y_train, y_test = train_test_split(X, \n",
        "                                                    y, \n",
        "                                                    test_size=0.2, \n",
        "                                                    random_state=42) # set random state for reproducible splits"
      ]
    },
    {
      "cell_type": "markdown",
      "metadata": {
        "id": "W8wEC0FPglnN"
      },
      "source": [
        "Now we can build and fit a model (we'll make it the same as `model_2`)."
      ]
    },
    {
      "cell_type": "code",
      "execution_count": 143,
      "metadata": {
        "colab": {
          "base_uri": "https://localhost:8080/"
        },
        "id": "OCXTmz6oh_T6",
        "outputId": "b5be8e80-4c3c-43d1-9194-571574df2bec"
      },
      "outputs": [
        {
          "ename": "ValueError",
          "evalue": "Failed to convert a NumPy array to a Tensor (Unsupported object type int).",
          "output_type": "error",
          "traceback": [
            "\u001b[1;31m---------------------------------------------------------------------------\u001b[0m",
            "\u001b[1;31mValueError\u001b[0m                                Traceback (most recent call last)",
            "Cell \u001b[1;32mIn[143], line 17\u001b[0m\n\u001b[0;32m     12\u001b[0m insurance_model\u001b[38;5;241m.\u001b[39mcompile(loss\u001b[38;5;241m=\u001b[39mtf\u001b[38;5;241m.\u001b[39mkeras\u001b[38;5;241m.\u001b[39mlosses\u001b[38;5;241m.\u001b[39mmae,\n\u001b[0;32m     13\u001b[0m                         optimizer\u001b[38;5;241m=\u001b[39mtf\u001b[38;5;241m.\u001b[39mkeras\u001b[38;5;241m.\u001b[39moptimizers\u001b[38;5;241m.\u001b[39mAdam(),\n\u001b[0;32m     14\u001b[0m                         metrics\u001b[38;5;241m=\u001b[39m[\u001b[38;5;124m'\u001b[39m\u001b[38;5;124mmae\u001b[39m\u001b[38;5;124m'\u001b[39m])\n\u001b[0;32m     16\u001b[0m \u001b[38;5;66;03m# Fit the model\u001b[39;00m\n\u001b[1;32m---> 17\u001b[0m history \u001b[38;5;241m=\u001b[39m insurance_model\u001b[38;5;241m.\u001b[39mfit(\u001b[43mtf\u001b[49m\u001b[38;5;241;43m.\u001b[39;49m\u001b[43mexpand_dims\u001b[49m\u001b[43m(\u001b[49m\u001b[43mX_train\u001b[49m\u001b[43m,\u001b[49m\u001b[43m \u001b[49m\u001b[43maxis\u001b[49m\u001b[38;5;241;43m=\u001b[39;49m\u001b[38;5;241;43m-\u001b[39;49m\u001b[38;5;241;43m1\u001b[39;49m\u001b[43m)\u001b[49m, y_train, epochs\u001b[38;5;241m=\u001b[39m\u001b[38;5;241m100\u001b[39m)\n",
            "File \u001b[1;32mf:\\Anaconda\\envs\\tf\\lib\\site-packages\\tensorflow\\python\\util\\traceback_utils.py:153\u001b[0m, in \u001b[0;36mfilter_traceback.<locals>.error_handler\u001b[1;34m(*args, **kwargs)\u001b[0m\n\u001b[0;32m    151\u001b[0m \u001b[38;5;28;01mexcept\u001b[39;00m \u001b[38;5;167;01mException\u001b[39;00m \u001b[38;5;28;01mas\u001b[39;00m e:\n\u001b[0;32m    152\u001b[0m   filtered_tb \u001b[38;5;241m=\u001b[39m _process_traceback_frames(e\u001b[38;5;241m.\u001b[39m__traceback__)\n\u001b[1;32m--> 153\u001b[0m   \u001b[38;5;28;01mraise\u001b[39;00m e\u001b[38;5;241m.\u001b[39mwith_traceback(filtered_tb) \u001b[38;5;28;01mfrom\u001b[39;00m\u001b[38;5;250m \u001b[39m\u001b[38;5;28;01mNone\u001b[39;00m\n\u001b[0;32m    154\u001b[0m \u001b[38;5;28;01mfinally\u001b[39;00m:\n\u001b[0;32m    155\u001b[0m   \u001b[38;5;28;01mdel\u001b[39;00m filtered_tb\n",
            "File \u001b[1;32mf:\\Anaconda\\envs\\tf\\lib\\site-packages\\tensorflow\\python\\framework\\constant_op.py:102\u001b[0m, in \u001b[0;36mconvert_to_eager_tensor\u001b[1;34m(value, ctx, dtype)\u001b[0m\n\u001b[0;32m    100\u001b[0m     dtype \u001b[38;5;241m=\u001b[39m dtypes\u001b[38;5;241m.\u001b[39mas_dtype(dtype)\u001b[38;5;241m.\u001b[39mas_datatype_enum\n\u001b[0;32m    101\u001b[0m ctx\u001b[38;5;241m.\u001b[39mensure_initialized()\n\u001b[1;32m--> 102\u001b[0m \u001b[38;5;28;01mreturn\u001b[39;00m \u001b[43mops\u001b[49m\u001b[38;5;241;43m.\u001b[39;49m\u001b[43mEagerTensor\u001b[49m\u001b[43m(\u001b[49m\u001b[43mvalue\u001b[49m\u001b[43m,\u001b[49m\u001b[43m \u001b[49m\u001b[43mctx\u001b[49m\u001b[38;5;241;43m.\u001b[39;49m\u001b[43mdevice_name\u001b[49m\u001b[43m,\u001b[49m\u001b[43m \u001b[49m\u001b[43mdtype\u001b[49m\u001b[43m)\u001b[49m\n",
            "\u001b[1;31mValueError\u001b[0m: Failed to convert a NumPy array to a Tensor (Unsupported object type int)."
          ]
        }
      ],
      "source": [
        "# Set random seed\n",
        "tf.random.set_seed(42)\n",
        "\n",
        "# Create a new model (same as model_2)\n",
        "insurance_model = tf.keras.Sequential([\n",
        "  tf.keras.layers.Dense(20),\n",
        "  tf.keras.layers.Dense(15),\n",
        "  tf.keras.layers.Dense(1)\n",
        "])\n",
        "\n",
        "# Compile the model\n",
        "insurance_model.compile(loss=tf.keras.losses.mae,\n",
        "                        optimizer=tf.keras.optimizers.Adam(),\n",
        "                        metrics=['mae'])\n",
        "\n",
        "# Fit the model\n",
        "history = insurance_model.fit(tf.expand_dims(X_train, axis=-1), y_train, epochs=100)"
      ]
    },
    {
      "cell_type": "code",
      "execution_count": 109,
      "metadata": {
        "colab": {
          "base_uri": "https://localhost:8080/"
        },
        "id": "B1U7LqpKid0r",
        "outputId": "bb258865-ef03-43ef-a6d2-2cc1fa700008"
      },
      "outputs": [
        {
          "name": "stdout",
          "output_type": "stream",
          "text": [
            "1/1 [==============================] - 0s 236ms/step - loss: 7.8892 - mae: 7.8892\n"
          ]
        },
        {
          "data": {
            "text/plain": [
              "[7.889200687408447, 7.889200687408447]"
            ]
          },
          "execution_count": 109,
          "metadata": {},
          "output_type": "execute_result"
        }
      ],
      "source": [
        "# Check the results of the insurance model\n",
        "insurance_model.evaluate(X_test, y_test)"
      ]
    },
    {
      "cell_type": "markdown",
      "metadata": {
        "id": "H9doNDToqDru"
      },
      "source": [
        "Our model didn't perform very well, let's try a bigger model.\n",
        "\n",
        "We'll try 3 things:\n",
        "- Increasing the number of layers (2 -> 3).\n",
        "- Increasing the number of units in each layer (except for the output layer).\n",
        "- Changing the optimizer (from SGD to Adam).\n",
        "\n",
        "Everything else will stay the same."
      ]
    },
    {
      "cell_type": "code",
      "execution_count": 110,
      "metadata": {
        "colab": {
          "base_uri": "https://localhost:8080/",
          "height": 449
        },
        "id": "9SE55ANojcF_",
        "outputId": "a8a18349-5f25-424f-e503-8f098b8a2517"
      },
      "outputs": [
        {
          "data": {
            "image/png": "[encoded data removed]",
            "text/plain": [
              "<Figure size 640x480 with 1 Axes>"
            ]
          },
          "metadata": {},
          "output_type": "display_data"
        }
      ],
      "source": [
        "# Plot history (also known as a loss curve)\n",
        "pd.DataFrame(history.history).plot()\n",
        "plt.ylabel(\"loss\")\n",
        "plt.xlabel(\"epochs\");"
      ]
    },
    {
      "cell_type": "code",
      "execution_count": 113,
      "metadata": {
        "colab": {
          "base_uri": "https://localhost:8080/"
        },
        "id": "cxtiYB3qs0PZ",
        "outputId": "35121d6a-4caf-4f81-80a8-9b300cc5b2c7"
      },
      "outputs": [
        {
          "name": "stdout",
          "output_type": "stream",
          "text": [
            "1/1 [==============================] - 0s 23ms/step - loss: 7.8892 - mae: 7.8892\n"
          ]
        },
        {
          "data": {
            "text/plain": [
              "(7.889200687408447, 7.889200687408447)"
            ]
          },
          "execution_count": 113,
          "metadata": {},
          "output_type": "execute_result"
        }
      ],
      "source": [
        "# Evaluate the model trained for 200 total epochs\n",
        "insurance_model_loss, insurance_model_mae = insurance_model.evaluate(X_test, y_test)\n",
        "insurance_model_loss, insurance_model_mae"
      ]
    },
    {
      "cell_type": "markdown",
      "metadata": {
        "id": "MzUySYEOs-O_"
      },
      "source": [
        "Boom! Training for an extra 100 epochs we see about a 10% decrease in error.\n",
        "\n",
        "How does the visual look?"
      ]
    },
    {
      "cell_type": "markdown",
      "metadata": {
        "id": "HS8xYkvIuVZZ"
      },
      "source": [
        "## Preprocessing data (normalization and standardization)\n",
        "\n",
        "A common practice when working with neural networks is to make sure all of the data you pass to them is in the range 0 to 1.\n",
        "\n",
        "This practice is called **normalization** (scaling all values from their original range to, e.g. between 0 and 100,000 to be between 0 and 1).\n",
        "\n",
        "There is another process call **standardization** which converts all of your data to unit variance and 0 mean.\n",
        "\n",
        "These two practices are often part of a preprocessing pipeline (a series of functions to prepare your data for use with neural networks).\n",
        "\n",
        "Knowing this, some of the major steps you'll take to preprocess your data for a neural network include:\n",
        "* Turning all of your data to numbers (a neural network can't handle strings).\n",
        "* Making sure your data is in the right shape (verifying input and output shapes).\n",
        "* [**Feature scaling**](https://scikit-learn.org/stable/modules/preprocessing.html#preprocessing-scaler):\n",
        "    * Normalizing data (making sure all values are between 0 and 1). This is done by subtracting the minimum value then dividing by the maximum value minus the minimum. This is also referred to as min-max scaling.\n",
        "    * Standardization (making sure all values have a mean of 0 and a variance of 1). This is done by subtracting the mean value from the target feature and then dividing it by the standard deviation.\n",
        "    * Which one should you use?\n",
        "      * **With neural networks you'll tend to favour normalization** as they tend to prefer values between 0 and 1 (you'll see this espcially with image processing), however, you'll often find a neural network can perform pretty well with minimal feature scaling.\n",
        "\n",
        "> 📖 **Resource:** For more on preprocessing data, I'd recommend reading the following resources:\n",
        "\n",
        "We've already turned our data into numbers using `get_dummies()`, let's see how we'd normalize it as well."
      ]
    },
    {
      "cell_type": "code",
      "execution_count": 3,
      "metadata": {
        "id": "9v7P20A2d7H6"
      },
      "outputs": [],
      "source": [
        "import pandas as pd\n",
        "import matplotlib.pyplot as plt\n",
        "import tensorflow as tf\n",
        "\n",
        "# Read in the insurance dataset\n",
        "insurance = pd.read_csv(\"https://raw.githubusercontent.com/stedy/Machine-Learning-with-R-datasets/master/insurance.csv\")"
      ]
    },
    {
      "cell_type": "code",
      "execution_count": 4,
      "metadata": {
        "colab": {
          "base_uri": "https://localhost:8080/",
          "height": 206
        },
        "id": "vir8UAIwlUOo",
        "outputId": "e8481873-da05-4f85-a4b9-ec1595ada02a"
      },
      "outputs": [
        {
          "data": {
            "text/html": [
              "<div>\n",
              "<style scoped>\n",
              "    .dataframe tbody tr th:only-of-type {\n",
              "        vertical-align: middle;\n",
              "    }\n",
              "\n",
              "    .dataframe tbody tr th {\n",
              "        vertical-align: top;\n",
              "    }\n",
              "\n",
              "    .dataframe thead th {\n",
              "        text-align: right;\n",
              "    }\n",
              "</style>\n",
              "<table border=\"1\" class=\"dataframe\">\n",
              "  <thead>\n",
              "    <tr style=\"text-align: right;\">\n",
              "      <th></th>\n",
              "      <th>age</th>\n",
              "      <th>sex</th>\n",
              "      <th>bmi</th>\n",
              "      <th>children</th>\n",
              "      <th>smoker</th>\n",
              "      <th>region</th>\n",
              "      <th>charges</th>\n",
              "    </tr>\n",
              "  </thead>\n",
              "  <tbody>\n",
              "    <tr>\n",
              "      <th>0</th>\n",
              "      <td>19</td>\n",
              "      <td>female</td>\n",
              "      <td>27.900</td>\n",
              "      <td>0</td>\n",
              "      <td>yes</td>\n",
              "      <td>southwest</td>\n",
              "      <td>16884.92400</td>\n",
              "    </tr>\n",
              "    <tr>\n",
              "      <th>1</th>\n",
              "      <td>18</td>\n",
              "      <td>male</td>\n",
              "      <td>33.770</td>\n",
              "      <td>1</td>\n",
              "      <td>no</td>\n",
              "      <td>southeast</td>\n",
              "      <td>1725.55230</td>\n",
              "    </tr>\n",
              "    <tr>\n",
              "      <th>2</th>\n",
              "      <td>28</td>\n",
              "      <td>male</td>\n",
              "      <td>33.000</td>\n",
              "      <td>3</td>\n",
              "      <td>no</td>\n",
              "      <td>southeast</td>\n",
              "      <td>4449.46200</td>\n",
              "    </tr>\n",
              "    <tr>\n",
              "      <th>3</th>\n",
              "      <td>33</td>\n",
              "      <td>male</td>\n",
              "      <td>22.705</td>\n",
              "      <td>0</td>\n",
              "      <td>no</td>\n",
              "      <td>northwest</td>\n",
              "      <td>21984.47061</td>\n",
              "    </tr>\n",
              "    <tr>\n",
              "      <th>4</th>\n",
              "      <td>32</td>\n",
              "      <td>male</td>\n",
              "      <td>28.880</td>\n",
              "      <td>0</td>\n",
              "      <td>no</td>\n",
              "      <td>northwest</td>\n",
              "      <td>3866.85520</td>\n",
              "    </tr>\n",
              "  </tbody>\n",
              "</table>\n",
              "</div>"
            ],
            "text/plain": [
              "   age     sex     bmi  children smoker     region      charges\n",
              "0   19  female  27.900         0    yes  southwest  16884.92400\n",
              "1   18    male  33.770         1     no  southeast   1725.55230\n",
              "2   28    male  33.000         3     no  southeast   4449.46200\n",
              "3   33    male  22.705         0     no  northwest  21984.47061\n",
              "4   32    male  28.880         0     no  northwest   3866.85520"
            ]
          },
          "execution_count": 4,
          "metadata": {},
          "output_type": "execute_result"
        }
      ],
      "source": [
        "# Check out the data\n",
        "insurance.head()"
      ]
    },
    {
      "cell_type": "markdown",
      "metadata": {
        "id": "SHMQiNosg3J3"
      },
      "source": [
        "Now, just as before, we need to transform the non-numerical columns into numbers and this time we'll also be normalizing the numerical columns with different ranges (to make sure they're all between 0 and 1).\n",
        "\n",
        "To do this, we're going to use a few classes from Scikit-Learn:\n",
        "* [`make_column_transformer`](https://scikit-learn.org/stable/modules/generated/sklearn.compose.make_column_transformer.html) - build a multi-step data preprocessing function for the folllowing transformations:\n",
        "  * [`MinMaxScaler`](https://scikit-learn.org/stable/modules/generated/sklearn.preprocessing.MinMaxScaler.html) - make sure all numerical columns are normalized (between 0 and 1).\n",
        "  * [`OneHotEncoder`](https://scikit-learn.org/stable/modules/generated/sklearn.preprocessing.OneHotEncoder.html) - one hot encode the non-numerical columns.\n",
        "\n",
        "Let's see them in action."
      ]
    },
    {
      "cell_type": "code",
      "execution_count": 7,
      "metadata": {
        "id": "-x9JwbV0hqWh"
      },
      "outputs": [],
      "source": [
        "from sklearn.compose import make_column_transformer\n",
        "from sklearn.preprocessing import MinMaxScaler, OneHotEncoder\n",
        "\n",
        "# Create column transformer (this will help us normalize/preprocess our data)\n",
        "ct = make_column_transformer(\n",
        "    (MinMaxScaler(), [\"age\", \"bmi\", \"children\"]), # get all values between 0 and 1\n",
        "    (OneHotEncoder(handle_unknown=\"ignore\"), [\"sex\", \"smoker\", \"region\"])\n",
        ")\n",
        "\n",
        "# Create X & y\n",
        "X = insurance.drop(\"charges\", axis=1)\n",
        "y = insurance[\"charges\"]\n",
        "\n",
        "# Build our train and test sets (use random state to ensure same split as before)\n",
        "X_train, X_test, y_train, y_test = train_test_split(X, y, test_size=0.2, random_state=42)\n",
        "\n",
        "# Fit column transformer on the training data only (doing so on test data would result in data leakage)\n",
        "ct.fit(X_train)\n",
        "\n",
        "# Transform training and test data with normalization (MinMaxScalar) and one hot encoding (OneHotEncoder)\n",
        "X_train_normal = ct.transform(X_train)\n",
        "X_test_normal = ct.transform(X_test)"
      ]
    },
    {
      "cell_type": "markdown",
      "metadata": {
        "id": "Tz58y3nPiBJ-"
      },
      "source": [
        "Now we've normalized it and one-hot encoding it, what does our data look like now?"
      ]
    },
    {
      "cell_type": "code",
      "execution_count": 118,
      "metadata": {
        "colab": {
          "base_uri": "https://localhost:8080/"
        },
        "id": "VODt2YiziK45",
        "outputId": "58851acc-9ea2-4795-f0b5-f43c609b7bdb"
      },
      "outputs": [
        {
          "data": {
            "text/plain": [
              "age                19\n",
              "sex            female\n",
              "bmi              27.9\n",
              "children            0\n",
              "smoker            yes\n",
              "region      southwest\n",
              "Name: 0, dtype: object"
            ]
          },
          "execution_count": 118,
          "metadata": {},
          "output_type": "execute_result"
        }
      ],
      "source": [
        "# Non-normalized and non-one-hot encoded data example\n",
        "X_train.loc[0]"
      ]
    },
    {
      "cell_type": "code",
      "execution_count": 119,
      "metadata": {
        "colab": {
          "base_uri": "https://localhost:8080/"
        },
        "id": "mMYDXdwUnNVt",
        "outputId": "a053ca20-a44f-423e-9795-1d0c66b30633"
      },
      "outputs": [
        {
          "data": {
            "text/plain": [
              "array([0.60869565, 0.10734463, 0.4       , 1.        , 0.        ,\n",
              "       1.        , 0.        , 0.        , 1.        , 0.        ,\n",
              "       0.        ])"
            ]
          },
          "execution_count": 119,
          "metadata": {},
          "output_type": "execute_result"
        }
      ],
      "source": [
        "# Normalized and one-hot encoded example\n",
        "X_train_normal[0]"
      ]
    },
    {
      "cell_type": "markdown",
      "metadata": {
        "id": "9iI4KtfWib44"
      },
      "source": [
        "How about the shapes?"
      ]
    },
    {
      "cell_type": "code",
      "execution_count": 8,
      "metadata": {
        "colab": {
          "base_uri": "https://localhost:8080/"
        },
        "id": "SFmxzqrWntj7",
        "outputId": "0cf4d413-e6eb-4da2-a449-08ef3aefc02f"
      },
      "outputs": [
        {
          "data": {
            "text/plain": [
              "((1070, 11), (1070, 6))"
            ]
          },
          "execution_count": 8,
          "metadata": {},
          "output_type": "execute_result"
        }
      ],
      "source": [
        "# Notice the normalized/one-hot encoded shape is larger because of the extra columns\n",
        "X_train_normal.shape, X_train.shape"
      ]
    },
    {
      "cell_type": "markdown",
      "metadata": {
        "id": "MST951aYijTS"
      },
      "source": [
        "Our data is normalized and numerical, let's model it."
      ]
    },
    {
      "cell_type": "code",
      "execution_count": 138,
      "metadata": {},
      "outputs": [
        {
          "data": {
            "text/plain": [
              "(1070,)"
            ]
          },
          "execution_count": 138,
          "metadata": {},
          "output_type": "execute_result"
        }
      ],
      "source": [
        "y_train.shape"
      ]
    },
    {
      "cell_type": "code",
      "execution_count": 139,
      "metadata": {},
      "outputs": [
        {
          "data": {
            "text/plain": [
              "dtype('float64')"
            ]
          },
          "execution_count": 139,
          "metadata": {},
          "output_type": "execute_result"
        }
      ],
      "source": [
        "X_train_normal.dtype"
      ]
    },
    {
      "cell_type": "code",
      "execution_count": 140,
      "metadata": {},
      "outputs": [
        {
          "data": {
            "text/plain": [
              "dtype('float64')"
            ]
          },
          "execution_count": 140,
          "metadata": {},
          "output_type": "execute_result"
        }
      ],
      "source": [
        "y_train.dtype"
      ]
    },
    {
      "cell_type": "code",
      "execution_count": 9,
      "metadata": {
        "colab": {
          "base_uri": "https://localhost:8080/"
        },
        "id": "TdHnIQqll83Y",
        "outputId": "11ea61c0-8ab5-4ca7-ec68-bde1e94e195d"
      },
      "outputs": [
        {
          "name": "stdout",
          "output_type": "stream",
          "text": [
            "Epoch 1/200\n",
            "34/34 [==============================] - 2s 4ms/step - loss: 13343.2041 - mae: 13343.2041\n",
            "Epoch 2/200\n",
            "34/34 [==============================] - 0s 4ms/step - loss: 13333.9609 - mae: 13333.9609\n",
            "Epoch 3/200\n",
            "34/34 [==============================] - 0s 4ms/step - loss: 13311.7715 - mae: 13311.7715\n",
            "Epoch 4/200\n",
            "34/34 [==============================] - 0s 4ms/step - loss: 13266.2314 - mae: 13266.2314\n",
            "Epoch 5/200\n",
            "34/34 [==============================] - 0s 4ms/step - loss: 13186.7432 - mae: 13186.7432\n",
            "Epoch 6/200\n",
            "34/34 [==============================] - 0s 3ms/step - loss: 13062.7256 - mae: 13062.7256\n",
            "Epoch 7/200\n",
            "34/34 [==============================] - 0s 3ms/step - loss: 12883.5918 - mae: 12883.5918\n",
            "Epoch 8/200\n",
            "34/34 [==============================] - 0s 3ms/step - loss: 12638.6465 - mae: 12638.6465\n",
            "Epoch 9/200\n",
            "34/34 [==============================] - 0s 3ms/step - loss: 12317.5020 - mae: 12317.5020\n",
            "Epoch 10/200\n",
            "34/34 [==============================] - 0s 3ms/step - loss: 11915.4893 - mae: 11915.4893\n",
            "Epoch 11/200\n",
            "34/34 [==============================] - 0s 3ms/step - loss: 11441.8623 - mae: 11441.8623\n",
            "Epoch 12/200\n",
            "34/34 [==============================] - 0s 3ms/step - loss: 10935.3623 - mae: 10935.3623\n",
            "Epoch 13/200\n",
            "34/34 [==============================] - 0s 3ms/step - loss: 10431.7734 - mae: 10431.7734\n",
            "Epoch 14/200\n",
            "34/34 [==============================] - 0s 3ms/step - loss: 9934.0762 - mae: 9934.0762\n",
            "Epoch 15/200\n",
            "34/34 [==============================] - 0s 3ms/step - loss: 9464.7129 - mae: 9464.7129\n",
            "Epoch 16/200\n",
            "34/34 [==============================] - 0s 3ms/step - loss: 9046.6973 - mae: 9046.6973\n",
            "Epoch 17/200\n",
            "34/34 [==============================] - 0s 3ms/step - loss: 8701.5742 - mae: 8701.5742\n",
            "Epoch 18/200\n",
            "34/34 [==============================] - 0s 3ms/step - loss: 8421.0742 - mae: 8421.0742\n",
            "Epoch 19/200\n",
            "34/34 [==============================] - 0s 3ms/step - loss: 8210.1670 - mae: 8210.1670\n",
            "Epoch 20/200\n",
            "34/34 [==============================] - 0s 3ms/step - loss: 8064.7197 - mae: 8064.7197\n",
            "Epoch 21/200\n",
            "34/34 [==============================] - 0s 3ms/step - loss: 7955.4824 - mae: 7955.4824\n",
            "Epoch 22/200\n",
            "34/34 [==============================] - 0s 3ms/step - loss: 7880.9663 - mae: 7880.9663\n",
            "Epoch 23/200\n",
            "34/34 [==============================] - 0s 3ms/step - loss: 7822.7095 - mae: 7822.7095\n",
            "Epoch 24/200\n",
            "34/34 [==============================] - 0s 3ms/step - loss: 7769.9512 - mae: 7769.9512\n",
            "Epoch 25/200\n",
            "34/34 [==============================] - 0s 4ms/step - loss: 7730.4404 - mae: 7730.4404\n",
            "Epoch 26/200\n",
            "34/34 [==============================] - 0s 3ms/step - loss: 7678.6577 - mae: 7678.6577\n",
            "Epoch 27/200\n",
            "34/34 [==============================] - 0s 3ms/step - loss: 7636.0283 - mae: 7636.0283\n",
            "Epoch 28/200\n",
            "34/34 [==============================] - 0s 3ms/step - loss: 7593.0303 - mae: 7593.0303\n",
            "Epoch 29/200\n",
            "34/34 [==============================] - 0s 3ms/step - loss: 7549.9380 - mae: 7549.9380\n",
            "Epoch 30/200\n",
            "34/34 [==============================] - 0s 3ms/step - loss: 7505.7144 - mae: 7505.7144\n",
            "Epoch 31/200\n",
            "34/34 [==============================] - 0s 3ms/step - loss: 7460.9619 - mae: 7460.9619\n",
            "Epoch 32/200\n",
            "34/34 [==============================] - 0s 3ms/step - loss: 7416.0347 - mae: 7416.0347\n",
            "Epoch 33/200\n",
            "34/34 [==============================] - 0s 3ms/step - loss: 7370.9683 - mae: 7370.9683\n",
            "Epoch 34/200\n",
            "34/34 [==============================] - 0s 4ms/step - loss: 7321.8940 - mae: 7321.8940\n",
            "Epoch 35/200\n",
            "34/34 [==============================] - 0s 4ms/step - loss: 7274.1704 - mae: 7274.1704\n",
            "Epoch 36/200\n",
            "34/34 [==============================] - 0s 3ms/step - loss: 7222.9834 - mae: 7222.9834\n",
            "Epoch 37/200\n",
            "34/34 [==============================] - 0s 3ms/step - loss: 7171.6357 - mae: 7171.6357\n",
            "Epoch 38/200\n",
            "34/34 [==============================] - 0s 3ms/step - loss: 7119.4580 - mae: 7119.4580\n",
            "Epoch 39/200\n",
            "34/34 [==============================] - 0s 3ms/step - loss: 7063.3008 - mae: 7063.3008\n",
            "Epoch 40/200\n",
            "34/34 [==============================] - 0s 3ms/step - loss: 7006.6372 - mae: 7006.6372\n",
            "Epoch 41/200\n",
            "34/34 [==============================] - 0s 3ms/step - loss: 6948.6851 - mae: 6948.6851\n",
            "Epoch 42/200\n",
            "34/34 [==============================] - 0s 3ms/step - loss: 6888.2012 - mae: 6888.2012\n",
            "Epoch 43/200\n",
            "34/34 [==============================] - 0s 3ms/step - loss: 6823.7202 - mae: 6823.7202\n",
            "Epoch 44/200\n",
            "34/34 [==============================] - 0s 3ms/step - loss: 6755.6133 - mae: 6755.6133\n",
            "Epoch 45/200\n",
            "34/34 [==============================] - 0s 3ms/step - loss: 6686.5273 - mae: 6686.5273\n",
            "Epoch 46/200\n",
            "34/34 [==============================] - 0s 3ms/step - loss: 6615.5288 - mae: 6615.5288\n",
            "Epoch 47/200\n",
            "34/34 [==============================] - 0s 3ms/step - loss: 6541.9463 - mae: 6541.9463\n",
            "Epoch 48/200\n",
            "34/34 [==============================] - 0s 3ms/step - loss: 6460.4966 - mae: 6460.4966\n",
            "Epoch 49/200\n",
            "34/34 [==============================] - 0s 3ms/step - loss: 6379.0938 - mae: 6379.0938\n",
            "Epoch 50/200\n",
            "34/34 [==============================] - 0s 3ms/step - loss: 6290.5293 - mae: 6290.5293\n",
            "Epoch 51/200\n",
            "34/34 [==============================] - 0s 3ms/step - loss: 6203.2510 - mae: 6203.2510\n",
            "Epoch 52/200\n",
            "34/34 [==============================] - 0s 3ms/step - loss: 6106.8276 - mae: 6106.8276\n",
            "Epoch 53/200\n",
            "34/34 [==============================] - 0s 3ms/step - loss: 6007.4443 - mae: 6007.4443\n",
            "Epoch 54/200\n",
            "34/34 [==============================] - 0s 3ms/step - loss: 5905.3008 - mae: 5905.3008\n",
            "Epoch 55/200\n",
            "34/34 [==============================] - 0s 3ms/step - loss: 5794.8364 - mae: 5794.8364\n",
            "Epoch 56/200\n",
            "34/34 [==============================] - 0s 3ms/step - loss: 5682.8003 - mae: 5682.8003\n",
            "Epoch 57/200\n",
            "34/34 [==============================] - 0s 3ms/step - loss: 5564.7812 - mae: 5564.7812\n",
            "Epoch 58/200\n",
            "34/34 [==============================] - 0s 3ms/step - loss: 5446.8662 - mae: 5446.8662\n",
            "Epoch 59/200\n",
            "34/34 [==============================] - 0s 3ms/step - loss: 5324.2466 - mae: 5324.2466\n",
            "Epoch 60/200\n",
            "34/34 [==============================] - 0s 3ms/step - loss: 5198.8999 - mae: 5198.8999\n",
            "Epoch 61/200\n",
            "34/34 [==============================] - 0s 3ms/step - loss: 5071.2378 - mae: 5071.2378\n",
            "Epoch 62/200\n",
            "34/34 [==============================] - 0s 3ms/step - loss: 4938.2153 - mae: 4938.2153\n",
            "Epoch 63/200\n",
            "34/34 [==============================] - 0s 3ms/step - loss: 4809.5806 - mae: 4809.5806\n",
            "Epoch 64/200\n",
            "34/34 [==============================] - 0s 3ms/step - loss: 4677.5312 - mae: 4677.5312\n",
            "Epoch 65/200\n",
            "34/34 [==============================] - 0s 3ms/step - loss: 4553.2744 - mae: 4553.2744\n",
            "Epoch 66/200\n",
            "34/34 [==============================] - 0s 3ms/step - loss: 4435.3662 - mae: 4435.3662\n",
            "Epoch 67/200\n",
            "34/34 [==============================] - 0s 3ms/step - loss: 4330.1143 - mae: 4330.1143\n",
            "Epoch 68/200\n",
            "34/34 [==============================] - 0s 4ms/step - loss: 4225.9810 - mae: 4225.9810\n",
            "Epoch 69/200\n",
            "34/34 [==============================] - 0s 3ms/step - loss: 4129.3159 - mae: 4129.3159\n",
            "Epoch 70/200\n",
            "34/34 [==============================] - 0s 3ms/step - loss: 4041.1580 - mae: 4041.1580\n",
            "Epoch 71/200\n",
            "34/34 [==============================] - 0s 3ms/step - loss: 3962.2854 - mae: 3962.2854\n",
            "Epoch 72/200\n",
            "34/34 [==============================] - 0s 3ms/step - loss: 3893.6934 - mae: 3893.6934\n",
            "Epoch 73/200\n",
            "34/34 [==============================] - 0s 4ms/step - loss: 3838.5237 - mae: 3838.5237\n",
            "Epoch 74/200\n",
            "34/34 [==============================] - 0s 3ms/step - loss: 3790.7329 - mae: 3790.7329\n",
            "Epoch 75/200\n",
            "34/34 [==============================] - 0s 3ms/step - loss: 3757.0691 - mae: 3757.0691\n",
            "Epoch 76/200\n",
            "34/34 [==============================] - 0s 3ms/step - loss: 3731.8286 - mae: 3731.8286\n",
            "Epoch 77/200\n",
            "34/34 [==============================] - 0s 3ms/step - loss: 3710.8884 - mae: 3710.8884\n",
            "Epoch 78/200\n",
            "34/34 [==============================] - 0s 4ms/step - loss: 3696.8118 - mae: 3696.8118\n",
            "Epoch 79/200\n",
            "34/34 [==============================] - 0s 4ms/step - loss: 3687.5415 - mae: 3687.5415\n",
            "Epoch 80/200\n",
            "34/34 [==============================] - 0s 3ms/step - loss: 3678.8188 - mae: 3678.8188\n",
            "Epoch 81/200\n",
            "34/34 [==============================] - 0s 3ms/step - loss: 3673.7395 - mae: 3673.7395\n",
            "Epoch 82/200\n",
            "34/34 [==============================] - 0s 3ms/step - loss: 3671.0444 - mae: 3671.0444\n",
            "Epoch 83/200\n",
            "34/34 [==============================] - 0s 3ms/step - loss: 3665.4163 - mae: 3665.4163\n",
            "Epoch 84/200\n",
            "34/34 [==============================] - 0s 3ms/step - loss: 3662.9490 - mae: 3662.9490\n",
            "Epoch 85/200\n",
            "34/34 [==============================] - 0s 3ms/step - loss: 3660.4285 - mae: 3660.4285\n",
            "Epoch 86/200\n",
            "34/34 [==============================] - 0s 3ms/step - loss: 3659.0630 - mae: 3659.0630\n",
            "Epoch 87/200\n",
            "34/34 [==============================] - 0s 3ms/step - loss: 3656.0061 - mae: 3656.0061\n",
            "Epoch 88/200\n",
            "34/34 [==============================] - 0s 3ms/step - loss: 3653.8699 - mae: 3653.8699\n",
            "Epoch 89/200\n",
            "34/34 [==============================] - 0s 3ms/step - loss: 3652.6001 - mae: 3652.6001\n",
            "Epoch 90/200\n",
            "34/34 [==============================] - 0s 3ms/step - loss: 3650.7822 - mae: 3650.7822\n",
            "Epoch 91/200\n",
            "34/34 [==============================] - 0s 3ms/step - loss: 3647.6487 - mae: 3647.6487\n",
            "Epoch 92/200\n",
            "34/34 [==============================] - 0s 3ms/step - loss: 3646.9744 - mae: 3646.9744\n",
            "Epoch 93/200\n",
            "34/34 [==============================] - 0s 3ms/step - loss: 3644.8164 - mae: 3644.8164\n",
            "Epoch 94/200\n",
            "34/34 [==============================] - 0s 3ms/step - loss: 3643.0625 - mae: 3643.0625\n",
            "Epoch 95/200\n",
            "34/34 [==============================] - 0s 3ms/step - loss: 3643.9946 - mae: 3643.9946\n",
            "Epoch 96/200\n",
            "34/34 [==============================] - 0s 3ms/step - loss: 3641.1108 - mae: 3641.1108\n",
            "Epoch 97/200\n",
            "34/34 [==============================] - 0s 3ms/step - loss: 3638.5801 - mae: 3638.5801\n",
            "Epoch 98/200\n",
            "34/34 [==============================] - 0s 3ms/step - loss: 3636.5212 - mae: 3636.5212\n",
            "Epoch 99/200\n",
            "34/34 [==============================] - 0s 3ms/step - loss: 3635.8035 - mae: 3635.8035\n",
            "Epoch 100/200\n",
            "34/34 [==============================] - 0s 3ms/step - loss: 3634.5542 - mae: 3634.5542\n",
            "Epoch 101/200\n",
            "34/34 [==============================] - 0s 4ms/step - loss: 3631.4229 - mae: 3631.4229\n",
            "Epoch 102/200\n",
            "34/34 [==============================] - 0s 3ms/step - loss: 3628.9832 - mae: 3628.9832\n",
            "Epoch 103/200\n",
            "34/34 [==============================] - 0s 3ms/step - loss: 3627.7683 - mae: 3627.7683\n",
            "Epoch 104/200\n",
            "34/34 [==============================] - 0s 3ms/step - loss: 3625.4177 - mae: 3625.4177\n",
            "Epoch 105/200\n",
            "34/34 [==============================] - 0s 3ms/step - loss: 3623.7996 - mae: 3623.7996\n",
            "Epoch 106/200\n",
            "34/34 [==============================] - 0s 3ms/step - loss: 3622.4277 - mae: 3622.4277\n",
            "Epoch 107/200\n",
            "34/34 [==============================] - 0s 3ms/step - loss: 3621.8186 - mae: 3621.8186\n",
            "Epoch 108/200\n",
            "34/34 [==============================] - 0s 3ms/step - loss: 3619.1665 - mae: 3619.1665\n",
            "Epoch 109/200\n",
            "34/34 [==============================] - 0s 3ms/step - loss: 3619.7312 - mae: 3619.7312\n",
            "Epoch 110/200\n",
            "34/34 [==============================] - 0s 3ms/step - loss: 3616.3445 - mae: 3616.3445\n",
            "Epoch 111/200\n",
            "34/34 [==============================] - 0s 3ms/step - loss: 3613.5664 - mae: 3613.5664\n",
            "Epoch 112/200\n",
            "34/34 [==============================] - 0s 3ms/step - loss: 3611.5723 - mae: 3611.5723\n",
            "Epoch 113/200\n",
            "34/34 [==============================] - 0s 3ms/step - loss: 3609.9592 - mae: 3609.9592\n",
            "Epoch 114/200\n",
            "34/34 [==============================] - 0s 3ms/step - loss: 3609.0701 - mae: 3609.0701\n",
            "Epoch 115/200\n",
            "34/34 [==============================] - 0s 3ms/step - loss: 3607.3860 - mae: 3607.3860\n",
            "Epoch 116/200\n",
            "34/34 [==============================] - 0s 3ms/step - loss: 3605.8940 - mae: 3605.8940\n",
            "Epoch 117/200\n",
            "34/34 [==============================] - 0s 3ms/step - loss: 3602.7900 - mae: 3602.7900\n",
            "Epoch 118/200\n",
            "34/34 [==============================] - 0s 3ms/step - loss: 3598.9539 - mae: 3598.9539\n",
            "Epoch 119/200\n",
            "34/34 [==============================] - 0s 3ms/step - loss: 3601.1270 - mae: 3601.1270\n",
            "Epoch 120/200\n",
            "34/34 [==============================] - 0s 3ms/step - loss: 3598.3723 - mae: 3598.3723\n",
            "Epoch 121/200\n",
            "34/34 [==============================] - 0s 3ms/step - loss: 3593.1262 - mae: 3593.1262\n",
            "Epoch 122/200\n",
            "34/34 [==============================] - 0s 3ms/step - loss: 3592.5857 - mae: 3592.5857\n",
            "Epoch 123/200\n",
            "34/34 [==============================] - 0s 3ms/step - loss: 3590.6882 - mae: 3590.6882\n",
            "Epoch 124/200\n",
            "34/34 [==============================] - 0s 3ms/step - loss: 3588.3306 - mae: 3588.3306\n",
            "Epoch 125/200\n",
            "34/34 [==============================] - 0s 4ms/step - loss: 3586.2009 - mae: 3586.2009\n",
            "Epoch 126/200\n",
            "34/34 [==============================] - 0s 3ms/step - loss: 3585.3701 - mae: 3585.3701\n",
            "Epoch 127/200\n",
            "34/34 [==============================] - 0s 3ms/step - loss: 3585.7146 - mae: 3585.7146\n",
            "Epoch 128/200\n",
            "34/34 [==============================] - 0s 3ms/step - loss: 3582.1270 - mae: 3582.1270\n",
            "Epoch 129/200\n",
            "34/34 [==============================] - 0s 3ms/step - loss: 3580.6401 - mae: 3580.6401\n",
            "Epoch 130/200\n",
            "34/34 [==============================] - 0s 3ms/step - loss: 3576.9275 - mae: 3576.9275\n",
            "Epoch 131/200\n",
            "34/34 [==============================] - 0s 3ms/step - loss: 3575.5691 - mae: 3575.5691\n",
            "Epoch 132/200\n",
            "34/34 [==============================] - 0s 3ms/step - loss: 3572.7925 - mae: 3572.7925\n",
            "Epoch 133/200\n",
            "34/34 [==============================] - 0s 3ms/step - loss: 3571.0918 - mae: 3571.0918\n",
            "Epoch 134/200\n",
            "34/34 [==============================] - 0s 3ms/step - loss: 3569.1646 - mae: 3569.1646\n",
            "Epoch 135/200\n",
            "34/34 [==============================] - 0s 3ms/step - loss: 3567.0559 - mae: 3567.0559\n",
            "Epoch 136/200\n",
            "34/34 [==============================] - 0s 3ms/step - loss: 3565.6821 - mae: 3565.6821\n",
            "Epoch 137/200\n",
            "34/34 [==============================] - 0s 3ms/step - loss: 3564.2092 - mae: 3564.2092\n",
            "Epoch 138/200\n",
            "34/34 [==============================] - 0s 3ms/step - loss: 3561.7463 - mae: 3561.7463\n",
            "Epoch 139/200\n",
            "34/34 [==============================] - 0s 3ms/step - loss: 3561.2246 - mae: 3561.2246\n",
            "Epoch 140/200\n",
            "34/34 [==============================] - 0s 3ms/step - loss: 3558.8347 - mae: 3558.8347\n",
            "Epoch 141/200\n",
            "34/34 [==============================] - 0s 3ms/step - loss: 3559.1072 - mae: 3559.1072\n",
            "Epoch 142/200\n",
            "34/34 [==============================] - 0s 3ms/step - loss: 3556.0989 - mae: 3556.0989\n",
            "Epoch 143/200\n",
            "34/34 [==============================] - 0s 3ms/step - loss: 3556.4526 - mae: 3556.4526\n",
            "Epoch 144/200\n",
            "34/34 [==============================] - 0s 3ms/step - loss: 3553.4329 - mae: 3553.4329\n",
            "Epoch 145/200\n",
            "34/34 [==============================] - 0s 3ms/step - loss: 3551.4810 - mae: 3551.4810\n",
            "Epoch 146/200\n",
            "34/34 [==============================] - 0s 4ms/step - loss: 3551.6567 - mae: 3551.6567\n",
            "Epoch 147/200\n",
            "34/34 [==============================] - 0s 3ms/step - loss: 3549.2744 - mae: 3549.2744\n",
            "Epoch 148/200\n",
            "34/34 [==============================] - 0s 3ms/step - loss: 3547.9473 - mae: 3547.9473\n",
            "Epoch 149/200\n",
            "34/34 [==============================] - 0s 3ms/step - loss: 3545.1982 - mae: 3545.1982\n",
            "Epoch 150/200\n",
            "34/34 [==============================] - 0s 3ms/step - loss: 3545.0854 - mae: 3545.0854\n",
            "Epoch 151/200\n",
            "34/34 [==============================] - 0s 3ms/step - loss: 3543.1077 - mae: 3543.1077\n",
            "Epoch 152/200\n",
            "34/34 [==============================] - 0s 3ms/step - loss: 3541.4407 - mae: 3541.4407\n",
            "Epoch 153/200\n",
            "34/34 [==============================] - 0s 3ms/step - loss: 3540.0811 - mae: 3540.0811\n",
            "Epoch 154/200\n",
            "34/34 [==============================] - 0s 3ms/step - loss: 3541.2275 - mae: 3541.2275\n",
            "Epoch 155/200\n",
            "34/34 [==============================] - 0s 3ms/step - loss: 3538.5515 - mae: 3538.5515\n",
            "Epoch 156/200\n",
            "34/34 [==============================] - 0s 3ms/step - loss: 3537.1836 - mae: 3537.1836\n",
            "Epoch 157/200\n",
            "34/34 [==============================] - 0s 3ms/step - loss: 3535.5923 - mae: 3535.5923\n",
            "Epoch 158/200\n",
            "34/34 [==============================] - 0s 3ms/step - loss: 3532.6011 - mae: 3532.6011\n",
            "Epoch 159/200\n",
            "34/34 [==============================] - 0s 3ms/step - loss: 3531.0454 - mae: 3531.0454\n",
            "Epoch 160/200\n",
            "34/34 [==============================] - 0s 3ms/step - loss: 3530.6782 - mae: 3530.6782\n",
            "Epoch 161/200\n",
            "34/34 [==============================] - 0s 3ms/step - loss: 3527.6670 - mae: 3527.6670\n",
            "Epoch 162/200\n",
            "34/34 [==============================] - 0s 3ms/step - loss: 3526.9800 - mae: 3526.9800\n",
            "Epoch 163/200\n",
            "34/34 [==============================] - 0s 3ms/step - loss: 3525.1382 - mae: 3525.1382\n",
            "Epoch 164/200\n",
            "34/34 [==============================] - 0s 3ms/step - loss: 3524.7781 - mae: 3524.7781\n",
            "Epoch 165/200\n",
            "34/34 [==============================] - 0s 3ms/step - loss: 3522.6548 - mae: 3522.6548\n",
            "Epoch 166/200\n",
            "34/34 [==============================] - 0s 3ms/step - loss: 3521.0906 - mae: 3521.0906\n",
            "Epoch 167/200\n",
            "34/34 [==============================] - 0s 3ms/step - loss: 3520.1348 - mae: 3520.1348\n",
            "Epoch 168/200\n",
            "34/34 [==============================] - 0s 3ms/step - loss: 3519.0342 - mae: 3519.0342\n",
            "Epoch 169/200\n",
            "34/34 [==============================] - 0s 3ms/step - loss: 3517.8369 - mae: 3517.8369\n",
            "Epoch 170/200\n",
            "34/34 [==============================] - 0s 3ms/step - loss: 3516.1194 - mae: 3516.1194\n",
            "Epoch 171/200\n",
            "34/34 [==============================] - 0s 3ms/step - loss: 3515.6912 - mae: 3515.6912\n",
            "Epoch 172/200\n",
            "34/34 [==============================] - 0s 3ms/step - loss: 3514.1917 - mae: 3514.1917\n",
            "Epoch 173/200\n",
            "34/34 [==============================] - 0s 3ms/step - loss: 3512.9866 - mae: 3512.9866\n",
            "Epoch 174/200\n",
            "34/34 [==============================] - 0s 3ms/step - loss: 3511.8384 - mae: 3511.8384\n",
            "Epoch 175/200\n",
            "34/34 [==============================] - 0s 3ms/step - loss: 3510.2927 - mae: 3510.2927\n",
            "Epoch 176/200\n",
            "34/34 [==============================] - 0s 3ms/step - loss: 3510.4866 - mae: 3510.4866\n",
            "Epoch 177/200\n",
            "34/34 [==============================] - 0s 3ms/step - loss: 3510.7917 - mae: 3510.7917\n",
            "Epoch 178/200\n",
            "34/34 [==============================] - 0s 3ms/step - loss: 3508.2979 - mae: 3508.2979\n",
            "Epoch 179/200\n",
            "34/34 [==============================] - 0s 3ms/step - loss: 3510.2456 - mae: 3510.2456\n",
            "Epoch 180/200\n",
            "34/34 [==============================] - 0s 3ms/step - loss: 3505.1685 - mae: 3505.1685\n",
            "Epoch 181/200\n",
            "34/34 [==============================] - 0s 3ms/step - loss: 3503.0889 - mae: 3503.0889\n",
            "Epoch 182/200\n",
            "34/34 [==============================] - 0s 3ms/step - loss: 3502.4375 - mae: 3502.4375\n",
            "Epoch 183/200\n",
            "34/34 [==============================] - 0s 3ms/step - loss: 3500.5244 - mae: 3500.5244\n",
            "Epoch 184/200\n",
            "34/34 [==============================] - 0s 3ms/step - loss: 3499.9561 - mae: 3499.9561\n",
            "Epoch 185/200\n",
            "34/34 [==============================] - 0s 3ms/step - loss: 3499.4490 - mae: 3499.4490\n",
            "Epoch 186/200\n",
            "34/34 [==============================] - 0s 3ms/step - loss: 3497.1384 - mae: 3497.1384\n",
            "Epoch 187/200\n",
            "34/34 [==============================] - 0s 3ms/step - loss: 3497.2346 - mae: 3497.2346\n",
            "Epoch 188/200\n",
            "34/34 [==============================] - 0s 3ms/step - loss: 3494.6462 - mae: 3494.6462\n",
            "Epoch 189/200\n",
            "34/34 [==============================] - 0s 3ms/step - loss: 3492.7275 - mae: 3492.7275\n",
            "Epoch 190/200\n",
            "34/34 [==============================] - 0s 4ms/step - loss: 3494.7366 - mae: 3494.7366\n",
            "Epoch 191/200\n",
            "34/34 [==============================] - 0s 3ms/step - loss: 3499.7996 - mae: 3499.7996\n",
            "Epoch 192/200\n",
            "34/34 [==============================] - 0s 3ms/step - loss: 3489.8665 - mae: 3489.8665\n",
            "Epoch 193/200\n",
            "34/34 [==============================] - 0s 3ms/step - loss: 3489.6826 - mae: 3489.6826\n",
            "Epoch 194/200\n",
            "34/34 [==============================] - 0s 3ms/step - loss: 3486.7568 - mae: 3486.7568\n",
            "Epoch 195/200\n",
            "34/34 [==============================] - 0s 3ms/step - loss: 3485.8770 - mae: 3485.8770\n",
            "Epoch 196/200\n",
            "34/34 [==============================] - 0s 3ms/step - loss: 3487.1121 - mae: 3487.1121\n",
            "Epoch 197/200\n",
            "34/34 [==============================] - 0s 3ms/step - loss: 3483.9749 - mae: 3483.9749\n",
            "Epoch 198/200\n",
            "34/34 [==============================] - 0s 3ms/step - loss: 3482.6431 - mae: 3482.6431\n",
            "Epoch 199/200\n",
            "34/34 [==============================] - 0s 4ms/step - loss: 3481.3542 - mae: 3481.3542\n",
            "Epoch 200/200\n",
            "34/34 [==============================] - 0s 3ms/step - loss: 3482.0337 - mae: 3482.0337\n"
          ]
        },
        {
          "data": {
            "text/plain": [
              "<keras.callbacks.History at 0x202e5304520>"
            ]
          },
          "execution_count": 9,
          "metadata": {},
          "output_type": "execute_result"
        }
      ],
      "source": [
        "import tensorflow as tf\n",
        "# Set random seed\n",
        "tf.random.set_seed(42)\n",
        "\n",
        "# Build the model (3 layers, 100, 10, 1 units)\n",
        "insurance_model = tf.keras.Sequential([\n",
        "  tf.keras.layers.Dense(100),\n",
        "  tf.keras.layers.Dense(10),\n",
        "  tf.keras.layers.Dense(1)\n",
        "])\n",
        "\n",
        "# Compile the model\n",
        "insurance_model.compile(loss=tf.keras.losses.mae,\n",
        "                          optimizer=tf.keras.optimizers.Adam(),\n",
        "                          metrics=['mae'])\n",
        "\n",
        "# Fit the model for 200 epochs (same as insurance_model_)\n",
        "insurance_model.fit(X_train_normal, y_train, epochs=200) "
      ]
    },
    {
      "cell_type": "markdown",
      "metadata": {
        "id": "-DjwktO6jW41"
      },
      "source": [
        "Let's evaluate the model on normalized test set."
      ]
    },
    {
      "cell_type": "code",
      "execution_count": 10,
      "metadata": {
        "colab": {
          "base_uri": "https://localhost:8080/"
        },
        "id": "sBcXZu9AnZfP",
        "outputId": "383dfb1a-ef18-4ad7-c696-41453afb729f"
      },
      "outputs": [
        {
          "name": "stdout",
          "output_type": "stream",
          "text": [
            "9/9 [==============================] - 0s 4ms/step - loss: 3168.9539 - mae: 3168.9539\n"
          ]
        }
      ],
      "source": [
        "# Evaulate 3rd model\n",
        "insurance_model_loss, insurance_model_mae = insurance_model.evaluate(X_test_normal, y_test)"
      ]
    },
    {
      "cell_type": "markdown",
      "metadata": {
        "id": "ZlHro290jhtX"
      },
      "source": [
        "And finally, let's compare the results from `insurance_model_2` (trained on non-normalized data) and `insurance_model_3` (trained on normalized data)."
      ]
    },
    {
      "cell_type": "markdown",
      "metadata": {
        "id": "gUttViY4jzi8"
      },
      "source": [
        "From this we can see normalizing the data results in 10% less error using the same model than not normalizing the data.\n",
        "\n",
        "This is **one of the main benefits of normalization: faster convergence time** (a fancy way of saying, your model gets to better results faster).\n",
        "\n",
        "`insurance_model_2` may have eventually achieved the same results as `insurance_model_3` if we left it training for longer. \n",
        "\n",
        "Also, the results may change if we were to alter the architectures of the models, e.g. more hidden units per layer or more layers.\n",
        "\n",
        "But since our main goal as neural network practitioners is to decrease the time between experiments, anything that helps us get better results sooner is a plus."
      ]
    },
    {
      "cell_type": "markdown",
      "metadata": {
        "id": "NhIPO_KqocHP"
      },
      "source": [
        "## 🛠 Exercises\n",
        "\n",
        "We've a covered a whole lot pretty quickly.\n",
        "\n",
        "So now it's time to have a **play around** with a few things and start to build up your intuition.\n",
        "\n",
        "I emphasise the words play around because that's very important. Try a few things out, run the code and see what happens.\n",
        "\n",
        "1. Create your own regression dataset (or make the one we created in \"Create data to view and fit\" bigger) and build fit a model to it.\n",
        "2. Try building a neural network with 4 Dense layers and fitting it to your own regression dataset, how does it perform?\n",
        "3. Try and improve the results we got on the insurance dataset, some things you might want to try include:\n",
        "  * Building a larger model (how does one with 4 dense layers go?).\n",
        "  * Increasing the number of units in each layer.\n",
        "  * Lookup the documentation of [Adam](https://www.tensorflow.org/api_docs/python/tf/keras/optimizers/Adam) and find out what the first parameter is, what happens if you increase it by 10x?\n",
        "  * What happens if you train for longer (say 300 epochs instead of 200)? \n",
        "4. Import the [Boston pricing dataset](https://www.tensorflow.org/api_docs/python/tf/keras/datasets/boston_housing/load_data) from TensorFlow [`tf.keras.datasets`](https://www.tensorflow.org/api_docs/python/tf/keras/datasets) and model it.\n"
      ]
    },
    {
      "cell_type": "markdown",
      "metadata": {
        "id": "AyiHG2nubmu7"
      },
      "source": [
        "## 📖 Extra curriculum\n",
        "\n",
        "If you're looking for extra materials relating to this notebook, I'd check out the following:\n",
        "\n",
        "* [MIT introduction deep learning lecture 1](https://youtu.be/njKP3FqW3Sk) - gives a great overview of what's happening behind all of the code we're running.\n",
        "* Reading: 1-hour of [Chapter 1 of Neural Networks and Deep Learning](http://neuralnetworksanddeeplearning.com/chap1.html) by Michael Nielson - a great in-depth and hands-on example of the intuition behind neural networks.\n",
        "\n",
        "To practice your regression modelling with TensorFlow, I'd also encourage you to look through [Lion Bridge's collection of datasets](https://lionbridge.ai/datasets/) or [Kaggle's datasets](https://www.kaggle.com/data), find a regression dataset which sparks your interest and try to model."
      ]
    }
  ],
  "metadata": {
    "accelerator": "GPU",
    "colab": {
      "gpuType": "V100",
      "include_colab_link": true,
      "machine_shape": "hm",
      "provenance": [],
      "toc_visible": true
    },
    "gpuClass": "standard",
    "kernelspec": {
      "display_name": "tf",
      "language": "python",
      "name": "python3"
    },
    "language_info": {
      "codemirror_mode": {
        "name": "ipython",
        "version": 3
      },
      "file_extension": ".py",
      "mimetype": "text/x-python",
      "name": "python",
      "nbconvert_exporter": "python",
      "pygments_lexer": "ipython3",
      "version": "3.10.16"
    }
  },
  "nbformat": 4,
  "nbformat_minor": 0
}
